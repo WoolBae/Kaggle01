{
 "cells": [
  {
   "cell_type": "markdown",
   "metadata": {},
   "source": [
    "# Load package"
   ]
  },
  {
   "cell_type": "code",
   "execution_count": 1,
   "metadata": {
    "collapsed": true
   },
   "outputs": [],
   "source": [
    "% %matplotlib inline\n",
    "import numpy as np\n",
    "import pandas as pd\n",
    "import seaborn as sns\n",
    "import matplotlib.pyplot as plt"
   ]
  },
  {
   "cell_type": "markdown",
   "metadata": {},
   "source": [
    "Data fields\n",
    "\n",
    "TripType - a categorical id representing the type of shopping trip the customer made. This is the ground truth that you are predicting.\n",
    "\n",
    "TripType_999 is an \"other\" category.\n",
    "\n",
    "VisitNumber - an id corresponding to a single trip by a single customer\n",
    "\n",
    "Weekday - the weekday of the trip\n",
    "\n",
    "Upc - the UPC number of the product purchased\n",
    "\n",
    "ScanCount - the number of the given item that was purchased. A negative value indicates a product return.\n",
    "\n",
    "DepartmentDescription - a high-level description of the item's department\n",
    "\n",
    "FinelineNumber - a more refined category for each of the products, created by Walmart"
   ]
  },
  {
   "cell_type": "code",
   "execution_count": 2,
   "metadata": {
    "collapsed": true
   },
   "outputs": [],
   "source": [
    "train = pd.read_csv(\"train.csv\",index_col=\"VisitNumber\")\n",
    "test = pd.read_csv(\"test.csv\",index_col=\"VisitNumber\")"
   ]
  },
  {
   "cell_type": "code",
   "execution_count": 3,
   "metadata": {},
   "outputs": [
    {
     "name": "stdout",
     "output_type": "stream",
     "text": [
      "(647054, 6)\n",
      "(653646, 5)\n"
     ]
    }
   ],
   "source": [
    "print(train.shape)\n",
    "print(test.shape)"
   ]
  },
  {
   "cell_type": "markdown",
   "metadata": {},
   "source": [
    "# Explore Data"
   ]
  },
  {
   "cell_type": "markdown",
   "metadata": {},
   "source": [
    "### Unique Data"
   ]
  },
  {
   "cell_type": "code",
   "execution_count": 4,
   "metadata": {},
   "outputs": [
    {
     "name": "stdout",
     "output_type": "stream",
     "text": [
      "Train uinque\n",
      "TripType = 38 unique data\n",
      "Weekday = 7 unique data\n",
      "Upc = 97715 unique data\n",
      "ScanCount = 39 unique data\n",
      "DepartmentDescription = 69 unique data\n",
      "FinelineNumber = 5196 unique data\n"
     ]
    }
   ],
   "source": [
    "print(\"Train uinque\")\n",
    "for i in train.columns:\n",
    "    print(\"{0} = {1} unique data\".format(i, len(train[i].unique())))   "
   ]
  },
  {
   "cell_type": "code",
   "execution_count": 5,
   "metadata": {},
   "outputs": [
    {
     "name": "stdout",
     "output_type": "stream",
     "text": [
      "Test uinque\n",
      "Weekday = 7 unique data\n",
      "Upc = 98148 unique data\n",
      "ScanCount = 49 unique data\n",
      "DepartmentDescription = 68 unique data\n",
      "FinelineNumber = 5204 unique data\n"
     ]
    }
   ],
   "source": [
    "print(\"Test uinque\")\n",
    "for i in test.columns:\n",
    "    print(\"{0} = {1} unique data\".format(i, len(test[i].unique())))"
   ]
  },
  {
   "cell_type": "markdown",
   "metadata": {},
   "source": [
    "### Missing Data"
   ]
  },
  {
   "cell_type": "code",
   "execution_count": 6,
   "metadata": {},
   "outputs": [
    {
     "name": "stdout",
     "output_type": "stream",
     "text": [
      "train missing\n",
      "\n",
      "TripType has 0.00% missing data\n",
      "Weekday has 0.00% missing data\n",
      "Upc has 0.64% missing data\n",
      "ScanCount has 0.00% missing data\n",
      "DepartmentDescription has 0.21% missing data\n",
      "FinelineNumber has 0.64% missing data\n"
     ]
    }
   ],
   "source": [
    "print(\"train missing\")\n",
    "print(\"\")\n",
    "for i in train.columns:\n",
    "    print(\"{0} has {1:.2f}% missing data\".format(i, (len(train[train[i].isnull()]) / train.shape[0]) *100))"
   ]
  },
  {
   "cell_type": "code",
   "execution_count": 7,
   "metadata": {},
   "outputs": [
    {
     "name": "stdout",
     "output_type": "stream",
     "text": [
      "test missing\n",
      "\n",
      "Weekday has 0.00% missing data\n",
      "Upc has 0.61% missing data\n",
      "ScanCount has 0.00% missing data\n",
      "DepartmentDescription has 0.20% missing data\n",
      "FinelineNumber has 0.61% missing data\n"
     ]
    }
   ],
   "source": [
    "print(\"test missing\")\n",
    "print(\"\")\n",
    "for i in test.columns:\n",
    "    print(\"{0} has {1:.2f}% missing data\".format(i, (len(test[test[i].isnull()]) / test.shape[0]) *100)) "
   ]
  },
  {
   "cell_type": "code",
   "execution_count": 8,
   "metadata": {
    "collapsed": true
   },
   "outputs": [],
   "source": [
    "train.fillna(-9999, inplace=True)\n",
    "test.fillna(-9999,inplace=True)"
   ]
  },
  {
   "cell_type": "code",
   "execution_count": 9,
   "metadata": {
    "collapsed": true
   },
   "outputs": [],
   "source": [
    "train[\"Upc\"] = train[\"Upc\"].astype(\"int64\")\n",
    "test[\"Upc\"] = test[\"Upc\"].astype(\"int64\")\n",
    "\n",
    "train[\"FinelineNumber\"] = train[\"FinelineNumber\"].astype(\"int64\")\n",
    "test[\"FinelineNumber\"] = test[\"FinelineNumber\"].astype(\"int64\")"
   ]
  },
  {
   "cell_type": "markdown",
   "metadata": {},
   "source": [
    "## Target Data = TripType"
   ]
  },
  {
   "cell_type": "code",
   "execution_count": 10,
   "metadata": {},
   "outputs": [
    {
     "data": {
      "text/plain": [
       "<matplotlib.axes._subplots.AxesSubplot at 0x1e917db6668>"
      ]
     },
     "execution_count": 10,
     "metadata": {},
     "output_type": "execute_result"
    },
    {
     "data": {
      "image/png": "[encoded data removed]",
      "text/plain": [
       "<matplotlib.figure.Figure at 0x1e917dbf518>"
      ]
     },
     "metadata": {},
     "output_type": "display_data"
    }
   ],
   "source": [
    "figure, ax = plt.subplots (nrows=1, ncols=1)\n",
    "figure.set_size_inches(14,4)\n",
    "sns.countplot(train[\"TripType\"])"
   ]
  },
  {
   "cell_type": "code",
   "execution_count": 11,
   "metadata": {
    "collapsed": true
   },
   "outputs": [],
   "source": [
    "#key value\n",
    "Top10_type = list(train[\"TripType\"].value_counts()[0:10].index)"
   ]
  },
  {
   "cell_type": "markdown",
   "metadata": {},
   "source": [
    "### Weekday"
   ]
  },
  {
   "cell_type": "markdown",
   "metadata": {},
   "source": [
    "people ususally go shopping on weekend"
   ]
  },
  {
   "cell_type": "code",
   "execution_count": 12,
   "metadata": {},
   "outputs": [
    {
     "data": {
      "text/plain": [
       "<matplotlib.axes._subplots.AxesSubplot at 0x1e917af06a0>"
      ]
     },
     "execution_count": 12,
     "metadata": {},
     "output_type": "execute_result"
    },
    {
     "data": {
      "image/png": "[encoded data removed]",
      "text/plain": [
       "<matplotlib.figure.Figure at 0x1e917a5cb00>"
      ]
     },
     "metadata": {},
     "output_type": "display_data"
    }
   ],
   "source": [
    "sns.countplot(train[\"Weekday\"])"
   ]
  },
  {
   "cell_type": "markdown",
   "metadata": {},
   "source": [
    "### DepartmentDescription"
   ]
  },
  {
   "cell_type": "code",
   "execution_count": 13,
   "metadata": {},
   "outputs": [
    {
     "data": {
      "text/plain": [
       "<matplotlib.axes._subplots.AxesSubplot at 0x1e917af5c18>"
      ]
     },
     "execution_count": 13,
     "metadata": {},
     "output_type": "execute_result"
    },
    {
     "data": {
      "image/png": "[encoded data removed]",
      "text/plain": [
       "<matplotlib.figure.Figure at 0x1e917b90080>"
      ]
     },
     "metadata": {},
     "output_type": "display_data"
    }
   ],
   "source": [
    "group = train[\"DepartmentDescription\"].value_counts()\n",
    "figure,ax = plt.subplots(nrows=1,ncols=1)\n",
    "figure.set_size_inches(40,4)\n",
    "sns.barplot(group.index, group.values)"
   ]
  },
  {
   "cell_type": "code",
   "execution_count": 14,
   "metadata": {},
   "outputs": [
    {
     "data": {
      "text/plain": [
       "GROCERY DRY GOODS           70402\n",
       "DSD GROCERY                 68332\n",
       "PRODUCE                     51115\n",
       "DAIRY                       43820\n",
       "PERSONAL CARE               41969\n",
       "IMPULSE MERCHANDISE         28712\n",
       "HOUSEHOLD CHEMICALS/SUPP    24880\n",
       "PHARMACY OTC                23306\n",
       "FROZEN FOODS                21101\n",
       "HOUSEHOLD PAPER GOODS       16274\n",
       "Name: DepartmentDescription, dtype: int64"
      ]
     },
     "execution_count": 14,
     "metadata": {},
     "output_type": "execute_result"
    }
   ],
   "source": [
    "#top of Dep\n",
    "train[\"DepartmentDescription\"].value_counts()[0:10]"
   ]
  },
  {
   "cell_type": "markdown",
   "metadata": {},
   "source": [
    "### Upc"
   ]
  },
  {
   "cell_type": "code",
   "execution_count": 15,
   "metadata": {},
   "outputs": [
    {
     "data": {
      "text/plain": [
       " 4011           7657\n",
       "-9999           4129\n",
       " 60538862097    2501\n",
       " 7874235186     2067\n",
       " 7874235187     1883\n",
       " 4046           1652\n",
       " 68113107862    1515\n",
       " 60538871457    1487\n",
       " 3338320027     1405\n",
       " 4087           1370\n",
       "Name: Upc, dtype: int64"
      ]
     },
     "execution_count": 15,
     "metadata": {},
     "output_type": "execute_result"
    }
   ],
   "source": [
    "#top of Dep\n",
    "train[\"Upc\"].value_counts()[0:10]"
   ]
  },
  {
   "cell_type": "markdown",
   "metadata": {},
   "source": [
    "### ScanCount"
   ]
  },
  {
   "cell_type": "code",
   "execution_count": 16,
   "metadata": {},
   "outputs": [
    {
     "data": {
      "text/plain": [
       "count    647054.000000\n",
       "mean          1.108878\n",
       "std           0.700776\n",
       "min         -12.000000\n",
       "25%           1.000000\n",
       "50%           1.000000\n",
       "75%           1.000000\n",
       "max          71.000000\n",
       "Name: ScanCount, dtype: float64"
      ]
     },
     "execution_count": 16,
     "metadata": {},
     "output_type": "execute_result"
    }
   ],
   "source": [
    "train[\"ScanCount\"].describe()"
   ]
  },
  {
   "cell_type": "code",
   "execution_count": 17,
   "metadata": {},
   "outputs": [
    {
     "data": {
      "text/plain": [
       "<matplotlib.axes._subplots.AxesSubplot at 0x1e917c43898>"
      ]
     },
     "execution_count": 17,
     "metadata": {},
     "output_type": "execute_result"
    },
    {
     "data": {
      "image/png": "[encoded data removed]",
      "text/plain": [
       "<matplotlib.figure.Figure at 0x1e917599e48>"
      ]
     },
     "metadata": {},
     "output_type": "display_data"
    }
   ],
   "source": [
    "sns.distplot(train[\"ScanCount\"])"
   ]
  },
  {
   "cell_type": "markdown",
   "metadata": {},
   "source": [
    "### FinelineNumber"
   ]
  },
  {
   "cell_type": "code",
   "execution_count": 18,
   "metadata": {},
   "outputs": [
    {
     "data": {
      "text/plain": [
       " 5501    8244\n",
       " 1508    5121\n",
       " 135     4538\n",
       " 808     4401\n",
       "-9999    4129\n",
       " 0       3837\n",
       " 9546    2997\n",
       " 1407    2848\n",
       " 4606    2753\n",
       " 115     2723\n",
       "Name: FinelineNumber, dtype: int64"
      ]
     },
     "execution_count": 18,
     "metadata": {},
     "output_type": "execute_result"
    }
   ],
   "source": [
    "train[\"FinelineNumber\"].value_counts()[0:10]"
   ]
  },
  {
   "cell_type": "markdown",
   "metadata": {},
   "source": [
    "##  merge train and test"
   ]
  },
  {
   "cell_type": "code",
   "execution_count": 19,
   "metadata": {
    "collapsed": true
   },
   "outputs": [],
   "source": [
    "data_all = pd.concat([train,test],axis=0)"
   ]
  },
  {
   "cell_type": "code",
   "execution_count": 20,
   "metadata": {
    "scrolled": true
   },
   "outputs": [
    {
     "name": "stdout",
     "output_type": "stream",
     "text": [
      "<class 'pandas.core.frame.DataFrame'>\n",
      "Int64Index: 1300700 entries, 5 to 191348\n",
      "Data columns (total 6 columns):\n",
      "DepartmentDescription    1300700 non-null object\n",
      "FinelineNumber           1300700 non-null int64\n",
      "ScanCount                1300700 non-null int64\n",
      "TripType                 647054 non-null float64\n",
      "Upc                      1300700 non-null int64\n",
      "Weekday                  1300700 non-null object\n",
      "dtypes: float64(1), int64(3), object(2)\n",
      "memory usage: 69.5+ MB\n"
     ]
    }
   ],
   "source": [
    "data_all.info()"
   ]
  },
  {
   "cell_type": "markdown",
   "metadata": {},
   "source": [
    "# Preprocessing"
   ]
  },
  {
   "cell_type": "markdown",
   "metadata": {},
   "source": [
    "### Department"
   ]
  },
  {
   "cell_type": "code",
   "execution_count": 21,
   "metadata": {
    "collapsed": true
   },
   "outputs": [],
   "source": [
    "depart_list = list(data_all[\"DepartmentDescription\"].unique())"
   ]
  },
  {
   "cell_type": "code",
   "execution_count": 22,
   "metadata": {},
   "outputs": [
    {
     "name": "stdout",
     "output_type": "stream",
     "text": [
      "69\n",
      "['FINANCIAL SERVICES', 'SHOES', 'PERSONAL CARE', 'PAINT AND ACCESSORIES', 'DSD GROCERY', 'MEAT - FRESH & FROZEN', 'DAIRY', 'PETS AND SUPPLIES', 'HOUSEHOLD CHEMICALS/SUPP', -9999, 'IMPULSE MERCHANDISE', 'PRODUCE', 'CANDY, TOBACCO, COOKIES', 'GROCERY DRY GOODS', 'BOYS WEAR', 'FABRICS AND CRAFTS', 'JEWELRY AND SUNGLASSES', 'MENS WEAR', 'ACCESSORIES', 'HOME MANAGEMENT', 'FROZEN FOODS', 'SERVICE DELI', 'INFANT CONSUMABLE HARDLINES', 'PRE PACKED DELI', 'COOK AND DINE', 'PHARMACY OTC', 'LADIESWEAR', 'COMM BREAD', 'BAKERY', 'HOUSEHOLD PAPER GOODS', 'CELEBRATION', 'HARDWARE', 'BEAUTY', 'AUTOMOTIVE', 'BOOKS AND MAGAZINES', 'SEAFOOD', 'OFFICE SUPPLIES', 'LAWN AND GARDEN', 'SHEER HOSIERY', 'WIRELESS', 'BEDDING', 'BATH AND SHOWER', 'HORTICULTURE AND ACCESS', 'HOME DECOR', 'TOYS', 'INFANT APPAREL', 'LADIES SOCKS', 'PLUS AND MATERNITY', 'ELECTRONICS', 'GIRLS WEAR, 4-6X  AND 7-14', 'BRAS & SHAPEWEAR', 'LIQUOR,WINE,BEER', 'SLEEPWEAR/FOUNDATIONS', 'CAMERAS AND SUPPLIES', 'SPORTING GOODS', 'PLAYERS AND ELECTRONICS', 'PHARMACY RX', 'MENSWEAR', 'OPTICAL - FRAMES', 'SWIMWEAR/OUTERWEAR', 'OTHER DEPARTMENTS', 'MEDIA AND GAMING', 'FURNITURE', 'OPTICAL - LENSES', 'SEASONAL', 'LARGE HOUSEHOLD GOODS', '1-HR PHOTO', 'CONCEPT STORES', 'HEALTH AND BEAUTY AIDS']\n"
     ]
    }
   ],
   "source": [
    "print(len(depart_list))\n",
    "print(depart_list)"
   ]
  },
  {
   "cell_type": "markdown",
   "metadata": {},
   "source": [
    "MENSWEAR and MENS WEAR are smae one ,  OPTICAL - LENSES and OPTICAL - FRAMES too"
   ]
  },
  {
   "cell_type": "code",
   "execution_count": 23,
   "metadata": {
    "collapsed": true
   },
   "outputs": [],
   "source": [
    "data_all.loc[data_all[\"DepartmentDescription\"] ==\"MENS WEAR\",\"DepartmentDescription\"]=\"MENSWEAR\"\n",
    "data_all.loc[data_all[\"DepartmentDescription\"] ==\"OPTICAL - LENSES\",\"DepartmentDescription\"] =\"LENSE\"\n",
    "data_all.loc[data_all[\"DepartmentDescription\"] ==\"OPTICAL| - FRAMES\",\"DepartmentDescription\"] =\"LENSE\""
   ]
  },
  {
   "cell_type": "markdown",
   "metadata": {},
   "source": [
    "### Encode DepartmentDescription"
   ]
  },
  {
   "cell_type": "code",
   "execution_count": 24,
   "metadata": {
    "collapsed": true
   },
   "outputs": [],
   "source": [
    "depart = pd.get_dummies(data_all[\"DepartmentDescription\"])\n",
    "data_all =pd.concat([data_all,depart],axis=1)\n",
    "data_all.drop(\"DepartmentDescription\",axis=1,inplace=True)"
   ]
  },
  {
   "cell_type": "markdown",
   "metadata": {},
   "source": [
    "### Encode Weekday"
   ]
  },
  {
   "cell_type": "code",
   "execution_count": 25,
   "metadata": {
    "collapsed": true
   },
   "outputs": [],
   "source": [
    "data_all[\"weekend\"] = (data_all[\"Weekday\"] == \"Sunday\")|(data_all[\"Weekday\"]== \"Saturday\")"
   ]
  },
  {
   "cell_type": "code",
   "execution_count": 26,
   "metadata": {
    "collapsed": true
   },
   "outputs": [],
   "source": [
    "week = pd.get_dummies(data_all[\"Weekday\"])\n",
    "data_all =pd.concat([data_all,week],axis=1)\n",
    "data_all.drop(\"Weekday\",axis=1,inplace=True)"
   ]
  },
  {
   "cell_type": "markdown",
   "metadata": {},
   "source": [
    "### Encode ScanCount(Neagative is return)"
   ]
  },
  {
   "cell_type": "code",
   "execution_count": 27,
   "metadata": {
    "collapsed": true
   },
   "outputs": [],
   "source": [
    "data_all[\"return\"] = data_all[\"ScanCount\"] < 0"
   ]
  },
  {
   "cell_type": "code",
   "execution_count": 28,
   "metadata": {
    "collapsed": true
   },
   "outputs": [],
   "source": [
    "data_all[\"return\"] = data_all[\"return\"].astype(\"int\")"
   ]
  },
  {
   "cell_type": "code",
   "execution_count": 29,
   "metadata": {
    "collapsed": true
   },
   "outputs": [],
   "source": [
    "scant =pd.get_dummies(data_all[\"ScanCount\"],prefix=\"ScanCount\")"
   ]
  },
  {
   "cell_type": "code",
   "execution_count": 30,
   "metadata": {
    "collapsed": true
   },
   "outputs": [],
   "source": [
    "data_all =pd.concat([data_all,scant],axis=1)\n",
    "data_all.drop(\"ScanCount\",axis=1,inplace=True)"
   ]
  },
  {
   "cell_type": "markdown",
   "metadata": {},
   "source": [
    "## Deal with Upc"
   ]
  },
  {
   "cell_type": "code",
   "execution_count": 31,
   "metadata": {
    "collapsed": true
   },
   "outputs": [],
   "source": [
    "upc = list(data_all[\"Upc\"].astype(\"str\"))\n",
    "\n",
    "re_upc = []\n",
    "\n",
    "for i in range(len(upc)):\n",
    "    re_upc.append(upc[i][0:2])"
   ]
  },
  {
   "cell_type": "code",
   "execution_count": 32,
   "metadata": {
    "collapsed": true
   },
   "outputs": [],
   "source": [
    "data_all[\"re_upc\"] = re_upc"
   ]
  },
  {
   "cell_type": "code",
   "execution_count": 33,
   "metadata": {},
   "outputs": [
    {
     "data": {
      "text/plain": [
       "91"
      ]
     },
     "execution_count": 33,
     "metadata": {},
     "output_type": "execute_result"
    }
   ],
   "source": [
    "len(data_all[\"re_upc\"].unique())"
   ]
  },
  {
   "cell_type": "code",
   "execution_count": 34,
   "metadata": {
    "collapsed": true
   },
   "outputs": [],
   "source": [
    "re_upc = pd.get_dummies(data_all[\"re_upc\"],prefix=\"re_upc\")"
   ]
  },
  {
   "cell_type": "code",
   "execution_count": 35,
   "metadata": {
    "collapsed": true
   },
   "outputs": [],
   "source": [
    "re_col = list(re_upc.columns)"
   ]
  },
  {
   "cell_type": "code",
   "execution_count": 36,
   "metadata": {
    "collapsed": true
   },
   "outputs": [],
   "source": [
    "re_upc.reset_index(inplace=True)"
   ]
  },
  {
   "cell_type": "code",
   "execution_count": 37,
   "metadata": {
    "collapsed": true
   },
   "outputs": [],
   "source": [
    "re_upc = re_upc.astype(\"float32\")"
   ]
  },
  {
   "cell_type": "code",
   "execution_count": 38,
   "metadata": {},
   "outputs": [
    {
     "data": {
      "text/html": [
       "<div>\n",
       "<style>\n",
       "    .dataframe thead tr:only-child th {\n",
       "        text-align: right;\n",
       "    }\n",
       "\n",
       "    .dataframe thead th {\n",
       "        text-align: left;\n",
       "    }\n",
       "\n",
       "    .dataframe tbody tr th {\n",
       "        vertical-align: top;\n",
       "    }\n",
       "</style>\n",
       "<table border=\"1\" class=\"dataframe\">\n",
       "  <thead>\n",
       "    <tr style=\"text-align: right;\">\n",
       "      <th></th>\n",
       "      <th>VisitNumber</th>\n",
       "      <th>re_upc_-9</th>\n",
       "      <th>re_upc_10</th>\n",
       "      <th>re_upc_11</th>\n",
       "      <th>re_upc_12</th>\n",
       "      <th>re_upc_13</th>\n",
       "      <th>re_upc_14</th>\n",
       "      <th>re_upc_15</th>\n",
       "      <th>re_upc_16</th>\n",
       "      <th>re_upc_17</th>\n",
       "      <th>...</th>\n",
       "      <th>re_upc_90</th>\n",
       "      <th>re_upc_91</th>\n",
       "      <th>re_upc_92</th>\n",
       "      <th>re_upc_93</th>\n",
       "      <th>re_upc_94</th>\n",
       "      <th>re_upc_95</th>\n",
       "      <th>re_upc_96</th>\n",
       "      <th>re_upc_97</th>\n",
       "      <th>re_upc_98</th>\n",
       "      <th>re_upc_99</th>\n",
       "    </tr>\n",
       "  </thead>\n",
       "  <tbody>\n",
       "    <tr>\n",
       "      <th>0</th>\n",
       "      <td>5.0</td>\n",
       "      <td>0.0</td>\n",
       "      <td>0.0</td>\n",
       "      <td>0.0</td>\n",
       "      <td>0.0</td>\n",
       "      <td>0.0</td>\n",
       "      <td>0.0</td>\n",
       "      <td>0.0</td>\n",
       "      <td>0.0</td>\n",
       "      <td>0.0</td>\n",
       "      <td>...</td>\n",
       "      <td>0.0</td>\n",
       "      <td>0.0</td>\n",
       "      <td>0.0</td>\n",
       "      <td>0.0</td>\n",
       "      <td>0.0</td>\n",
       "      <td>0.0</td>\n",
       "      <td>0.0</td>\n",
       "      <td>0.0</td>\n",
       "      <td>0.0</td>\n",
       "      <td>0.0</td>\n",
       "    </tr>\n",
       "    <tr>\n",
       "      <th>1</th>\n",
       "      <td>7.0</td>\n",
       "      <td>0.0</td>\n",
       "      <td>0.0</td>\n",
       "      <td>0.0</td>\n",
       "      <td>0.0</td>\n",
       "      <td>0.0</td>\n",
       "      <td>0.0</td>\n",
       "      <td>0.0</td>\n",
       "      <td>0.0</td>\n",
       "      <td>0.0</td>\n",
       "      <td>...</td>\n",
       "      <td>0.0</td>\n",
       "      <td>0.0</td>\n",
       "      <td>0.0</td>\n",
       "      <td>0.0</td>\n",
       "      <td>0.0</td>\n",
       "      <td>0.0</td>\n",
       "      <td>0.0</td>\n",
       "      <td>0.0</td>\n",
       "      <td>0.0</td>\n",
       "      <td>0.0</td>\n",
       "    </tr>\n",
       "    <tr>\n",
       "      <th>2</th>\n",
       "      <td>7.0</td>\n",
       "      <td>0.0</td>\n",
       "      <td>0.0</td>\n",
       "      <td>0.0</td>\n",
       "      <td>0.0</td>\n",
       "      <td>0.0</td>\n",
       "      <td>0.0</td>\n",
       "      <td>0.0</td>\n",
       "      <td>0.0</td>\n",
       "      <td>0.0</td>\n",
       "      <td>...</td>\n",
       "      <td>0.0</td>\n",
       "      <td>0.0</td>\n",
       "      <td>0.0</td>\n",
       "      <td>0.0</td>\n",
       "      <td>0.0</td>\n",
       "      <td>0.0</td>\n",
       "      <td>0.0</td>\n",
       "      <td>0.0</td>\n",
       "      <td>0.0</td>\n",
       "      <td>0.0</td>\n",
       "    </tr>\n",
       "    <tr>\n",
       "      <th>3</th>\n",
       "      <td>8.0</td>\n",
       "      <td>0.0</td>\n",
       "      <td>0.0</td>\n",
       "      <td>0.0</td>\n",
       "      <td>0.0</td>\n",
       "      <td>0.0</td>\n",
       "      <td>0.0</td>\n",
       "      <td>0.0</td>\n",
       "      <td>0.0</td>\n",
       "      <td>0.0</td>\n",
       "      <td>...</td>\n",
       "      <td>0.0</td>\n",
       "      <td>0.0</td>\n",
       "      <td>0.0</td>\n",
       "      <td>0.0</td>\n",
       "      <td>0.0</td>\n",
       "      <td>0.0</td>\n",
       "      <td>0.0</td>\n",
       "      <td>0.0</td>\n",
       "      <td>0.0</td>\n",
       "      <td>0.0</td>\n",
       "    </tr>\n",
       "    <tr>\n",
       "      <th>4</th>\n",
       "      <td>8.0</td>\n",
       "      <td>0.0</td>\n",
       "      <td>0.0</td>\n",
       "      <td>0.0</td>\n",
       "      <td>0.0</td>\n",
       "      <td>0.0</td>\n",
       "      <td>0.0</td>\n",
       "      <td>0.0</td>\n",
       "      <td>0.0</td>\n",
       "      <td>0.0</td>\n",
       "      <td>...</td>\n",
       "      <td>0.0</td>\n",
       "      <td>0.0</td>\n",
       "      <td>0.0</td>\n",
       "      <td>0.0</td>\n",
       "      <td>0.0</td>\n",
       "      <td>0.0</td>\n",
       "      <td>0.0</td>\n",
       "      <td>0.0</td>\n",
       "      <td>0.0</td>\n",
       "      <td>0.0</td>\n",
       "    </tr>\n",
       "  </tbody>\n",
       "</table>\n",
       "<p>5 rows × 92 columns</p>\n",
       "</div>"
      ],
      "text/plain": [
       "   VisitNumber  re_upc_-9  re_upc_10  re_upc_11  re_upc_12  re_upc_13  \\\n",
       "0          5.0        0.0        0.0        0.0        0.0        0.0   \n",
       "1          7.0        0.0        0.0        0.0        0.0        0.0   \n",
       "2          7.0        0.0        0.0        0.0        0.0        0.0   \n",
       "3          8.0        0.0        0.0        0.0        0.0        0.0   \n",
       "4          8.0        0.0        0.0        0.0        0.0        0.0   \n",
       "\n",
       "   re_upc_14  re_upc_15  re_upc_16  re_upc_17    ...      re_upc_90  \\\n",
       "0        0.0        0.0        0.0        0.0    ...            0.0   \n",
       "1        0.0        0.0        0.0        0.0    ...            0.0   \n",
       "2        0.0        0.0        0.0        0.0    ...            0.0   \n",
       "3        0.0        0.0        0.0        0.0    ...            0.0   \n",
       "4        0.0        0.0        0.0        0.0    ...            0.0   \n",
       "\n",
       "   re_upc_91  re_upc_92  re_upc_93  re_upc_94  re_upc_95  re_upc_96  \\\n",
       "0        0.0        0.0        0.0        0.0        0.0        0.0   \n",
       "1        0.0        0.0        0.0        0.0        0.0        0.0   \n",
       "2        0.0        0.0        0.0        0.0        0.0        0.0   \n",
       "3        0.0        0.0        0.0        0.0        0.0        0.0   \n",
       "4        0.0        0.0        0.0        0.0        0.0        0.0   \n",
       "\n",
       "   re_upc_97  re_upc_98  re_upc_99  \n",
       "0        0.0        0.0        0.0  \n",
       "1        0.0        0.0        0.0  \n",
       "2        0.0        0.0        0.0  \n",
       "3        0.0        0.0        0.0  \n",
       "4        0.0        0.0        0.0  \n",
       "\n",
       "[5 rows x 92 columns]"
      ]
     },
     "execution_count": 38,
     "metadata": {},
     "output_type": "execute_result"
    }
   ],
   "source": [
    "re_upc.head()"
   ]
  },
  {
   "cell_type": "code",
   "execution_count": 39,
   "metadata": {
    "collapsed": true
   },
   "outputs": [],
   "source": [
    "train_re_upc = re_upc[0:647054]\n",
    "test_re_upc = re_upc[647054:1300700]"
   ]
  },
  {
   "cell_type": "code",
   "execution_count": 40,
   "metadata": {
    "collapsed": true
   },
   "outputs": [],
   "source": [
    "train_re_upc = train_re_upc.groupby(\"VisitNumber\")[re_col].mean()"
   ]
  },
  {
   "cell_type": "code",
   "execution_count": 41,
   "metadata": {
    "collapsed": true
   },
   "outputs": [],
   "source": [
    "test_re_upc = test_re_upc.groupby(\"VisitNumber\")[re_col].mean()"
   ]
  },
  {
   "cell_type": "markdown",
   "metadata": {},
   "source": [
    "### Deal with Finenumber"
   ]
  },
  {
   "cell_type": "markdown",
   "metadata": {},
   "source": [
    "select important finenumber selected by frequency of TripType"
   ]
  },
  {
   "cell_type": "code",
   "execution_count": 42,
   "metadata": {
    "collapsed": true
   },
   "outputs": [],
   "source": [
    "top150_40 = list(train.loc[train[\"TripType\"]==40,\"FinelineNumber\"].value_counts()[0:150].index)\n",
    "top150_39 = list(train.loc[train[\"TripType\"]==39,\"FinelineNumber\"].value_counts()[0:150].index)\n",
    "top150_37 = list(train.loc[train[\"TripType\"]==37,\"FinelineNumber\"].value_counts()[0:150].index)\n",
    "top150_38 = list(train.loc[train[\"TripType\"]==38,\"FinelineNumber\"].value_counts()[0:150].index)\n",
    "top150_25 = list(train.loc[train[\"TripType\"]==25,\"FinelineNumber\"].value_counts()[0:150].index)\n",
    "top150_7 = list(train.loc[train[\"TripType\"]==7,\"FinelineNumber\"].value_counts()[0:150].index)\n",
    "top150_8 = list(train.loc[train[\"TripType\"]==8,\"FinelineNumber\"].value_counts()[0:150].index)\n",
    "top150_36 = list(train.loc[train[\"TripType\"]==36,\"FinelineNumber\"].value_counts()[0:150].index)\n",
    "top150_44 = list(train.loc[train[\"TripType\"]==44,\"FinelineNumber\"].value_counts()[0:150].index)\n",
    "top150_42 = list(train.loc[train[\"TripType\"]==42,\"FinelineNumber\"].value_counts()[0:150].index)"
   ]
  },
  {
   "cell_type": "code",
   "execution_count": 43,
   "metadata": {
    "collapsed": true
   },
   "outputs": [],
   "source": [
    "last150_18 = list(train.loc[train[\"TripType\"]==18,\"FinelineNumber\"].value_counts()[0:150].index)\n",
    "last150_28 = list(train.loc[train[\"TripType\"]==28,\"FinelineNumber\"].value_counts()[0:150].index)\n",
    "last150_26 = list(train.loc[train[\"TripType\"]==26,\"FinelineNumber\"].value_counts()[0:150].index)\n",
    "last150_12 = list(train.loc[train[\"TripType\"]==12,\"FinelineNumber\"].value_counts()[0:150].index)\n",
    "last150_29 = list(train.loc[train[\"TripType\"]==29,\"FinelineNumber\"].value_counts()[0:150].index)\n",
    "last150_14 = list(train.loc[train[\"TripType\"]==14,\"FinelineNumber\"].value_counts()[0:150].index)\n",
    "last150_23 = list(train.loc[train[\"TripType\"]==23,\"FinelineNumber\"].value_counts()[0:150].index)"
   ]
  },
  {
   "cell_type": "code",
   "execution_count": 44,
   "metadata": {
    "collapsed": true
   },
   "outputs": [],
   "source": [
    "top = top150_40 + top150_39 + top150_37 + top150_38 + top150_25 + top150_7 + top150_8 "
   ]
  },
  {
   "cell_type": "code",
   "execution_count": 45,
   "metadata": {
    "collapsed": true
   },
   "outputs": [],
   "source": [
    "last = last150_18 +last150_28 +last150_26 + last150_29"
   ]
  },
  {
   "cell_type": "code",
   "execution_count": 46,
   "metadata": {
    "collapsed": true
   },
   "outputs": [],
   "source": [
    "last = set(last)\n",
    "last =list(last)"
   ]
  },
  {
   "cell_type": "code",
   "execution_count": 47,
   "metadata": {
    "collapsed": true
   },
   "outputs": [],
   "source": [
    "top = set(top)\n",
    "top = list(top)"
   ]
  },
  {
   "cell_type": "code",
   "execution_count": 48,
   "metadata": {
    "collapsed": true
   },
   "outputs": [],
   "source": [
    "all = top + last"
   ]
  },
  {
   "cell_type": "code",
   "execution_count": 49,
   "metadata": {
    "collapsed": true
   },
   "outputs": [],
   "source": [
    "all = set(all)\n",
    "all = list(all)"
   ]
  },
  {
   "cell_type": "code",
   "execution_count": 50,
   "metadata": {},
   "outputs": [
    {
     "data": {
      "text/plain": [
       "808"
      ]
     },
     "execution_count": 50,
     "metadata": {},
     "output_type": "execute_result"
    }
   ],
   "source": [
    "#378 433 477 564\n",
    "len(all)"
   ]
  },
  {
   "cell_type": "code",
   "execution_count": null,
   "metadata": {
    "collapsed": true
   },
   "outputs": [],
   "source": []
  },
  {
   "cell_type": "code",
   "execution_count": null,
   "metadata": {
    "collapsed": true
   },
   "outputs": [],
   "source": []
  },
  {
   "cell_type": "code",
   "execution_count": 51,
   "metadata": {
    "collapsed": true
   },
   "outputs": [],
   "source": [
    "finenum = pd.get_dummies(data_all[\"FinelineNumber\"])"
   ]
  },
  {
   "cell_type": "code",
   "execution_count": 52,
   "metadata": {
    "collapsed": true
   },
   "outputs": [],
   "source": [
    "finenum = finenum[all]"
   ]
  },
  {
   "cell_type": "code",
   "execution_count": 53,
   "metadata": {
    "collapsed": true
   },
   "outputs": [],
   "source": [
    "train_fine = finenum[0:647054]\n",
    "test_fine = finenum[647054:1300700]"
   ]
  },
  {
   "cell_type": "code",
   "execution_count": 54,
   "metadata": {
    "collapsed": true
   },
   "outputs": [],
   "source": [
    "train_fine = train_fine.astype(\"float32\")"
   ]
  },
  {
   "cell_type": "code",
   "execution_count": 55,
   "metadata": {
    "collapsed": true
   },
   "outputs": [],
   "source": [
    "test_fine = test_fine.astype(\"float32\")"
   ]
  },
  {
   "cell_type": "code",
   "execution_count": 56,
   "metadata": {
    "collapsed": true
   },
   "outputs": [],
   "source": [
    "train_fine.reset_index(inplace=True)\n",
    "test_fine.reset_index(inplace=True)"
   ]
  },
  {
   "cell_type": "code",
   "execution_count": 57,
   "metadata": {
    "collapsed": true
   },
   "outputs": [],
   "source": [
    "train_fine = train_fine.groupby(\"VisitNumber\")[finenum.columns].mean()\n",
    "test_fine = test_fine.groupby(\"VisitNumber\")[finenum.columns].mean()"
   ]
  },
  {
   "cell_type": "markdown",
   "metadata": {},
   "source": [
    "### Separate train and test"
   ]
  },
  {
   "cell_type": "code",
   "execution_count": 58,
   "metadata": {
    "collapsed": true
   },
   "outputs": [],
   "source": [
    "train_pre = data_all[0:647054]\n",
    "test_pre = data_all[647054:1300700]"
   ]
  },
  {
   "cell_type": "code",
   "execution_count": 59,
   "metadata": {
    "collapsed": true
   },
   "outputs": [],
   "source": [
    "del test_pre[\"TripType\"]"
   ]
  },
  {
   "cell_type": "code",
   "execution_count": 60,
   "metadata": {},
   "outputs": [
    {
     "name": "stdout",
     "output_type": "stream",
     "text": [
      "(647054, 135)\n",
      "(653646, 134)\n"
     ]
    }
   ],
   "source": [
    "print(train_pre.shape)\n",
    "print(test_pre.shape)"
   ]
  },
  {
   "cell_type": "markdown",
   "metadata": {},
   "source": [
    "# Feature Engineering"
   ]
  },
  {
   "cell_type": "code",
   "execution_count": 61,
   "metadata": {},
   "outputs": [
    {
     "name": "stderr",
     "output_type": "stream",
     "text": [
      "C:\\Anaconda3\\lib\\site-packages\\ipykernel_launcher.py:2: FutureWarning: using a dict on a Series for aggregation\n",
      "is deprecated and will be removed in a future version\n",
      "  \n"
     ]
    }
   ],
   "source": [
    "sample = train_pre.reset_index()\n",
    "sample = sample.groupby(\"VisitNumber\")[\"Upc\"].aggregate({\"count_of_visitnumber\":\"count\"})\n",
    "sample = sample.reset_index()\n",
    "train_pre = train_pre.reset_index()\n",
    "#make new feature\n",
    "train_pre = pd.merge(train_pre,sample)"
   ]
  },
  {
   "cell_type": "code",
   "execution_count": 62,
   "metadata": {},
   "outputs": [
    {
     "name": "stderr",
     "output_type": "stream",
     "text": [
      "C:\\Anaconda3\\lib\\site-packages\\ipykernel_launcher.py:2: FutureWarning: using a dict on a Series for aggregation\n",
      "is deprecated and will be removed in a future version\n",
      "  \n"
     ]
    }
   ],
   "source": [
    "sample = test_pre.reset_index()\n",
    "sample = sample.groupby(\"VisitNumber\")[\"Upc\"].aggregate({\"count_of_visitnumber\":\"count\"})\n",
    "sample = sample.reset_index()\n",
    "test_pre = test_pre.reset_index()\n",
    "#make new feature\n",
    "test_pre = pd.merge(test_pre,sample)"
   ]
  },
  {
   "cell_type": "code",
   "execution_count": 63,
   "metadata": {},
   "outputs": [
    {
     "data": {
      "text/plain": [
       "count    647054\n",
       "mean         17\n",
       "std          15\n",
       "min           1\n",
       "25%           6\n",
       "50%          13\n",
       "75%          24\n",
       "max         209\n",
       "Name: count_of_visitnumber, dtype: int64"
      ]
     },
     "execution_count": 63,
     "metadata": {},
     "output_type": "execute_result"
    }
   ],
   "source": [
    "train_pre[\"TripType\"] = train_pre[\"TripType\"].astype(\"int32\")\n",
    "train_pre[\"count_of_visitnumber\"].describe().astype(\"int64\")"
   ]
  },
  {
   "cell_type": "code",
   "execution_count": 64,
   "metadata": {},
   "outputs": [
    {
     "data": {
      "text/plain": [
       "40    153530\n",
       "37     19357\n",
       "44     10199\n",
       "38      9148\n",
       "42      4960\n",
       "25      4237\n",
       "24      3545\n",
       "32      2655\n",
       "36      2550\n",
       "39      2210\n",
       "Name: TripType, dtype: int64"
      ]
     },
     "execution_count": 64,
     "metadata": {},
     "output_type": "execute_result"
    }
   ],
   "source": [
    "train_pre.loc[train_pre[\"count_of_visitnumber\"] >= 20,\"TripType\"].value_counts()[0:10]"
   ]
  },
  {
   "cell_type": "markdown",
   "metadata": {},
   "source": [
    "#### count_of_visitnumber"
   ]
  },
  {
   "cell_type": "markdown",
   "metadata": {},
   "source": [
    "most of type of 40 are over count_of_visitnumber > 20"
   ]
  },
  {
   "cell_type": "code",
   "execution_count": 65,
   "metadata": {
    "collapsed": true
   },
   "outputs": [],
   "source": [
    "train_pre[\"over_20\"] = train_pre[\"count_of_visitnumber\"] >=20\n",
    "train_pre[\"over_20\"] = train_pre[\"over_20\"].astype(\"int\")\n",
    "\n",
    "test_pre[\"over_20\"] = test_pre[\"count_of_visitnumber\"] >=20\n",
    "test_pre[\"over_20\"] = test_pre[\"over_20\"].astype(\"int\")"
   ]
  },
  {
   "cell_type": "code",
   "execution_count": null,
   "metadata": {
    "collapsed": true
   },
   "outputs": [],
   "source": []
  },
  {
   "cell_type": "markdown",
   "metadata": {},
   "source": [
    "# Train"
   ]
  },
  {
   "cell_type": "code",
   "execution_count": 66,
   "metadata": {
    "collapsed": true
   },
   "outputs": [],
   "source": [
    "train_pre.set_index(\"VisitNumber\",inplace=True)\n",
    "test_pre.set_index(\"VisitNumber\",inplace=True)"
   ]
  },
  {
   "cell_type": "code",
   "execution_count": 67,
   "metadata": {
    "collapsed": true
   },
   "outputs": [],
   "source": [
    "train_col = list(train_pre.columns)\n",
    "train_col.remove(\"Upc\")\n",
    "train_col.remove(\"FinelineNumber\")"
   ]
  },
  {
   "cell_type": "code",
   "execution_count": 68,
   "metadata": {
    "collapsed": true
   },
   "outputs": [],
   "source": [
    "x_train = train_pre[train_col]\n",
    "x_train.reset_index(inplace=True)\n",
    "y_train = x_train.groupby(\"VisitNumber\")[\"TripType\"].mean()\n",
    "x_train = x_train.groupby(\"VisitNumber\")[train_col].mean()"
   ]
  },
  {
   "cell_type": "code",
   "execution_count": 69,
   "metadata": {
    "collapsed": true
   },
   "outputs": [],
   "source": [
    "del x_train[\"TripType\"]"
   ]
  },
  {
   "cell_type": "code",
   "execution_count": 70,
   "metadata": {
    "collapsed": true
   },
   "outputs": [],
   "source": [
    "################# test"
   ]
  },
  {
   "cell_type": "code",
   "execution_count": 71,
   "metadata": {
    "collapsed": true
   },
   "outputs": [],
   "source": [
    "test_col = list(test_pre.columns)"
   ]
  },
  {
   "cell_type": "code",
   "execution_count": 72,
   "metadata": {
    "collapsed": true
   },
   "outputs": [],
   "source": [
    "test_col.remove(\"Upc\")\n",
    "test_col.remove(\"FinelineNumber\")"
   ]
  },
  {
   "cell_type": "code",
   "execution_count": 73,
   "metadata": {
    "collapsed": true
   },
   "outputs": [],
   "source": [
    "x_test = test_pre[test_col]"
   ]
  },
  {
   "cell_type": "code",
   "execution_count": 74,
   "metadata": {
    "collapsed": true
   },
   "outputs": [],
   "source": [
    "x_test.reset_index(inplace=True)\n",
    "x_test = x_test.groupby(\"VisitNumber\")[test_col].mean()"
   ]
  },
  {
   "cell_type": "code",
   "execution_count": 75,
   "metadata": {
    "collapsed": true
   },
   "outputs": [],
   "source": [
    "x_train[\"weekend\"] = x_train[\"weekend\"].astype(\"int\")\n",
    "x_test[\"weekend\"] = x_test[\"weekend\"].astype(\"int\")"
   ]
  },
  {
   "cell_type": "code",
   "execution_count": 76,
   "metadata": {
    "collapsed": true
   },
   "outputs": [],
   "source": [
    "from scipy.sparse import csr_matrix"
   ]
  },
  {
   "cell_type": "code",
   "execution_count": 77,
   "metadata": {
    "collapsed": true
   },
   "outputs": [],
   "source": [
    "train_fine = csr_matrix(train_fine)\n",
    "test_fine = csr_matrix(test_fine)"
   ]
  },
  {
   "cell_type": "code",
   "execution_count": 78,
   "metadata": {
    "collapsed": true
   },
   "outputs": [],
   "source": [
    "train_re_upc = train_fine.astype(\"float32\")\n",
    "test_re_upc = test_fine.astype(\"float32\")\n",
    "train_re_upc = csr_matrix(train_fine)\n",
    "test_re_upc = csr_matrix(test_fine)"
   ]
  },
  {
   "cell_type": "code",
   "execution_count": 79,
   "metadata": {
    "collapsed": true
   },
   "outputs": [],
   "source": [
    "from scipy.sparse import hstack"
   ]
  },
  {
   "cell_type": "code",
   "execution_count": 80,
   "metadata": {
    "collapsed": true
   },
   "outputs": [],
   "source": [
    "x_train = hstack([x_train,train_fine])\n",
    "x_test = hstack([x_test,test_fine])"
   ]
  },
  {
   "cell_type": "code",
   "execution_count": 81,
   "metadata": {
    "collapsed": true
   },
   "outputs": [],
   "source": [
    "x_train = hstack([x_train,train_re_upc])\n",
    "x_test = hstack([x_test,test_re_upc])"
   ]
  },
  {
   "cell_type": "code",
   "execution_count": null,
   "metadata": {
    "collapsed": true
   },
   "outputs": [],
   "source": []
  },
  {
   "cell_type": "code",
   "execution_count": null,
   "metadata": {
    "collapsed": true
   },
   "outputs": [],
   "source": []
  },
  {
   "cell_type": "code",
   "execution_count": 82,
   "metadata": {},
   "outputs": [
    {
     "name": "stderr",
     "output_type": "stream",
     "text": [
      "C:\\Anaconda3\\lib\\site-packages\\sklearn\\cross_validation.py:41: DeprecationWarning: This module was deprecated in version 0.18 in favor of the model_selection module into which all the refactored classes and functions are moved. Also note that the interface of the new CV iterators are different from that of this module. This module will be removed in 0.20.\n",
      "  \"This module will be removed in 0.20.\", DeprecationWarning)\n"
     ]
    }
   ],
   "source": [
    "import xgboost as xgb"
   ]
  },
  {
   "cell_type": "code",
   "execution_count": 64,
   "metadata": {},
   "outputs": [
    {
     "data": {
      "text/plain": [
       "XGBClassifier(base_score=0.5, colsample_bylevel=0.886308,\n",
       "       colsample_bytree=0.634061, gamma=0, learning_rate=0.115519,\n",
       "       max_delta_step=8.857549, max_depth=17, min_child_weight=1,\n",
       "       missing=None, n_estimators=50, nthread=-1,\n",
       "       objective='multi:softprob', reg_alpha=5.559613e-06,\n",
       "       reg_lambda=8.183245, scale_pos_weight=1, seed=0, silent=True,\n",
       "       subsample=0.899305)"
      ]
     },
     "execution_count": 64,
     "metadata": {},
     "output_type": "execute_result"
    }
   ],
   "source": [
    "model = xgb.XGBClassifier(objective='multi:softprob',\n",
    "                          n_estimators=50,\n",
    "                          learning_rate=0.115519,\n",
    "                          max_depth=17,\n",
    "                          max_delta_step=8.857549,\n",
    "                          subsample=0.899305,\n",
    "                          colsample_bytree=0.634061,\n",
    "                          colsample_bylevel=0.886308,\n",
    "                          reg_alpha=5.559613e-06,\n",
    "                          reg_lambda=8.183245,\n",
    "                          nthread=-1,\n",
    "                          )\n",
    "model"
   ]
  },
  {
   "cell_type": "code",
   "execution_count": 65,
   "metadata": {},
   "outputs": [
    {
     "data": {
      "text/plain": [
       "XGBClassifier(base_score=0.5, colsample_bylevel=0.886308,\n",
       "       colsample_bytree=0.634061, gamma=0, learning_rate=0.115519,\n",
       "       max_delta_step=8.857549, max_depth=17, min_child_weight=1,\n",
       "       missing=None, n_estimators=50, nthread=-1,\n",
       "       objective='multi:softprob', reg_alpha=5.559613e-06,\n",
       "       reg_lambda=8.183245, scale_pos_weight=1, seed=0, silent=True,\n",
       "       subsample=0.899305)"
      ]
     },
     "execution_count": 65,
     "metadata": {},
     "output_type": "execute_result"
    }
   ],
   "source": [
    "model.fit(x_train,y_train)"
   ]
  },
  {
   "cell_type": "code",
   "execution_count": 66,
   "metadata": {
    "collapsed": true
   },
   "outputs": [],
   "source": [
    "predictions = model.predict_proba(x_test)"
   ]
  },
  {
   "cell_type": "markdown",
   "metadata": {},
   "source": [
    "# Submission"
   ]
  },
  {
   "cell_type": "code",
   "execution_count": 67,
   "metadata": {
    "collapsed": true
   },
   "outputs": [],
   "source": [
    "submission = pd.read_csv(\"sample_submission.csv\", index_col=\"VisitNumber\")\n",
    "sub_idex = list(submission.index)\n",
    "sub_columns = list(submission.columns)\n",
    "submission = pd.DataFrame(predictions,index=sub_idex,columns=sub_columns)\n",
    "submission.index.rename(name=\"VisitNumber\",inplace=True)\n",
    "submission.to_csv(\"sub.csv\")"
   ]
  },
  {
   "cell_type": "markdown",
   "metadata": {},
   "source": [
    "kaggle score : 0.85433"
   ]
  },
  {
   "cell_type": "code",
   "execution_count": null,
   "metadata": {
    "collapsed": true
   },
   "outputs": [],
   "source": []
  },
  {
   "cell_type": "code",
   "execution_count": null,
   "metadata": {
    "collapsed": true
   },
   "outputs": [],
   "source": []
  },
  {
   "cell_type": "code",
   "execution_count": null,
   "metadata": {
    "collapsed": true
   },
   "outputs": [],
   "source": []
  },
  {
   "cell_type": "code",
   "execution_count": null,
   "metadata": {
    "collapsed": true
   },
   "outputs": [],
   "source": []
  },
  {
   "cell_type": "code",
   "execution_count": null,
   "metadata": {
    "collapsed": true
   },
   "outputs": [],
   "source": []
  },
  {
   "cell_type": "code",
   "execution_count": null,
   "metadata": {
    "collapsed": true
   },
   "outputs": [],
   "source": []
  },
  {
   "cell_type": "code",
   "execution_count": null,
   "metadata": {
    "collapsed": true
   },
   "outputs": [],
   "source": []
  }
 ],
 "metadata": {
  "kernelspec": {
   "display_name": "Python 3",
   "language": "python",
   "name": "python3"
  },
  "language_info": {
   "codemirror_mode": {
    "name": "ipython",
    "version": 3
   },
   "file_extension": ".py",
   "mimetype": "text/x-python",
   "name": "python",
   "nbconvert_exporter": "python",
   "pygments_lexer": "ipython3",
   "version": "3.6.3"
  }
 },
 "nbformat": 4,
 "nbformat_minor": 2
}
