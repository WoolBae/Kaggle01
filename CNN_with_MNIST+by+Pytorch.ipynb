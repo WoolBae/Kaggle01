{
 "cells": [
  {
   "cell_type": "markdown",
   "metadata": {},
   "source": [
    "# Load Package"
   ]
  },
  {
   "cell_type": "code",
   "execution_count": 26,
   "metadata": {},
   "outputs": [],
   "source": [
    "import keras \n",
    "import numpy as np\n",
    "import pandas as pd\n",
    "from sklearn.linear_model import SGDRegressor \n",
    "from keras.optimizers import SGD"
   ]
  },
  {
   "cell_type": "markdown",
   "metadata": {},
   "source": [
    "Keras를 통해서 MNIST 데이터를 불러온다."
   ]
  },
  {
   "cell_type": "code",
   "execution_count": 27,
   "metadata": {},
   "outputs": [
    {
     "name": "stdout",
     "output_type": "stream",
     "text": [
      "(60000, 28, 28) (60000,)\n",
      "(10000, 28, 28) (10000,)\n"
     ]
    }
   ],
   "source": [
    "from keras.datasets import mnist\n",
    "\n",
    "((x_train, y_train), (x_test, y_test)) = mnist.load_data()\n",
    " \n",
    "print(x_train.shape, y_train.shape)\n",
    "print(x_test.shape, y_test.shape)"
   ]
  },
  {
   "cell_type": "markdown",
   "metadata": {},
   "source": [
    "### Reshape Data"
   ]
  },
  {
   "cell_type": "code",
   "execution_count": 28,
   "metadata": {},
   "outputs": [
    {
     "name": "stdout",
     "output_type": "stream",
     "text": [
      "(60000, 28, 28, 1) (10000, 28, 28, 1)\n"
     ]
    }
   ],
   "source": [
    "x_train = x_train.reshape(60000, 28, 28, 1)\n",
    "x_test = x_test.reshape(10000, 28, 28, 1)\n",
    "\n",
    "print(x_train.shape, x_test.shape)"
   ]
  },
  {
   "cell_type": "markdown",
   "metadata": {},
   "source": [
    "## One Hot"
   ]
  },
  {
   "cell_type": "code",
   "execution_count": 29,
   "metadata": {},
   "outputs": [
    {
     "name": "stdout",
     "output_type": "stream",
     "text": [
      "(60000, 10) (10000, 10)\n"
     ]
    }
   ],
   "source": [
    "from keras.utils import to_categorical\n",
    "\n",
    "y_train_hot = to_categorical(y_train)\n",
    "\n",
    "y_test_hot = to_categorical(y_test)\n",
    "\n",
    "print(y_train_hot.shape, y_test_hot.shape)"
   ]
  },
  {
   "cell_type": "markdown",
   "metadata": {},
   "source": [
    "# Build CNN"
   ]
  },
  {
   "cell_type": "code",
   "execution_count": 30,
   "metadata": {
    "collapsed": true
   },
   "outputs": [],
   "source": [
    "from keras.models import Sequential\n",
    "from keras.layers import Conv2D,MaxPooling2D,Dense,Flatten"
   ]
  },
  {
   "cell_type": "code",
   "execution_count": 47,
   "metadata": {
    "collapsed": true
   },
   "outputs": [],
   "source": [
    "model = Sequential()\n",
    "model.add(Conv2D(filters= 6,\n",
    "                 input_shape = (28,28,1),\n",
    "                 kernel_size = (3,3),\n",
    "                 activation = \"relu\",\n",
    "                 kernel_initializer = \"random_uniform\"))\n",
    "model.add(MaxPooling2D(pool_size= (2,2),\n",
    "                       strides = (2,2)))\n",
    "model.add(Conv2D(filters = 12,\n",
    "                 kernel_size = (3,3),\n",
    "                 activation = 'relu',\n",
    "                 kernel_initializer = \"random_uniform\"))\n",
    "model.add(MaxPooling2D(pool_size = (2,2),\n",
    "                      strides = (2,2)))\n",
    "model.add(Flatten())\n",
    "\n",
    "model.add(Dense(units = 128,\n",
    "               kernel_initializer = \"random_uniform\",\n",
    "               activation = \"relu\",))\n",
    "model.add(Dense(units = 10,\n",
    "               kernel_initializer = \"random_uniform\",\n",
    "               activation = \"sigmoid\"))\n",
    "\n",
    "optimizer = SGD(lr = 0.001, momentum=0.9)\n",
    "model.compile(optimizer = optimizer,\n",
    "              loss = \"categorical_crossentropy\",\n",
    "             metrics = [\"accuracy\"])"
   ]
  },
  {
   "cell_type": "code",
   "execution_count": 49,
   "metadata": {},
   "outputs": [
    {
     "name": "stdout",
     "output_type": "stream",
     "text": [
      "Train on 60000 samples, validate on 10000 samples\n",
      "Epoch 1/5\n",
      "60000/60000 [==============================] - 34s 568us/step - loss: 0.1291 - acc: 0.9598 - val_loss: 0.0897 - val_acc: 0.9725\n",
      "Epoch 2/5\n",
      "60000/60000 [==============================] - 37s 610us/step - loss: 0.0618 - acc: 0.9806 - val_loss: 0.0491 - val_acc: 0.9847\n",
      "Epoch 3/5\n",
      "60000/60000 [==============================] - 33s 553us/step - loss: 0.0470 - acc: 0.9852 - val_loss: 0.0413 - val_acc: 0.9864\n",
      "Epoch 4/5\n",
      "60000/60000 [==============================] - 35s 578us/step - loss: 0.0382 - acc: 0.9875 - val_loss: 0.0492 - val_acc: 0.9839\n",
      "Epoch 5/5\n",
      "60000/60000 [==============================] - 34s 571us/step - loss: 0.0329 - acc: 0.9894 - val_loss: 0.0516 - val_acc: 0.9824\n"
     ]
    },
    {
     "data": {
      "text/plain": [
       "<keras.callbacks.History at 0x24c3a696dd8>"
      ]
     },
     "execution_count": 49,
     "metadata": {},
     "output_type": "execute_result"
    }
   ],
   "source": [
    "model.fit(x_train,\n",
    "         y_train_hot,\n",
    "         epochs = 5,\n",
    "         validation_data = (x_test,y_test_hot))"
   ]
  },
  {
   "cell_type": "code",
   "execution_count": null,
   "metadata": {
    "collapsed": true
   },
   "outputs": [],
   "source": []
  },
  {
   "cell_type": "code",
   "execution_count": null,
   "metadata": {
    "collapsed": true
   },
   "outputs": [],
   "source": []
  }
 ],
 "metadata": {
  "kernelspec": {
   "display_name": "Python 3",
   "language": "python",
   "name": "python3"
  },
  "language_info": {
   "codemirror_mode": {
    "name": "ipython",
    "version": 3
   },
   "file_extension": ".py",
   "mimetype": "text/x-python",
   "name": "python",
   "nbconvert_exporter": "python",
   "pygments_lexer": "ipython3",
   "version": "3.6.3"
  }
 },
 "nbformat": 4,
 "nbformat_minor": 2
}
