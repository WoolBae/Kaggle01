{
 "cells": [
  {
   "cell_type": "code",
   "execution_count": 1,
   "metadata": {
    "collapsed": true
   },
   "outputs": [],
   "source": [
    "import pandas as pd\n",
    "import nltk"
   ]
  },
  {
   "cell_type": "code",
   "execution_count": 2,
   "metadata": {
    "collapsed": true
   },
   "outputs": [],
   "source": [
    "train = pd.read_csv(\"labeledTrainData.tsv\", sep=\"\\t\")"
   ]
  },
  {
   "cell_type": "code",
   "execution_count": 6,
   "metadata": {
    "collapsed": true
   },
   "outputs": [],
   "source": [
    "test = pd.read_csv(\"testData.tsv\",sep=\"\\t\")"
   ]
  },
  {
   "cell_type": "code",
   "execution_count": 3,
   "metadata": {
    "collapsed": true
   },
   "outputs": [],
   "source": [
    "unlabeled_train = pd.read_csv( \"unlabeledTrainData.tsv\", header=0, \n",
    " delimiter=\"\\t\", quoting=3 )"
   ]
  },
  {
   "cell_type": "code",
   "execution_count": 7,
   "metadata": {},
   "outputs": [
    {
     "data": {
      "text/html": [
       "<div>\n",
       "<style>\n",
       "    .dataframe thead tr:only-child th {\n",
       "        text-align: right;\n",
       "    }\n",
       "\n",
       "    .dataframe thead th {\n",
       "        text-align: left;\n",
       "    }\n",
       "\n",
       "    .dataframe tbody tr th {\n",
       "        vertical-align: top;\n",
       "    }\n",
       "</style>\n",
       "<table border=\"1\" class=\"dataframe\">\n",
       "  <thead>\n",
       "    <tr style=\"text-align: right;\">\n",
       "      <th></th>\n",
       "      <th>id</th>\n",
       "      <th>review</th>\n",
       "    </tr>\n",
       "  </thead>\n",
       "  <tbody>\n",
       "    <tr>\n",
       "      <th>0</th>\n",
       "      <td>\"9999_0\"</td>\n",
       "      <td>\"Watching Time Chasers, it obvious that it was...</td>\n",
       "    </tr>\n",
       "    <tr>\n",
       "      <th>1</th>\n",
       "      <td>\"45057_0\"</td>\n",
       "      <td>\"I saw this film about 20 years ago and rememb...</td>\n",
       "    </tr>\n",
       "    <tr>\n",
       "      <th>2</th>\n",
       "      <td>\"15561_0\"</td>\n",
       "      <td>\"Minor Spoilers&lt;br /&gt;&lt;br /&gt;In New York, Joan B...</td>\n",
       "    </tr>\n",
       "    <tr>\n",
       "      <th>3</th>\n",
       "      <td>\"7161_0\"</td>\n",
       "      <td>\"I went to see this film with a great deal of ...</td>\n",
       "    </tr>\n",
       "    <tr>\n",
       "      <th>4</th>\n",
       "      <td>\"43971_0\"</td>\n",
       "      <td>\"Yes, I agree with everyone on this site this ...</td>\n",
       "    </tr>\n",
       "    <tr>\n",
       "      <th>5</th>\n",
       "      <td>\"36495_0\"</td>\n",
       "      <td>\"Jennifer Ehle was sparkling in \\\"Pride and Pr...</td>\n",
       "    </tr>\n",
       "    <tr>\n",
       "      <th>6</th>\n",
       "      <td>\"49472_0\"</td>\n",
       "      <td>\"Amy Poehler is a terrific comedian on Saturda...</td>\n",
       "    </tr>\n",
       "    <tr>\n",
       "      <th>7</th>\n",
       "      <td>\"36693_0\"</td>\n",
       "      <td>\"A plane carrying employees of a large biotech...</td>\n",
       "    </tr>\n",
       "    <tr>\n",
       "      <th>8</th>\n",
       "      <td>\"316_0\"</td>\n",
       "      <td>\"A well made, gritty science fiction movie, it...</td>\n",
       "    </tr>\n",
       "    <tr>\n",
       "      <th>9</th>\n",
       "      <td>\"32454_0\"</td>\n",
       "      <td>\"Incredibly dumb and utterly predictable story...</td>\n",
       "    </tr>\n",
       "    <tr>\n",
       "      <th>10</th>\n",
       "      <td>\"37128_0\"</td>\n",
       "      <td>\"After reading the comments for this movie, I ...</td>\n",
       "    </tr>\n",
       "    <tr>\n",
       "      <th>11</th>\n",
       "      <td>\"19439_0\"</td>\n",
       "      <td>\"It's hard to describe Elfen Lied to someone w...</td>\n",
       "    </tr>\n",
       "    <tr>\n",
       "      <th>12</th>\n",
       "      <td>\"10760_0\"</td>\n",
       "      <td>\"Of all the bile-inducing vomitoriums to squee...</td>\n",
       "    </tr>\n",
       "    <tr>\n",
       "      <th>13</th>\n",
       "      <td>\"15073_0\"</td>\n",
       "      <td>\"This is quite an underrated Hitchcock movie. ...</td>\n",
       "    </tr>\n",
       "    <tr>\n",
       "      <th>14</th>\n",
       "      <td>\"33119_0\"</td>\n",
       "      <td>\"Being a huge Gary Oldman fan, I had high hope...</td>\n",
       "    </tr>\n",
       "    <tr>\n",
       "      <th>15</th>\n",
       "      <td>\"38735_0\"</td>\n",
       "      <td>\"For the most part the acting was poorly done ...</td>\n",
       "    </tr>\n",
       "    <tr>\n",
       "      <th>16</th>\n",
       "      <td>\"12041_0\"</td>\n",
       "      <td>\"Ram Gopal Varma does it again yet another mov...</td>\n",
       "    </tr>\n",
       "    <tr>\n",
       "      <th>17</th>\n",
       "      <td>\"41565_0\"</td>\n",
       "      <td>\"I gave it 2 for some attempt at historical de...</td>\n",
       "    </tr>\n",
       "    <tr>\n",
       "      <th>18</th>\n",
       "      <td>\"48612_0\"</td>\n",
       "      <td>\"I wanted to watch this one sense I am a fan o...</td>\n",
       "    </tr>\n",
       "    <tr>\n",
       "      <th>19</th>\n",
       "      <td>\"17525_0\"</td>\n",
       "      <td>\"Che is a good film for chronicling the events...</td>\n",
       "    </tr>\n",
       "    <tr>\n",
       "      <th>20</th>\n",
       "      <td>\"32062_0\"</td>\n",
       "      <td>\"This film is very disturbing. It reminded me ...</td>\n",
       "    </tr>\n",
       "    <tr>\n",
       "      <th>21</th>\n",
       "      <td>\"48625_0\"</td>\n",
       "      <td>\"Let me put it this way. I love bad movies. I ...</td>\n",
       "    </tr>\n",
       "    <tr>\n",
       "      <th>22</th>\n",
       "      <td>\"48176_0\"</td>\n",
       "      <td>\"From the combined ministries of Jack and Rexe...</td>\n",
       "    </tr>\n",
       "    <tr>\n",
       "      <th>23</th>\n",
       "      <td>\"16232_0\"</td>\n",
       "      <td>\"Ghost World is one of the better teen or comm...</td>\n",
       "    </tr>\n",
       "    <tr>\n",
       "      <th>24</th>\n",
       "      <td>\"12528_0\"</td>\n",
       "      <td>\"Outstanding film dealing with a 16 year old w...</td>\n",
       "    </tr>\n",
       "    <tr>\n",
       "      <th>25</th>\n",
       "      <td>\"39976_0\"</td>\n",
       "      <td>\"This movie did play like a dream or maybe eve...</td>\n",
       "    </tr>\n",
       "    <tr>\n",
       "      <th>26</th>\n",
       "      <td>\"25857_0\"</td>\n",
       "      <td>\"This film is supposedly based on the true acc...</td>\n",
       "    </tr>\n",
       "    <tr>\n",
       "      <th>27</th>\n",
       "      <td>\"10552_0\"</td>\n",
       "      <td>\"I know that cartoons aimed towards adults gen...</td>\n",
       "    </tr>\n",
       "    <tr>\n",
       "      <th>28</th>\n",
       "      <td>\"26437_0\"</td>\n",
       "      <td>\"...but what a disappointment. The acting was ...</td>\n",
       "    </tr>\n",
       "    <tr>\n",
       "      <th>29</th>\n",
       "      <td>\"16262_0\"</td>\n",
       "      <td>\"As a long-time Holmes fan, and particularly o...</td>\n",
       "    </tr>\n",
       "    <tr>\n",
       "      <th>...</th>\n",
       "      <td>...</td>\n",
       "      <td>...</td>\n",
       "    </tr>\n",
       "    <tr>\n",
       "      <th>49970</th>\n",
       "      <td>\"25941_0\"</td>\n",
       "      <td>\"Wouldn't suit all tastes, but if you like it ...</td>\n",
       "    </tr>\n",
       "    <tr>\n",
       "      <th>49971</th>\n",
       "      <td>\"36778_0\"</td>\n",
       "      <td>\"As a great fan of Dwight Yoakam's music as we...</td>\n",
       "    </tr>\n",
       "    <tr>\n",
       "      <th>49972</th>\n",
       "      <td>\"37114_0\"</td>\n",
       "      <td>\"I'm a huge fan of Whoopi and have seen all of...</td>\n",
       "    </tr>\n",
       "    <tr>\n",
       "      <th>49973</th>\n",
       "      <td>\"11962_0\"</td>\n",
       "      <td>\"It not very often that I go to the same movie...</td>\n",
       "    </tr>\n",
       "    <tr>\n",
       "      <th>49974</th>\n",
       "      <td>\"32293_0\"</td>\n",
       "      <td>\"I, like most, worried that it would degrade \\...</td>\n",
       "    </tr>\n",
       "    <tr>\n",
       "      <th>49975</th>\n",
       "      <td>\"7005_0\"</td>\n",
       "      <td>\"This movie makes no bones about what it is an...</td>\n",
       "    </tr>\n",
       "    <tr>\n",
       "      <th>49976</th>\n",
       "      <td>\"112_0\"</td>\n",
       "      <td>\"The eyebrow-wagging Lionel Q. Deveraux (Grouc...</td>\n",
       "    </tr>\n",
       "    <tr>\n",
       "      <th>49977</th>\n",
       "      <td>\"46123_0\"</td>\n",
       "      <td>\"There maybe spoilers in the following; if you...</td>\n",
       "    </tr>\n",
       "    <tr>\n",
       "      <th>49978</th>\n",
       "      <td>\"10628_0\"</td>\n",
       "      <td>\"This is one of my favorite films. &lt;br /&gt;&lt;br /...</td>\n",
       "    </tr>\n",
       "    <tr>\n",
       "      <th>49979</th>\n",
       "      <td>\"22572_0\"</td>\n",
       "      <td>\"A novelist who could find a funny side of a d...</td>\n",
       "    </tr>\n",
       "    <tr>\n",
       "      <th>49980</th>\n",
       "      <td>\"40601_0\"</td>\n",
       "      <td>\"This is the worst drivel I've ever seen come ...</td>\n",
       "    </tr>\n",
       "    <tr>\n",
       "      <th>49981</th>\n",
       "      <td>\"31509_0\"</td>\n",
       "      <td>\"\\\"Jaguar Lives\\\" is very slow and plodding en...</td>\n",
       "    </tr>\n",
       "    <tr>\n",
       "      <th>49982</th>\n",
       "      <td>\"33703_0\"</td>\n",
       "      <td>\"This should have been better, much better. A ...</td>\n",
       "    </tr>\n",
       "    <tr>\n",
       "      <th>49983</th>\n",
       "      <td>\"7379_0\"</td>\n",
       "      <td>\"Look at the number of film festival awards \\\"...</td>\n",
       "    </tr>\n",
       "    <tr>\n",
       "      <th>49984</th>\n",
       "      <td>\"29370_0\"</td>\n",
       "      <td>\"This movie is one of the best of all time.Fir...</td>\n",
       "    </tr>\n",
       "    <tr>\n",
       "      <th>49985</th>\n",
       "      <td>\"27604_0\"</td>\n",
       "      <td>\"The earliest episodes with John Amos as the c...</td>\n",
       "    </tr>\n",
       "    <tr>\n",
       "      <th>49986</th>\n",
       "      <td>\"9197_0\"</td>\n",
       "      <td>\"I've been looking for this movie since I beca...</td>\n",
       "    </tr>\n",
       "    <tr>\n",
       "      <th>49987</th>\n",
       "      <td>\"34018_0\"</td>\n",
       "      <td>\"OK, this isn't a good film by any stretch of ...</td>\n",
       "    </tr>\n",
       "    <tr>\n",
       "      <th>49988</th>\n",
       "      <td>\"15625_0\"</td>\n",
       "      <td>\"It is arguably the most boring film I've ever...</td>\n",
       "    </tr>\n",
       "    <tr>\n",
       "      <th>49989</th>\n",
       "      <td>\"35740_0\"</td>\n",
       "      <td>\"Oh joy,, another foreign torture/bloody movie...</td>\n",
       "    </tr>\n",
       "    <tr>\n",
       "      <th>49990</th>\n",
       "      <td>\"20947_0\"</td>\n",
       "      <td>\"In 1994, a year that gave us Forrest Gump, Pu...</td>\n",
       "    </tr>\n",
       "    <tr>\n",
       "      <th>49991</th>\n",
       "      <td>\"7432_0\"</td>\n",
       "      <td>\"http://eattheblinds.blogspot.com/&lt;br /&gt;&lt;br /&gt;...</td>\n",
       "    </tr>\n",
       "    <tr>\n",
       "      <th>49992</th>\n",
       "      <td>\"35236_0\"</td>\n",
       "      <td>\"Taste the Blood of Dracula marks a first for ...</td>\n",
       "    </tr>\n",
       "    <tr>\n",
       "      <th>49993</th>\n",
       "      <td>\"12075_0\"</td>\n",
       "      <td>\"There were some aspects of this movie I reall...</td>\n",
       "    </tr>\n",
       "    <tr>\n",
       "      <th>49994</th>\n",
       "      <td>\"23455_0\"</td>\n",
       "      <td>\"Look, I don't know what people have against E...</td>\n",
       "    </tr>\n",
       "    <tr>\n",
       "      <th>49995</th>\n",
       "      <td>\"18984_0\"</td>\n",
       "      <td>\"The original Man Eater by Joe D'Amato is some...</td>\n",
       "    </tr>\n",
       "    <tr>\n",
       "      <th>49996</th>\n",
       "      <td>\"16433_0\"</td>\n",
       "      <td>\"When Home Box Office was in it's early days m...</td>\n",
       "    </tr>\n",
       "    <tr>\n",
       "      <th>49997</th>\n",
       "      <td>\"16006_0\"</td>\n",
       "      <td>\"Griffin Dunne was born into a cultural family...</td>\n",
       "    </tr>\n",
       "    <tr>\n",
       "      <th>49998</th>\n",
       "      <td>\"40155_0\"</td>\n",
       "      <td>\"Not a bad story, but the low budget rears its...</td>\n",
       "    </tr>\n",
       "    <tr>\n",
       "      <th>49999</th>\n",
       "      <td>\"35270_0\"</td>\n",
       "      <td>\"This not-very-good mummy-alien flick does fea...</td>\n",
       "    </tr>\n",
       "  </tbody>\n",
       "</table>\n",
       "<p>50000 rows × 2 columns</p>\n",
       "</div>"
      ],
      "text/plain": [
       "              id                                             review\n",
       "0       \"9999_0\"  \"Watching Time Chasers, it obvious that it was...\n",
       "1      \"45057_0\"  \"I saw this film about 20 years ago and rememb...\n",
       "2      \"15561_0\"  \"Minor Spoilers<br /><br />In New York, Joan B...\n",
       "3       \"7161_0\"  \"I went to see this film with a great deal of ...\n",
       "4      \"43971_0\"  \"Yes, I agree with everyone on this site this ...\n",
       "5      \"36495_0\"  \"Jennifer Ehle was sparkling in \\\"Pride and Pr...\n",
       "6      \"49472_0\"  \"Amy Poehler is a terrific comedian on Saturda...\n",
       "7      \"36693_0\"  \"A plane carrying employees of a large biotech...\n",
       "8        \"316_0\"  \"A well made, gritty science fiction movie, it...\n",
       "9      \"32454_0\"  \"Incredibly dumb and utterly predictable story...\n",
       "10     \"37128_0\"  \"After reading the comments for this movie, I ...\n",
       "11     \"19439_0\"  \"It's hard to describe Elfen Lied to someone w...\n",
       "12     \"10760_0\"  \"Of all the bile-inducing vomitoriums to squee...\n",
       "13     \"15073_0\"  \"This is quite an underrated Hitchcock movie. ...\n",
       "14     \"33119_0\"  \"Being a huge Gary Oldman fan, I had high hope...\n",
       "15     \"38735_0\"  \"For the most part the acting was poorly done ...\n",
       "16     \"12041_0\"  \"Ram Gopal Varma does it again yet another mov...\n",
       "17     \"41565_0\"  \"I gave it 2 for some attempt at historical de...\n",
       "18     \"48612_0\"  \"I wanted to watch this one sense I am a fan o...\n",
       "19     \"17525_0\"  \"Che is a good film for chronicling the events...\n",
       "20     \"32062_0\"  \"This film is very disturbing. It reminded me ...\n",
       "21     \"48625_0\"  \"Let me put it this way. I love bad movies. I ...\n",
       "22     \"48176_0\"  \"From the combined ministries of Jack and Rexe...\n",
       "23     \"16232_0\"  \"Ghost World is one of the better teen or comm...\n",
       "24     \"12528_0\"  \"Outstanding film dealing with a 16 year old w...\n",
       "25     \"39976_0\"  \"This movie did play like a dream or maybe eve...\n",
       "26     \"25857_0\"  \"This film is supposedly based on the true acc...\n",
       "27     \"10552_0\"  \"I know that cartoons aimed towards adults gen...\n",
       "28     \"26437_0\"  \"...but what a disappointment. The acting was ...\n",
       "29     \"16262_0\"  \"As a long-time Holmes fan, and particularly o...\n",
       "...          ...                                                ...\n",
       "49970  \"25941_0\"  \"Wouldn't suit all tastes, but if you like it ...\n",
       "49971  \"36778_0\"  \"As a great fan of Dwight Yoakam's music as we...\n",
       "49972  \"37114_0\"  \"I'm a huge fan of Whoopi and have seen all of...\n",
       "49973  \"11962_0\"  \"It not very often that I go to the same movie...\n",
       "49974  \"32293_0\"  \"I, like most, worried that it would degrade \\...\n",
       "49975   \"7005_0\"  \"This movie makes no bones about what it is an...\n",
       "49976    \"112_0\"  \"The eyebrow-wagging Lionel Q. Deveraux (Grouc...\n",
       "49977  \"46123_0\"  \"There maybe spoilers in the following; if you...\n",
       "49978  \"10628_0\"  \"This is one of my favorite films. <br /><br /...\n",
       "49979  \"22572_0\"  \"A novelist who could find a funny side of a d...\n",
       "49980  \"40601_0\"  \"This is the worst drivel I've ever seen come ...\n",
       "49981  \"31509_0\"  \"\\\"Jaguar Lives\\\" is very slow and plodding en...\n",
       "49982  \"33703_0\"  \"This should have been better, much better. A ...\n",
       "49983   \"7379_0\"  \"Look at the number of film festival awards \\\"...\n",
       "49984  \"29370_0\"  \"This movie is one of the best of all time.Fir...\n",
       "49985  \"27604_0\"  \"The earliest episodes with John Amos as the c...\n",
       "49986   \"9197_0\"  \"I've been looking for this movie since I beca...\n",
       "49987  \"34018_0\"  \"OK, this isn't a good film by any stretch of ...\n",
       "49988  \"15625_0\"  \"It is arguably the most boring film I've ever...\n",
       "49989  \"35740_0\"  \"Oh joy,, another foreign torture/bloody movie...\n",
       "49990  \"20947_0\"  \"In 1994, a year that gave us Forrest Gump, Pu...\n",
       "49991   \"7432_0\"  \"http://eattheblinds.blogspot.com/<br /><br />...\n",
       "49992  \"35236_0\"  \"Taste the Blood of Dracula marks a first for ...\n",
       "49993  \"12075_0\"  \"There were some aspects of this movie I reall...\n",
       "49994  \"23455_0\"  \"Look, I don't know what people have against E...\n",
       "49995  \"18984_0\"  \"The original Man Eater by Joe D'Amato is some...\n",
       "49996  \"16433_0\"  \"When Home Box Office was in it's early days m...\n",
       "49997  \"16006_0\"  \"Griffin Dunne was born into a cultural family...\n",
       "49998  \"40155_0\"  \"Not a bad story, but the low budget rears its...\n",
       "49999  \"35270_0\"  \"This not-very-good mummy-alien flick does fea...\n",
       "\n",
       "[50000 rows x 2 columns]"
      ]
     },
     "execution_count": 7,
     "metadata": {},
     "output_type": "execute_result"
    }
   ],
   "source": [
    "unlabeled_train"
   ]
  },
  {
   "cell_type": "code",
   "execution_count": 4,
   "metadata": {},
   "outputs": [
    {
     "ename": "NameError",
     "evalue": "name 'unlabeled_train' is not defined",
     "output_type": "error",
     "traceback": [
      "\u001b[1;31m---------------------------------------------------------------------------\u001b[0m",
      "\u001b[1;31mNameError\u001b[0m                                 Traceback (most recent call last)",
      "\u001b[1;32m<ipython-input-4-01fc16ba303a>\u001b[0m in \u001b[0;36m<module>\u001b[1;34m()\u001b[0m\n\u001b[1;32m----> 1\u001b[1;33m \u001b[0munlabeled_train\u001b[0m\u001b[1;33m[\u001b[0m\u001b[1;34m\"review\"\u001b[0m\u001b[1;33m]\u001b[0m\u001b[1;33m\u001b[0m\u001b[0m\n\u001b[0m",
      "\u001b[1;31mNameError\u001b[0m: name 'unlabeled_train' is not defined"
     ]
    }
   ],
   "source": [
    "unlabeled_train[\"review\"]"
   ]
  },
  {
   "cell_type": "code",
   "execution_count": 9,
   "metadata": {
    "collapsed": true
   },
   "outputs": [],
   "source": [
    "from bs4 import BeautifulSoup "
   ]
  },
  {
   "cell_type": "code",
   "execution_count": 19,
   "metadata": {
    "collapsed": true
   },
   "outputs": [],
   "source": [
    "import re \n",
    "from nltk.corpus import stopwords"
   ]
  },
  {
   "cell_type": "code",
   "execution_count": 40,
   "metadata": {
    "collapsed": true
   },
   "outputs": [],
   "source": [
    "def review_to_wordlist(review, remove_stopwords=False):\n",
    "    #remove HTML\n",
    "    review_text = BeautifulSoup(review).get_text()\n",
    "    \n",
    "    #remove non-letters\n",
    "    review_text = re.sub(\"[^a-zA-Z]\",\" \",review_text)\n",
    "    \n",
    "    #convert words to lower case and split them\n",
    "    words = review_text.lower().split()\n",
    "    \n",
    "    #optionally remove stop words\n",
    "    if remove_stopwords:\n",
    "        stops = set(stopwords.words(\"english\"))\n",
    "        words = [w for w in words if not w in stops]\n",
    "        \n",
    "    #return a list of words\n",
    "    return(words)"
   ]
  },
  {
   "cell_type": "code",
   "execution_count": 25,
   "metadata": {
    "collapsed": true
   },
   "outputs": [],
   "source": [
    "def review_to_words(raw_review):\n",
    "    #Remove HTML\n",
    "    review_text = BeautifulSoup(raw_review).get_text()\n",
    "    \n",
    "    # Remove non-letters\n",
    "    letters_only = re.sub(\"[^a-zA-Z]\",\" \", review_text)\n",
    "    \n",
    "    # convert tp lower case, split into individual words\n",
    "    words = letters_only.split().lower()\n",
    "    \n",
    "    stops = set(stopwords.words(\"english\"))\n",
    "    \n",
    "    meaningful_words = [w for w in words if not w in stops]\n",
    "    \n",
    "    return meaningful_words"
   ]
  },
  {
   "cell_type": "code",
   "execution_count": 29,
   "metadata": {
    "collapsed": true
   },
   "outputs": [],
   "source": [
    "# Load the punkt tokenizer\n",
    "tokenizer = nltk.data.load('tokenizers/punkt/english.pickle')"
   ]
  },
  {
   "cell_type": "code",
   "execution_count": 38,
   "metadata": {
    "collapsed": true
   },
   "outputs": [],
   "source": [
    "# Define a function to split a review into parsed sentences\n",
    "def review_to_sentences(review, tokenizer, remove_stopwords=False):\n",
    "    #use the NLTK tokenizer to split the paragraph into sentence\n",
    "    \n",
    "    raw_sentences = tokenizer.tokenize(review.strip())\n",
    "    \n",
    "    #Loop over each sentence\n",
    "    sentences = []\n",
    "    for raw_sentence in raw_sentences:\n",
    "        if len(raw_sentence) > 0:\n",
    "            sentences.append(review_to_wordlist(raw_sentence,remove_stopwords))\n",
    "        \n",
    "    return sentences\n",
    "            "
   ]
  },
  {
   "cell_type": "code",
   "execution_count": 41,
   "metadata": {
    "scrolled": false
   },
   "outputs": [
    {
     "name": "stdout",
     "output_type": "stream",
     "text": [
      "Parsing sentences from traing set\n"
     ]
    },
    {
     "name": "stderr",
     "output_type": "stream",
     "text": [
      "C:\\Anaconda3\\lib\\site-packages\\bs4\\__init__.py:181: UserWarning: No parser was explicitly specified, so I'm using the best available HTML parser for this system (\"lxml\"). This usually isn't a problem, but if you run this code on another system, or in a different virtual environment, it may use a different parser and behave differently.\n",
      "\n",
      "The code that caused this warning is on line 193 of the file C:\\Anaconda3\\lib\\runpy.py. To get rid of this warning, change code that looks like this:\n",
      "\n",
      " BeautifulSoup(YOUR_MARKUP})\n",
      "\n",
      "to this:\n",
      "\n",
      " BeautifulSoup(YOUR_MARKUP, \"lxml\")\n",
      "\n",
      "  markup_type=markup_type))\n",
      "C:\\Anaconda3\\lib\\site-packages\\bs4\\__init__.py:219: UserWarning: \"b'.'\" looks like a filename, not markup. You should probably open this file and pass the filehandle into Beautiful Soup.\n",
      "  ' Beautiful Soup.' % markup)\n",
      "C:\\Anaconda3\\lib\\site-packages\\bs4\\__init__.py:219: UserWarning: \"b'...'\" looks like a filename, not markup. You should probably open this file and pass the filehandle into Beautiful Soup.\n",
      "  ' Beautiful Soup.' % markup)\n",
      "C:\\Anaconda3\\lib\\site-packages\\bs4\\__init__.py:282: UserWarning: \"http://www.happierabroad.com\" looks like a URL. Beautiful Soup is not an HTTP client. You should probably use an HTTP client like requests to get the document behind the URL, and feed that document to Beautiful Soup.\n",
      "  ' that document to Beautiful Soup.' % decoded_markup\n"
     ]
    },
    {
     "name": "stdout",
     "output_type": "stream",
     "text": [
      "parsing sentences from unlabeled set\n"
     ]
    },
    {
     "name": "stderr",
     "output_type": "stream",
     "text": [
      "C:\\Anaconda3\\lib\\site-packages\\bs4\\__init__.py:282: UserWarning: \"http://www.archive.org/details/LovefromaStranger\"\" looks like a URL. Beautiful Soup is not an HTTP client. You should probably use an HTTP client like requests to get the document behind the URL, and feed that document to Beautiful Soup.\n",
      "  ' that document to Beautiful Soup.' % decoded_markup\n",
      "C:\\Anaconda3\\lib\\site-packages\\bs4\\__init__.py:282: UserWarning: \"http://www.loosechangeguide.com/LooseChangeGuide.html\"\" looks like a URL. Beautiful Soup is not an HTTP client. You should probably use an HTTP client like requests to get the document behind the URL, and feed that document to Beautiful Soup.\n",
      "  ' that document to Beautiful Soup.' % decoded_markup\n",
      "C:\\Anaconda3\\lib\\site-packages\\bs4\\__init__.py:219: UserWarning: \"b'... ...'\" looks like a filename, not markup. You should probably open this file and pass the filehandle into Beautiful Soup.\n",
      "  ' Beautiful Soup.' % markup)\n",
      "C:\\Anaconda3\\lib\\site-packages\\bs4\\__init__.py:219: UserWarning: \"b'....'\" looks like a filename, not markup. You should probably open this file and pass the filehandle into Beautiful Soup.\n",
      "  ' Beautiful Soup.' % markup)\n",
      "C:\\Anaconda3\\lib\\site-packages\\bs4\\__init__.py:282: UserWarning: \"http://www.msnbc.msn.com/id/4972055/site/newsweek/\"\" looks like a URL. Beautiful Soup is not an HTTP client. You should probably use an HTTP client like requests to get the document behind the URL, and feed that document to Beautiful Soup.\n",
      "  ' that document to Beautiful Soup.' % decoded_markup\n",
      "C:\\Anaconda3\\lib\\site-packages\\bs4\\__init__.py:219: UserWarning: \"b'..'\" looks like a filename, not markup. You should probably open this file and pass the filehandle into Beautiful Soup.\n",
      "  ' Beautiful Soup.' % markup)\n",
      "C:\\Anaconda3\\lib\\site-packages\\bs4\\__init__.py:282: UserWarning: \"http://www.youtube.com/watch?v=a0KSqelmgN8\"\" looks like a URL. Beautiful Soup is not an HTTP client. You should probably use an HTTP client like requests to get the document behind the URL, and feed that document to Beautiful Soup.\n",
      "  ' that document to Beautiful Soup.' % decoded_markup\n",
      "C:\\Anaconda3\\lib\\site-packages\\bs4\\__init__.py:219: UserWarning: \"b'.. .'\" looks like a filename, not markup. You should probably open this file and pass the filehandle into Beautiful Soup.\n",
      "  ' Beautiful Soup.' % markup)\n",
      "C:\\Anaconda3\\lib\\site-packages\\bs4\\__init__.py:282: UserWarning: \"http://jake-weird.blogspot.com/2007/08/beneath.html\"\" looks like a URL. Beautiful Soup is not an HTTP client. You should probably use an HTTP client like requests to get the document behind the URL, and feed that document to Beautiful Soup.\n",
      "  ' that document to Beautiful Soup.' % decoded_markup\n"
     ]
    }
   ],
   "source": [
    "sentences = []\n",
    "\n",
    "print(\"Parsing sentences from traing set\")\n",
    "for review in train[\"review\"]:\n",
    "    sentences += review_to_sentences(review, tokenizer)\n",
    "    \n",
    "print(\"parsing sentences from unlabeled set\")\n",
    "for review in unlabeled_train[\"review\"]:\n",
    "    sentences += review_to_sentences(review, tokenizer)\n",
    "    "
   ]
  },
  {
   "cell_type": "code",
   "execution_count": 42,
   "metadata": {},
   "outputs": [
    {
     "name": "stdout",
     "output_type": "stream",
     "text": [
      "795872\n"
     ]
    }
   ],
   "source": [
    "print(len(sentences))"
   ]
  },
  {
   "cell_type": "code",
   "execution_count": 43,
   "metadata": {},
   "outputs": [
    {
     "name": "stdout",
     "output_type": "stream",
     "text": [
      "['with', 'all', 'this', 'stuff', 'going', 'down', 'at', 'the', 'moment', 'with', 'mj', 'i', 've', 'started', 'listening', 'to', 'his', 'music', 'watching', 'the', 'odd', 'documentary', 'here', 'and', 'there', 'watched', 'the', 'wiz', 'and', 'watched', 'moonwalker', 'again']\n"
     ]
    }
   ],
   "source": []
  },
  {
   "cell_type": "code",
   "execution_count": 44,
   "metadata": {},
   "outputs": [
    {
     "name": "stdout",
     "output_type": "stream",
     "text": [
      "['maybe', 'i', 'just', 'want', 'to', 'get', 'a', 'certain', 'insight', 'into', 'this', 'guy', 'who', 'i', 'thought', 'was', 'really', 'cool', 'in', 'the', 'eighties', 'just', 'to', 'maybe', 'make', 'up', 'my', 'mind', 'whether', 'he', 'is', 'guilty', 'or', 'innocent']\n"
     ]
    }
   ],
   "source": [
    "print(sentences[1])"
   ]
  },
  {
   "cell_type": "code",
   "execution_count": 45,
   "metadata": {
    "collapsed": true
   },
   "outputs": [],
   "source": [
    "import logging"
   ]
  },
  {
   "cell_type": "code",
   "execution_count": 47,
   "metadata": {
    "collapsed": true
   },
   "outputs": [],
   "source": [
    "logging.basicConfig(format='%(asctime)s : %(levelname)s : %(message)s',\\\n",
    "    level=logging.INFO)"
   ]
  },
  {
   "cell_type": "code",
   "execution_count": 48,
   "metadata": {
    "collapsed": true
   },
   "outputs": [],
   "source": [
    "num_features = 300\n",
    "min_word_count = 40\n",
    "num_workers = 4\n",
    "context = 10\n",
    "downsampling = 1e-3"
   ]
  },
  {
   "cell_type": "code",
   "execution_count": 54,
   "metadata": {
    "collapsed": true
   },
   "outputs": [],
   "source": [
    "from gensim.models import word2vec"
   ]
  },
  {
   "cell_type": "code",
   "execution_count": 56,
   "metadata": {},
   "outputs": [
    {
     "name": "stderr",
     "output_type": "stream",
     "text": [
      "2018-02-19 11:11:12,554 : INFO : collecting all words and their counts\n",
      "2018-02-19 11:11:12,556 : INFO : PROGRESS: at sentence #0, processed 0 words, keeping 0 word types\n",
      "2018-02-19 11:11:12,708 : INFO : PROGRESS: at sentence #10000, processed 225664 words, keeping 17775 word types\n",
      "2018-02-19 11:11:12,821 : INFO : PROGRESS: at sentence #20000, processed 451582 words, keeping 24944 word types\n",
      "2018-02-19 11:11:12,945 : INFO : PROGRESS: at sentence #30000, processed 670632 words, keeping 30023 word types\n",
      "2018-02-19 11:11:13,079 : INFO : PROGRESS: at sentence #40000, processed 896478 words, keeping 34329 word types\n",
      "2018-02-19 11:11:13,225 : INFO : PROGRESS: at sentence #50000, processed 1115469 words, keeping 37741 word types\n",
      "2018-02-19 11:11:13,378 : INFO : PROGRESS: at sentence #60000, processed 1336692 words, keeping 40702 word types\n",
      "2018-02-19 11:11:13,557 : INFO : PROGRESS: at sentence #70000, processed 1559365 words, keeping 43300 word types\n",
      "2018-02-19 11:11:13,674 : INFO : PROGRESS: at sentence #80000, processed 1778623 words, keeping 45699 word types\n",
      "2018-02-19 11:11:13,760 : INFO : PROGRESS: at sentence #90000, processed 2002603 words, keeping 48113 word types\n",
      "2018-02-19 11:11:13,842 : INFO : PROGRESS: at sentence #100000, processed 2224101 words, keeping 50180 word types\n",
      "2018-02-19 11:11:13,913 : INFO : PROGRESS: at sentence #110000, processed 2442894 words, keeping 52050 word types\n",
      "2018-02-19 11:11:14,002 : INFO : PROGRESS: at sentence #120000, processed 2665092 words, keeping 54089 word types\n",
      "2018-02-19 11:11:14,073 : INFO : PROGRESS: at sentence #130000, processed 2890948 words, keeping 55829 word types\n",
      "2018-02-19 11:11:14,149 : INFO : PROGRESS: at sentence #140000, processed 3103390 words, keeping 57318 word types\n",
      "2018-02-19 11:11:14,279 : INFO : PROGRESS: at sentence #150000, processed 3328823 words, keeping 59031 word types\n",
      "2018-02-19 11:11:14,372 : INFO : PROGRESS: at sentence #160000, processed 3550557 words, keeping 60569 word types\n",
      "2018-02-19 11:11:14,450 : INFO : PROGRESS: at sentence #170000, processed 3773286 words, keeping 62032 word types\n",
      "2018-02-19 11:11:14,518 : INFO : PROGRESS: at sentence #180000, processed 3994239 words, keeping 63473 word types\n",
      "2018-02-19 11:11:14,598 : INFO : PROGRESS: at sentence #190000, processed 4219119 words, keeping 64766 word types\n",
      "2018-02-19 11:11:14,679 : INFO : PROGRESS: at sentence #200000, processed 4443600 words, keeping 66056 word types\n",
      "2018-02-19 11:11:14,778 : INFO : PROGRESS: at sentence #210000, processed 4663901 words, keeping 67353 word types\n",
      "2018-02-19 11:11:14,866 : INFO : PROGRESS: at sentence #220000, processed 4888988 words, keeping 68632 word types\n",
      "2018-02-19 11:11:14,985 : INFO : PROGRESS: at sentence #230000, processed 5111142 words, keeping 69909 word types\n",
      "2018-02-19 11:11:15,104 : INFO : PROGRESS: at sentence #240000, processed 5338157 words, keeping 71133 word types\n",
      "2018-02-19 11:11:15,204 : INFO : PROGRESS: at sentence #250000, processed 5552543 words, keeping 72322 word types\n",
      "2018-02-19 11:11:15,310 : INFO : PROGRESS: at sentence #260000, processed 5772532 words, keeping 73454 word types\n",
      "2018-02-19 11:11:15,439 : INFO : PROGRESS: at sentence #270000, processed 5992302 words, keeping 74713 word types\n",
      "2018-02-19 11:11:15,545 : INFO : PROGRESS: at sentence #280000, processed 6218589 words, keeping 76300 word types\n",
      "2018-02-19 11:11:15,652 : INFO : PROGRESS: at sentence #290000, processed 6441501 words, keeping 77782 word types\n",
      "2018-02-19 11:11:15,773 : INFO : PROGRESS: at sentence #300000, processed 6666056 words, keeping 79128 word types\n",
      "2018-02-19 11:11:15,863 : INFO : PROGRESS: at sentence #310000, processed 6890439 words, keeping 80423 word types\n",
      "2018-02-19 11:11:15,953 : INFO : PROGRESS: at sentence #320000, processed 7117442 words, keeping 81782 word types\n",
      "2018-02-19 11:11:16,028 : INFO : PROGRESS: at sentence #330000, processed 7339075 words, keeping 82995 word types\n",
      "2018-02-19 11:11:16,107 : INFO : PROGRESS: at sentence #340000, processed 7568395 words, keeping 84249 word types\n",
      "2018-02-19 11:11:16,256 : INFO : PROGRESS: at sentence #350000, processed 7791752 words, keeping 85404 word types\n",
      "2018-02-19 11:11:16,378 : INFO : PROGRESS: at sentence #360000, processed 8011384 words, keeping 86565 word types\n",
      "2018-02-19 11:11:16,571 : INFO : PROGRESS: at sentence #370000, processed 8239070 words, keeping 87662 word types\n",
      "2018-02-19 11:11:16,721 : INFO : PROGRESS: at sentence #380000, processed 8464887 words, keeping 88840 word types\n",
      "2018-02-19 11:11:16,877 : INFO : PROGRESS: at sentence #390000, processed 8693660 words, keeping 89878 word types\n",
      "2018-02-19 11:11:17,044 : INFO : PROGRESS: at sentence #400000, processed 8917611 words, keeping 90882 word types\n",
      "2018-02-19 11:11:17,143 : INFO : PROGRESS: at sentence #410000, processed 9138559 words, keeping 91859 word types\n",
      "2018-02-19 11:11:17,267 : INFO : PROGRESS: at sentence #420000, processed 9358876 words, keeping 92882 word types\n",
      "2018-02-19 11:11:17,385 : INFO : PROGRESS: at sentence #430000, processed 9587270 words, keeping 93912 word types\n",
      "2018-02-19 11:11:17,478 : INFO : PROGRESS: at sentence #440000, processed 9813090 words, keeping 94858 word types\n",
      "2018-02-19 11:11:17,585 : INFO : PROGRESS: at sentence #450000, processed 10037669 words, keeping 95999 word types\n",
      "2018-02-19 11:11:17,689 : INFO : PROGRESS: at sentence #460000, processed 10270891 words, keeping 97068 word types\n",
      "2018-02-19 11:11:17,767 : INFO : PROGRESS: at sentence #470000, processed 10497516 words, keeping 97892 word types\n",
      "2018-02-19 11:11:17,843 : INFO : PROGRESS: at sentence #480000, processed 10718677 words, keeping 98822 word types\n",
      "2018-02-19 11:11:17,924 : INFO : PROGRESS: at sentence #490000, processed 10945340 words, keeping 99846 word types\n",
      "2018-02-19 11:11:18,021 : INFO : PROGRESS: at sentence #500000, processed 11167018 words, keeping 100743 word types\n",
      "2018-02-19 11:11:18,118 : INFO : PROGRESS: at sentence #510000, processed 11392468 words, keeping 101680 word types\n",
      "2018-02-19 11:11:18,219 : INFO : PROGRESS: at sentence #520000, processed 11615357 words, keeping 102564 word types\n",
      "2018-02-19 11:11:18,291 : INFO : PROGRESS: at sentence #530000, processed 11840724 words, keeping 103382 word types\n",
      "2018-02-19 11:11:18,385 : INFO : PROGRESS: at sentence #540000, processed 12064929 words, keeping 104239 word types\n",
      "2018-02-19 11:11:18,467 : INFO : PROGRESS: at sentence #550000, processed 12290277 words, keeping 105107 word types\n",
      "2018-02-19 11:11:18,544 : INFO : PROGRESS: at sentence #560000, processed 12511689 words, keeping 105982 word types\n",
      "2018-02-19 11:11:18,667 : INFO : PROGRESS: at sentence #570000, processed 12739997 words, keeping 106765 word types\n",
      "2018-02-19 11:11:18,788 : INFO : PROGRESS: at sentence #580000, processed 12961661 words, keeping 107628 word types\n",
      "2018-02-19 11:11:18,924 : INFO : PROGRESS: at sentence #590000, processed 13187373 words, keeping 108479 word types\n",
      "2018-02-19 11:11:19,037 : INFO : PROGRESS: at sentence #600000, processed 13409391 words, keeping 109195 word types\n",
      "2018-02-19 11:11:19,184 : INFO : PROGRESS: at sentence #610000, processed 13631453 words, keeping 110066 word types\n",
      "2018-02-19 11:11:19,341 : INFO : PROGRESS: at sentence #620000, processed 13856992 words, keeping 110810 word types\n",
      "2018-02-19 11:11:19,504 : INFO : PROGRESS: at sentence #630000, processed 14080109 words, keeping 111581 word types\n",
      "2018-02-19 11:11:19,626 : INFO : PROGRESS: at sentence #640000, processed 14301626 words, keeping 112397 word types\n",
      "2018-02-19 11:11:19,717 : INFO : PROGRESS: at sentence #650000, processed 14528096 words, keeping 113175 word types\n",
      "2018-02-19 11:11:19,797 : INFO : PROGRESS: at sentence #660000, processed 14749998 words, keeping 113902 word types\n",
      "2018-02-19 11:11:19,892 : INFO : PROGRESS: at sentence #670000, processed 14974475 words, keeping 114623 word types\n",
      "2018-02-19 11:11:19,992 : INFO : PROGRESS: at sentence #680000, processed 15199010 words, keeping 115339 word types\n",
      "2018-02-19 11:11:20,079 : INFO : PROGRESS: at sentence #690000, processed 15421656 words, keeping 116109 word types\n",
      "2018-02-19 11:11:20,157 : INFO : PROGRESS: at sentence #700000, processed 15650148 words, keeping 116922 word types\n",
      "2018-02-19 11:11:20,266 : INFO : PROGRESS: at sentence #710000, processed 15871849 words, keeping 117568 word types\n"
     ]
    },
    {
     "name": "stderr",
     "output_type": "stream",
     "text": [
      "2018-02-19 11:11:20,369 : INFO : PROGRESS: at sentence #720000, processed 16098974 words, keeping 118203 word types\n",
      "2018-02-19 11:11:20,451 : INFO : PROGRESS: at sentence #730000, processed 16323039 words, keeping 118927 word types\n",
      "2018-02-19 11:11:20,540 : INFO : PROGRESS: at sentence #740000, processed 16546073 words, keeping 119639 word types\n",
      "2018-02-19 11:11:20,636 : INFO : PROGRESS: at sentence #750000, processed 16763375 words, keeping 120274 word types\n",
      "2018-02-19 11:11:20,729 : INFO : PROGRESS: at sentence #760000, processed 16982901 words, keeping 120901 word types\n",
      "2018-02-19 11:11:20,839 : INFO : PROGRESS: at sentence #770000, processed 17209327 words, keeping 121680 word types\n",
      "2018-02-19 11:11:20,968 : INFO : PROGRESS: at sentence #780000, processed 17440408 words, keeping 122381 word types\n",
      "2018-02-19 11:11:21,071 : INFO : PROGRESS: at sentence #790000, processed 17666965 words, keeping 123048 word types\n",
      "2018-02-19 11:11:21,165 : INFO : collected 123504 word types from a corpus of 17798082 raw words and 795872 sentences\n",
      "2018-02-19 11:11:21,169 : INFO : Loading a fresh vocabulary\n",
      "2018-02-19 11:11:21,332 : INFO : min_count=40 retains 16490 unique words (13% of original 123504, drops 107014)\n",
      "2018-02-19 11:11:21,333 : INFO : min_count=40 leaves 17238940 word corpus (96% of original 17798082, drops 559142)\n",
      "2018-02-19 11:11:21,424 : INFO : deleting the raw counts dictionary of 123504 items\n",
      "2018-02-19 11:11:21,430 : INFO : sample=0.001 downsamples 48 most-common words\n",
      "2018-02-19 11:11:21,432 : INFO : downsampling leaves estimated 12749658 word corpus (74.0% of prior 17238940)\n",
      "2018-02-19 11:11:21,434 : INFO : estimated required memory for 16490 words and 300 dimensions: 47821000 bytes\n",
      "2018-02-19 11:11:21,519 : INFO : resetting layer weights\n",
      "2018-02-19 11:11:21,892 : INFO : training model with 4 workers on 16490 vocabulary and 300 features, using sg=0 hs=0 sample=0.001 negative=5 window=10\n",
      "2018-02-19 11:11:22,918 : INFO : PROGRESS: at 0.58% examples, 370417 words/s, in_qsize 8, out_qsize 0\n",
      "2018-02-19 11:11:23,920 : INFO : PROGRESS: at 1.12% examples, 356472 words/s, in_qsize 7, out_qsize 0\n",
      "2018-02-19 11:11:24,943 : INFO : PROGRESS: at 1.72% examples, 361197 words/s, in_qsize 8, out_qsize 0\n",
      "2018-02-19 11:11:25,963 : INFO : PROGRESS: at 2.27% examples, 354885 words/s, in_qsize 8, out_qsize 0\n",
      "2018-02-19 11:11:26,987 : INFO : PROGRESS: at 3.04% examples, 379192 words/s, in_qsize 7, out_qsize 0\n",
      "2018-02-19 11:11:28,003 : INFO : PROGRESS: at 3.78% examples, 392174 words/s, in_qsize 7, out_qsize 0\n",
      "2018-02-19 11:11:29,003 : INFO : PROGRESS: at 4.57% examples, 407521 words/s, in_qsize 8, out_qsize 0\n",
      "2018-02-19 11:11:30,019 : INFO : PROGRESS: at 5.29% examples, 412887 words/s, in_qsize 7, out_qsize 0\n",
      "2018-02-19 11:11:31,044 : INFO : PROGRESS: at 5.98% examples, 415065 words/s, in_qsize 8, out_qsize 0\n",
      "2018-02-19 11:11:32,076 : INFO : PROGRESS: at 6.41% examples, 398875 words/s, in_qsize 8, out_qsize 0\n",
      "2018-02-19 11:11:33,088 : INFO : PROGRESS: at 7.00% examples, 396601 words/s, in_qsize 7, out_qsize 0\n",
      "2018-02-19 11:11:34,100 : INFO : PROGRESS: at 7.51% examples, 390132 words/s, in_qsize 8, out_qsize 0\n",
      "2018-02-19 11:11:35,138 : INFO : PROGRESS: at 8.14% examples, 390368 words/s, in_qsize 8, out_qsize 1\n",
      "2018-02-19 11:11:36,142 : INFO : PROGRESS: at 8.85% examples, 394475 words/s, in_qsize 6, out_qsize 1\n",
      "2018-02-19 11:11:37,142 : INFO : PROGRESS: at 9.66% examples, 402809 words/s, in_qsize 7, out_qsize 0\n",
      "2018-02-19 11:11:38,150 : INFO : PROGRESS: at 10.23% examples, 400314 words/s, in_qsize 8, out_qsize 0\n",
      "2018-02-19 11:11:39,165 : INFO : PROGRESS: at 10.80% examples, 397873 words/s, in_qsize 6, out_qsize 1\n",
      "2018-02-19 11:11:40,178 : INFO : PROGRESS: at 11.51% examples, 400844 words/s, in_qsize 7, out_qsize 0\n",
      "2018-02-19 11:11:41,213 : INFO : PROGRESS: at 12.11% examples, 399360 words/s, in_qsize 8, out_qsize 0\n",
      "2018-02-19 11:11:42,217 : INFO : PROGRESS: at 12.87% examples, 403573 words/s, in_qsize 8, out_qsize 0\n",
      "2018-02-19 11:11:43,228 : INFO : PROGRESS: at 13.56% examples, 405219 words/s, in_qsize 8, out_qsize 0\n",
      "2018-02-19 11:11:44,244 : INFO : PROGRESS: at 14.39% examples, 410524 words/s, in_qsize 8, out_qsize 0\n",
      "2018-02-19 11:11:45,244 : INFO : PROGRESS: at 15.12% examples, 412875 words/s, in_qsize 7, out_qsize 0\n",
      "2018-02-19 11:11:46,252 : INFO : PROGRESS: at 15.87% examples, 415442 words/s, in_qsize 8, out_qsize 0\n",
      "2018-02-19 11:11:47,278 : INFO : PROGRESS: at 16.45% examples, 413292 words/s, in_qsize 7, out_qsize 0\n",
      "2018-02-19 11:11:48,296 : INFO : PROGRESS: at 17.10% examples, 413091 words/s, in_qsize 7, out_qsize 0\n",
      "2018-02-19 11:11:49,311 : INFO : PROGRESS: at 17.68% examples, 411347 words/s, in_qsize 8, out_qsize 0\n",
      "2018-02-19 11:11:50,319 : INFO : PROGRESS: at 18.33% examples, 411364 words/s, in_qsize 7, out_qsize 0\n",
      "2018-02-19 11:11:51,325 : INFO : PROGRESS: at 18.94% examples, 410413 words/s, in_qsize 8, out_qsize 0\n",
      "2018-02-19 11:11:52,326 : INFO : PROGRESS: at 19.58% examples, 410318 words/s, in_qsize 7, out_qsize 0\n",
      "2018-02-19 11:11:53,341 : INFO : PROGRESS: at 20.31% examples, 412089 words/s, in_qsize 8, out_qsize 0\n",
      "2018-02-19 11:11:54,346 : INFO : PROGRESS: at 20.88% examples, 410357 words/s, in_qsize 7, out_qsize 0\n",
      "2018-02-19 11:11:55,383 : INFO : PROGRESS: at 21.51% examples, 409604 words/s, in_qsize 8, out_qsize 0\n",
      "2018-02-19 11:11:56,392 : INFO : PROGRESS: at 22.01% examples, 406740 words/s, in_qsize 8, out_qsize 0\n",
      "2018-02-19 11:11:57,394 : INFO : PROGRESS: at 22.68% examples, 407187 words/s, in_qsize 7, out_qsize 0\n",
      "2018-02-19 11:11:58,422 : INFO : PROGRESS: at 23.31% examples, 406693 words/s, in_qsize 8, out_qsize 0\n",
      "2018-02-19 11:11:59,428 : INFO : PROGRESS: at 24.21% examples, 410828 words/s, in_qsize 8, out_qsize 0\n",
      "2018-02-19 11:12:00,470 : INFO : PROGRESS: at 24.81% examples, 409757 words/s, in_qsize 8, out_qsize 0\n",
      "2018-02-19 11:12:01,475 : INFO : PROGRESS: at 25.41% examples, 408912 words/s, in_qsize 8, out_qsize 0\n",
      "2018-02-19 11:12:02,490 : INFO : PROGRESS: at 25.87% examples, 405907 words/s, in_qsize 8, out_qsize 0\n",
      "2018-02-19 11:12:03,491 : INFO : PROGRESS: at 26.35% examples, 403354 words/s, in_qsize 7, out_qsize 0\n",
      "2018-02-19 11:12:04,535 : INFO : PROGRESS: at 26.84% examples, 400677 words/s, in_qsize 7, out_qsize 0\n",
      "2018-02-19 11:12:05,560 : INFO : PROGRESS: at 27.39% examples, 399299 words/s, in_qsize 8, out_qsize 0\n",
      "2018-02-19 11:12:06,566 : INFO : PROGRESS: at 27.90% examples, 397661 words/s, in_qsize 8, out_qsize 1\n",
      "2018-02-19 11:12:07,567 : INFO : PROGRESS: at 28.61% examples, 398974 words/s, in_qsize 7, out_qsize 0\n",
      "2018-02-19 11:12:08,588 : INFO : PROGRESS: at 29.46% examples, 401887 words/s, in_qsize 8, out_qsize 0\n",
      "2018-02-19 11:12:09,601 : INFO : PROGRESS: at 30.29% examples, 404452 words/s, in_qsize 7, out_qsize 0\n",
      "2018-02-19 11:12:10,615 : INFO : PROGRESS: at 31.13% examples, 407048 words/s, in_qsize 7, out_qsize 0\n",
      "2018-02-19 11:12:11,631 : INFO : PROGRESS: at 31.77% examples, 407209 words/s, in_qsize 8, out_qsize 2\n",
      "2018-02-19 11:12:12,650 : INFO : PROGRESS: at 32.29% examples, 405505 words/s, in_qsize 8, out_qsize 0\n",
      "2018-02-19 11:12:13,658 : INFO : PROGRESS: at 32.83% examples, 404240 words/s, in_qsize 8, out_qsize 0\n",
      "2018-02-19 11:12:14,663 : INFO : PROGRESS: at 33.35% examples, 402921 words/s, in_qsize 7, out_qsize 0\n",
      "2018-02-19 11:12:15,666 : INFO : PROGRESS: at 33.91% examples, 402063 words/s, in_qsize 7, out_qsize 0\n",
      "2018-02-19 11:12:16,676 : INFO : PROGRESS: at 34.65% examples, 403272 words/s, in_qsize 7, out_qsize 0\n",
      "2018-02-19 11:12:17,686 : INFO : PROGRESS: at 35.41% examples, 404685 words/s, in_qsize 7, out_qsize 0\n",
      "2018-02-19 11:12:18,697 : INFO : PROGRESS: at 36.12% examples, 405418 words/s, in_qsize 7, out_qsize 0\n",
      "2018-02-19 11:12:19,713 : INFO : PROGRESS: at 36.79% examples, 405706 words/s, in_qsize 8, out_qsize 1\n",
      "2018-02-19 11:12:20,733 : INFO : PROGRESS: at 37.41% examples, 405356 words/s, in_qsize 8, out_qsize 0\n",
      "2018-02-19 11:12:21,759 : INFO : PROGRESS: at 37.91% examples, 403781 words/s, in_qsize 7, out_qsize 0\n",
      "2018-02-19 11:12:22,763 : INFO : PROGRESS: at 38.45% examples, 402875 words/s, in_qsize 8, out_qsize 0\n",
      "2018-02-19 11:12:23,778 : INFO : PROGRESS: at 38.88% examples, 400538 words/s, in_qsize 7, out_qsize 0\n",
      "2018-02-19 11:12:24,782 : INFO : PROGRESS: at 39.45% examples, 399945 words/s, in_qsize 8, out_qsize 0\n"
     ]
    },
    {
     "name": "stderr",
     "output_type": "stream",
     "text": [
      "2018-02-19 11:12:25,835 : INFO : PROGRESS: at 39.90% examples, 397948 words/s, in_qsize 7, out_qsize 0\n",
      "2018-02-19 11:12:26,835 : INFO : PROGRESS: at 40.73% examples, 399966 words/s, in_qsize 7, out_qsize 0\n",
      "2018-02-19 11:12:27,847 : INFO : PROGRESS: at 41.44% examples, 400657 words/s, in_qsize 8, out_qsize 0\n",
      "2018-02-19 11:12:28,864 : INFO : PROGRESS: at 42.38% examples, 403442 words/s, in_qsize 8, out_qsize 0\n",
      "2018-02-19 11:12:29,872 : INFO : PROGRESS: at 43.03% examples, 403458 words/s, in_qsize 8, out_qsize 0\n",
      "2018-02-19 11:12:30,901 : INFO : PROGRESS: at 43.75% examples, 404076 words/s, in_qsize 7, out_qsize 0\n",
      "2018-02-19 11:12:31,911 : INFO : PROGRESS: at 44.27% examples, 402950 words/s, in_qsize 8, out_qsize 0\n",
      "2018-02-19 11:12:32,928 : INFO : PROGRESS: at 45.15% examples, 405023 words/s, in_qsize 8, out_qsize 0\n",
      "2018-02-19 11:12:33,934 : INFO : PROGRESS: at 45.88% examples, 405816 words/s, in_qsize 8, out_qsize 0\n",
      "2018-02-19 11:12:34,941 : INFO : PROGRESS: at 46.75% examples, 407656 words/s, in_qsize 8, out_qsize 0\n",
      "2018-02-19 11:12:35,959 : INFO : PROGRESS: at 47.45% examples, 408135 words/s, in_qsize 7, out_qsize 0\n",
      "2018-02-19 11:12:36,964 : INFO : PROGRESS: at 48.21% examples, 409153 words/s, in_qsize 8, out_qsize 0\n",
      "2018-02-19 11:12:37,980 : INFO : PROGRESS: at 48.71% examples, 407925 words/s, in_qsize 7, out_qsize 0\n",
      "2018-02-19 11:12:38,989 : INFO : PROGRESS: at 49.33% examples, 407684 words/s, in_qsize 8, out_qsize 0\n",
      "2018-02-19 11:12:39,999 : INFO : PROGRESS: at 49.80% examples, 406349 words/s, in_qsize 8, out_qsize 0\n",
      "2018-02-19 11:12:41,013 : INFO : PROGRESS: at 50.49% examples, 406653 words/s, in_qsize 8, out_qsize 0\n",
      "2018-02-19 11:12:42,023 : INFO : PROGRESS: at 51.34% examples, 408306 words/s, in_qsize 8, out_qsize 0\n",
      "2018-02-19 11:12:43,037 : INFO : PROGRESS: at 52.01% examples, 408570 words/s, in_qsize 8, out_qsize 0\n",
      "2018-02-19 11:12:44,038 : INFO : PROGRESS: at 52.71% examples, 409083 words/s, in_qsize 7, out_qsize 0\n",
      "2018-02-19 11:12:45,057 : INFO : PROGRESS: at 53.63% examples, 411127 words/s, in_qsize 7, out_qsize 0\n",
      "2018-02-19 11:12:46,082 : INFO : PROGRESS: at 54.26% examples, 410872 words/s, in_qsize 7, out_qsize 0\n",
      "2018-02-19 11:12:47,093 : INFO : PROGRESS: at 54.94% examples, 411121 words/s, in_qsize 8, out_qsize 1\n",
      "2018-02-19 11:12:48,126 : INFO : PROGRESS: at 55.55% examples, 410677 words/s, in_qsize 6, out_qsize 1\n",
      "2018-02-19 11:12:49,127 : INFO : PROGRESS: at 56.27% examples, 411207 words/s, in_qsize 6, out_qsize 1\n",
      "2018-02-19 11:12:50,127 : INFO : PROGRESS: at 57.16% examples, 413036 words/s, in_qsize 8, out_qsize 0\n",
      "2018-02-19 11:12:51,136 : INFO : PROGRESS: at 58.01% examples, 414450 words/s, in_qsize 7, out_qsize 0\n",
      "2018-02-19 11:12:52,142 : INFO : PROGRESS: at 58.89% examples, 416016 words/s, in_qsize 7, out_qsize 0\n",
      "2018-02-19 11:12:53,168 : INFO : PROGRESS: at 59.76% examples, 417531 words/s, in_qsize 7, out_qsize 0\n",
      "2018-02-19 11:12:54,193 : INFO : PROGRESS: at 60.47% examples, 417775 words/s, in_qsize 8, out_qsize 0\n",
      "2018-02-19 11:12:55,207 : INFO : PROGRESS: at 61.15% examples, 417909 words/s, in_qsize 8, out_qsize 0\n",
      "2018-02-19 11:12:56,244 : INFO : PROGRESS: at 61.85% examples, 417937 words/s, in_qsize 7, out_qsize 0\n",
      "2018-02-19 11:12:57,275 : INFO : PROGRESS: at 62.69% examples, 418979 words/s, in_qsize 8, out_qsize 0\n",
      "2018-02-19 11:12:58,276 : INFO : PROGRESS: at 63.55% examples, 420268 words/s, in_qsize 7, out_qsize 0\n",
      "2018-02-19 11:12:59,278 : INFO : PROGRESS: at 64.40% examples, 421452 words/s, in_qsize 7, out_qsize 0\n",
      "2018-02-19 11:13:00,285 : INFO : PROGRESS: at 65.34% examples, 423237 words/s, in_qsize 7, out_qsize 0\n",
      "2018-02-19 11:13:01,317 : INFO : PROGRESS: at 66.26% examples, 424670 words/s, in_qsize 8, out_qsize 0\n",
      "2018-02-19 11:13:02,351 : INFO : PROGRESS: at 66.99% examples, 424920 words/s, in_qsize 7, out_qsize 0\n",
      "2018-02-19 11:13:03,366 : INFO : PROGRESS: at 67.66% examples, 424896 words/s, in_qsize 8, out_qsize 0\n",
      "2018-02-19 11:13:04,387 : INFO : PROGRESS: at 68.29% examples, 424574 words/s, in_qsize 7, out_qsize 0\n",
      "2018-02-19 11:13:05,391 : INFO : PROGRESS: at 69.22% examples, 426192 words/s, in_qsize 8, out_qsize 0\n",
      "2018-02-19 11:13:06,409 : INFO : PROGRESS: at 70.07% examples, 427309 words/s, in_qsize 6, out_qsize 1\n",
      "2018-02-19 11:13:07,429 : INFO : PROGRESS: at 70.75% examples, 427242 words/s, in_qsize 7, out_qsize 0\n",
      "2018-02-19 11:13:08,430 : INFO : PROGRESS: at 71.50% examples, 427790 words/s, in_qsize 7, out_qsize 0\n",
      "2018-02-19 11:13:09,444 : INFO : PROGRESS: at 72.04% examples, 427017 words/s, in_qsize 8, out_qsize 0\n",
      "2018-02-19 11:13:10,455 : INFO : PROGRESS: at 72.60% examples, 426333 words/s, in_qsize 7, out_qsize 0\n",
      "2018-02-19 11:13:11,472 : INFO : PROGRESS: at 73.03% examples, 424856 words/s, in_qsize 7, out_qsize 0\n",
      "2018-02-19 11:13:12,477 : INFO : PROGRESS: at 73.54% examples, 423969 words/s, in_qsize 7, out_qsize 0\n",
      "2018-02-19 11:13:13,478 : INFO : PROGRESS: at 74.07% examples, 423183 words/s, in_qsize 8, out_qsize 0\n",
      "2018-02-19 11:13:14,498 : INFO : PROGRESS: at 74.59% examples, 422331 words/s, in_qsize 8, out_qsize 0\n",
      "2018-02-19 11:13:15,526 : INFO : PROGRESS: at 75.22% examples, 422041 words/s, in_qsize 8, out_qsize 0\n",
      "2018-02-19 11:13:16,543 : INFO : PROGRESS: at 75.86% examples, 421848 words/s, in_qsize 7, out_qsize 0\n",
      "2018-02-19 11:13:17,548 : INFO : PROGRESS: at 76.53% examples, 421891 words/s, in_qsize 7, out_qsize 0\n",
      "2018-02-19 11:13:18,561 : INFO : PROGRESS: at 77.21% examples, 421903 words/s, in_qsize 6, out_qsize 1\n",
      "2018-02-19 11:13:19,575 : INFO : PROGRESS: at 77.84% examples, 421729 words/s, in_qsize 8, out_qsize 0\n",
      "2018-02-19 11:13:20,601 : INFO : PROGRESS: at 78.44% examples, 421334 words/s, in_qsize 6, out_qsize 1\n",
      "2018-02-19 11:13:21,622 : INFO : PROGRESS: at 79.11% examples, 421203 words/s, in_qsize 7, out_qsize 0\n",
      "2018-02-19 11:13:22,624 : INFO : PROGRESS: at 79.83% examples, 421621 words/s, in_qsize 8, out_qsize 1\n",
      "2018-02-19 11:13:23,632 : INFO : PROGRESS: at 80.76% examples, 423001 words/s, in_qsize 8, out_qsize 0\n",
      "2018-02-19 11:13:24,639 : INFO : PROGRESS: at 81.69% examples, 424304 words/s, in_qsize 8, out_qsize 0\n",
      "2018-02-19 11:13:25,662 : INFO : PROGRESS: at 82.63% examples, 425601 words/s, in_qsize 7, out_qsize 0\n",
      "2018-02-19 11:13:26,668 : INFO : PROGRESS: at 83.51% examples, 426580 words/s, in_qsize 7, out_qsize 0\n",
      "2018-02-19 11:13:27,688 : INFO : PROGRESS: at 84.26% examples, 426927 words/s, in_qsize 7, out_qsize 0\n",
      "2018-02-19 11:13:28,710 : INFO : PROGRESS: at 84.95% examples, 426934 words/s, in_qsize 8, out_qsize 0\n",
      "2018-02-19 11:13:29,712 : INFO : PROGRESS: at 85.58% examples, 426711 words/s, in_qsize 7, out_qsize 0\n",
      "2018-02-19 11:13:30,717 : INFO : PROGRESS: at 86.31% examples, 426934 words/s, in_qsize 8, out_qsize 0\n",
      "2018-02-19 11:13:31,725 : INFO : PROGRESS: at 87.15% examples, 427742 words/s, in_qsize 7, out_qsize 0\n",
      "2018-02-19 11:13:32,733 : INFO : PROGRESS: at 88.04% examples, 428823 words/s, in_qsize 6, out_qsize 1\n",
      "2018-02-19 11:13:33,736 : INFO : PROGRESS: at 89.02% examples, 430279 words/s, in_qsize 7, out_qsize 0\n",
      "2018-02-19 11:13:34,751 : INFO : PROGRESS: at 89.94% examples, 431461 words/s, in_qsize 8, out_qsize 0\n",
      "2018-02-19 11:13:35,757 : INFO : PROGRESS: at 90.68% examples, 431746 words/s, in_qsize 8, out_qsize 0\n",
      "2018-02-19 11:13:36,761 : INFO : PROGRESS: at 91.30% examples, 431498 words/s, in_qsize 8, out_qsize 0\n",
      "2018-02-19 11:13:37,796 : INFO : PROGRESS: at 91.76% examples, 430420 words/s, in_qsize 7, out_qsize 0\n",
      "2018-02-19 11:13:38,813 : INFO : PROGRESS: at 92.26% examples, 429571 words/s, in_qsize 7, out_qsize 0\n",
      "2018-02-19 11:13:39,829 : INFO : PROGRESS: at 92.98% examples, 429723 words/s, in_qsize 7, out_qsize 0\n",
      "2018-02-19 11:13:40,835 : INFO : PROGRESS: at 93.61% examples, 429499 words/s, in_qsize 7, out_qsize 0\n",
      "2018-02-19 11:13:41,839 : INFO : PROGRESS: at 94.38% examples, 429939 words/s, in_qsize 7, out_qsize 0\n",
      "2018-02-19 11:13:42,850 : INFO : PROGRESS: at 95.05% examples, 429895 words/s, in_qsize 8, out_qsize 0\n",
      "2018-02-19 11:13:43,903 : INFO : PROGRESS: at 95.75% examples, 429829 words/s, in_qsize 8, out_qsize 0\n",
      "2018-02-19 11:13:44,913 : INFO : PROGRESS: at 96.24% examples, 428996 words/s, in_qsize 8, out_qsize 0\n",
      "2018-02-19 11:13:45,925 : INFO : PROGRESS: at 96.85% examples, 428663 words/s, in_qsize 6, out_qsize 1\n"
     ]
    },
    {
     "name": "stderr",
     "output_type": "stream",
     "text": [
      "2018-02-19 11:13:46,929 : INFO : PROGRESS: at 97.30% examples, 427669 words/s, in_qsize 7, out_qsize 0\n",
      "2018-02-19 11:13:47,940 : INFO : PROGRESS: at 98.07% examples, 428135 words/s, in_qsize 7, out_qsize 0\n",
      "2018-02-19 11:13:48,948 : INFO : PROGRESS: at 98.77% examples, 428214 words/s, in_qsize 8, out_qsize 0\n",
      "2018-02-19 11:13:49,951 : INFO : PROGRESS: at 99.58% examples, 428789 words/s, in_qsize 7, out_qsize 0\n",
      "2018-02-19 11:13:50,503 : INFO : worker thread finished; awaiting finish of 3 more threads\n",
      "2018-02-19 11:13:50,530 : INFO : worker thread finished; awaiting finish of 2 more threads\n",
      "2018-02-19 11:13:50,532 : INFO : worker thread finished; awaiting finish of 1 more threads\n",
      "2018-02-19 11:13:50,540 : INFO : worker thread finished; awaiting finish of 0 more threads\n",
      "2018-02-19 11:13:50,542 : INFO : training on 88990410 raw words (63747886 effective words) took 148.6s, 428910 effective words/s\n"
     ]
    }
   ],
   "source": [
    "model = word2vec.Word2Vec(sentences, workers = num_workers,size = num_features,\n",
    "                         min_count = min_word_count, window = context,\n",
    "                         sample = downsampling)"
   ]
  },
  {
   "cell_type": "code",
   "execution_count": 57,
   "metadata": {},
   "outputs": [
    {
     "name": "stderr",
     "output_type": "stream",
     "text": [
      "2018-02-19 11:14:23,689 : INFO : precomputing L2-norms of word weight vectors\n"
     ]
    }
   ],
   "source": [
    "model.init_sims(replace = True)"
   ]
  },
  {
   "cell_type": "code",
   "execution_count": 58,
   "metadata": {
    "collapsed": true
   },
   "outputs": [],
   "source": [
    "model_name = '300features_40minwords_10context'"
   ]
  },
  {
   "cell_type": "code",
   "execution_count": 59,
   "metadata": {},
   "outputs": [
    {
     "name": "stderr",
     "output_type": "stream",
     "text": [
      "2018-02-19 11:15:23,815 : INFO : saving Word2Vec object under 300features_40minwords_10context, separately None\n",
      "2018-02-19 11:15:23,817 : INFO : not storing attribute syn0norm\n",
      "2018-02-19 11:15:23,820 : INFO : not storing attribute cum_table\n",
      "2018-02-19 11:15:24,677 : INFO : saved 300features_40minwords_10context\n"
     ]
    }
   ],
   "source": [
    "model.save(model_name)"
   ]
  },
  {
   "cell_type": "code",
   "execution_count": 60,
   "metadata": {},
   "outputs": [
    {
     "data": {
      "text/plain": [
       "'kitchen'"
      ]
     },
     "execution_count": 60,
     "metadata": {},
     "output_type": "execute_result"
    }
   ],
   "source": [
    "model.doesnt_match(\"man woman child kitchen\".split())"
   ]
  },
  {
   "cell_type": "code",
   "execution_count": 61,
   "metadata": {},
   "outputs": [
    {
     "data": {
      "text/plain": [
       "'berlin'"
      ]
     },
     "execution_count": 61,
     "metadata": {},
     "output_type": "execute_result"
    }
   ],
   "source": [
    "model.doesnt_match(\"france england germany berlin\".split())"
   ]
  },
  {
   "cell_type": "code",
   "execution_count": 62,
   "metadata": {},
   "outputs": [
    {
     "data": {
      "text/plain": [
       "[('woman', 0.6309723854064941),\n",
       " ('lad', 0.5915274620056152),\n",
       " ('lady', 0.5688589215278625),\n",
       " ('millionaire', 0.5497893691062927),\n",
       " ('farmer', 0.5383172035217285),\n",
       " ('men', 0.5233877897262573),\n",
       " ('guy', 0.5208142399787903),\n",
       " ('businessman', 0.51967453956604),\n",
       " ('soldier', 0.5097598433494568),\n",
       " ('doctor', 0.4996083080768585)]"
      ]
     },
     "execution_count": 62,
     "metadata": {},
     "output_type": "execute_result"
    }
   ],
   "source": [
    " model.most_similar(\"man\")"
   ]
  },
  {
   "cell_type": "code",
   "execution_count": 63,
   "metadata": {},
   "outputs": [
    {
     "data": {
      "text/plain": [
       "[('princess', 0.6836521625518799),\n",
       " ('bride', 0.6408625841140747),\n",
       " ('belle', 0.6077468395233154),\n",
       " ('latifah', 0.6037553548812866),\n",
       " ('stepmother', 0.5939933657646179),\n",
       " ('countess', 0.5890026092529297),\n",
       " ('eva', 0.5868399143218994),\n",
       " ('maid', 0.5808672904968262),\n",
       " ('dame', 0.5804820656776428),\n",
       " ('goddess', 0.5804146528244019)]"
      ]
     },
     "execution_count": 63,
     "metadata": {},
     "output_type": "execute_result"
    }
   ],
   "source": [
    "model.most_similar(\"queen\")"
   ]
  },
  {
   "cell_type": "code",
   "execution_count": 64,
   "metadata": {},
   "outputs": [
    {
     "data": {
      "text/plain": [
       "[('terrible', 0.78148353099823),\n",
       " ('horrible', 0.7447474002838135),\n",
       " ('abysmal', 0.7387266159057617),\n",
       " ('atrocious', 0.7383643984794617),\n",
       " ('dreadful', 0.7258464097976685),\n",
       " ('horrendous', 0.7021243572235107),\n",
       " ('appalling', 0.6725282669067383),\n",
       " ('horrid', 0.6635608673095703),\n",
       " ('lousy', 0.6361799240112305),\n",
       " ('amateurish', 0.629527747631073)]"
      ]
     },
     "execution_count": 64,
     "metadata": {},
     "output_type": "execute_result"
    }
   ],
   "source": [
    "model.most_similar(\"awful\")"
   ]
  },
  {
   "cell_type": "code",
   "execution_count": 2,
   "metadata": {},
   "outputs": [
    {
     "name": "stderr",
     "output_type": "stream",
     "text": [
      "C:\\Anaconda3\\lib\\site-packages\\gensim\\utils.py:860: UserWarning: detected Windows; aliasing chunkize to chunkize_serial\n",
      "  warnings.warn(\"detected Windows; aliasing chunkize to chunkize_serial\")\n"
     ]
    }
   ],
   "source": [
    "from gensim.models import Word2Vec"
   ]
  },
  {
   "cell_type": "code",
   "execution_count": 3,
   "metadata": {},
   "outputs": [],
   "source": [
    "model = Word2Vec.load(\"300features_40minwords_10context\")"
   ]
  },
  {
   "cell_type": "code",
   "execution_count": null,
   "metadata": {
    "collapsed": true
   },
   "outputs": [],
   "source": []
  },
  {
   "cell_type": "code",
   "execution_count": null,
   "metadata": {
    "collapsed": true
   },
   "outputs": [],
   "source": []
  },
  {
   "cell_type": "code",
   "execution_count": null,
   "metadata": {
    "collapsed": true
   },
   "outputs": [],
   "source": []
  },
  {
   "cell_type": "code",
   "execution_count": null,
   "metadata": {
    "collapsed": true
   },
   "outputs": [],
   "source": []
  },
  {
   "cell_type": "code",
   "execution_count": null,
   "metadata": {
    "collapsed": true
   },
   "outputs": [],
   "source": []
  },
  {
   "cell_type": "code",
   "execution_count": null,
   "metadata": {
    "collapsed": true
   },
   "outputs": [],
   "source": []
  },
  {
   "cell_type": "code",
   "execution_count": null,
   "metadata": {
    "collapsed": true
   },
   "outputs": [],
   "source": []
  },
  {
   "cell_type": "code",
   "execution_count": null,
   "metadata": {
    "collapsed": true
   },
   "outputs": [],
   "source": []
  }
 ],
 "metadata": {
  "kernelspec": {
   "display_name": "Python 3",
   "language": "python",
   "name": "python3"
  },
  "language_info": {
   "codemirror_mode": {
    "name": "ipython",
    "version": 3
   },
   "file_extension": ".py",
   "mimetype": "text/x-python",
   "name": "python",
   "nbconvert_exporter": "python",
   "pygments_lexer": "ipython3",
   "version": "3.6.3"
  }
 },
 "nbformat": 4,
 "nbformat_minor": 2
}
