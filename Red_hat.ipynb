{
 "cells": [
  {
   "cell_type": "markdown",
   "metadata": {},
   "source": [
    "# Load Package"
   ]
  },
  {
   "cell_type": "code",
   "execution_count": 1,
   "metadata": {},
   "outputs": [],
   "source": [
    "%matplotlib inline\n",
    "import pandas as pd\n",
    "import numpy as np\n",
    "import seaborn as sns\n",
    "import matplotlib.pyplot as plt\n",
    "from sklearn.ensemble import RandomForestClassifier"
   ]
  },
  {
   "cell_type": "markdown",
   "metadata": {},
   "source": [
    "# Load Dataset"
   ]
  },
  {
   "cell_type": "code",
   "execution_count": 2,
   "metadata": {
    "collapsed": true
   },
   "outputs": [],
   "source": [
    "train = pd.read_csv(\"act_train.csv\",parse_dates=[\"date\"])\n",
    "test = pd.read_csv(\"act_test.csv\",parse_dates=[\"date\"])\n",
    "people = pd.read_csv(\"people.csv\",parse_dates=[\"date\"])"
   ]
  },
  {
   "cell_type": "code",
   "execution_count": 3,
   "metadata": {},
   "outputs": [
    {
     "data": {
      "text/html": [
       "<div>\n",
       "<style>\n",
       "    .dataframe thead tr:only-child th {\n",
       "        text-align: right;\n",
       "    }\n",
       "\n",
       "    .dataframe thead th {\n",
       "        text-align: left;\n",
       "    }\n",
       "\n",
       "    .dataframe tbody tr th {\n",
       "        vertical-align: top;\n",
       "    }\n",
       "</style>\n",
       "<table border=\"1\" class=\"dataframe\">\n",
       "  <thead>\n",
       "    <tr style=\"text-align: right;\">\n",
       "      <th></th>\n",
       "      <th>people_id</th>\n",
       "      <th>activity_id</th>\n",
       "      <th>date</th>\n",
       "      <th>activity_category</th>\n",
       "      <th>char_1</th>\n",
       "      <th>char_2</th>\n",
       "      <th>char_3</th>\n",
       "      <th>char_4</th>\n",
       "      <th>char_5</th>\n",
       "      <th>char_6</th>\n",
       "      <th>char_7</th>\n",
       "      <th>char_8</th>\n",
       "      <th>char_9</th>\n",
       "      <th>char_10</th>\n",
       "      <th>outcome</th>\n",
       "    </tr>\n",
       "  </thead>\n",
       "  <tbody>\n",
       "    <tr>\n",
       "      <th>0</th>\n",
       "      <td>ppl_100</td>\n",
       "      <td>act2_1734928</td>\n",
       "      <td>2023-08-26</td>\n",
       "      <td>type 4</td>\n",
       "      <td>NaN</td>\n",
       "      <td>NaN</td>\n",
       "      <td>NaN</td>\n",
       "      <td>NaN</td>\n",
       "      <td>NaN</td>\n",
       "      <td>NaN</td>\n",
       "      <td>NaN</td>\n",
       "      <td>NaN</td>\n",
       "      <td>NaN</td>\n",
       "      <td>type 76</td>\n",
       "      <td>0</td>\n",
       "    </tr>\n",
       "    <tr>\n",
       "      <th>1</th>\n",
       "      <td>ppl_100</td>\n",
       "      <td>act2_2434093</td>\n",
       "      <td>2022-09-27</td>\n",
       "      <td>type 2</td>\n",
       "      <td>NaN</td>\n",
       "      <td>NaN</td>\n",
       "      <td>NaN</td>\n",
       "      <td>NaN</td>\n",
       "      <td>NaN</td>\n",
       "      <td>NaN</td>\n",
       "      <td>NaN</td>\n",
       "      <td>NaN</td>\n",
       "      <td>NaN</td>\n",
       "      <td>type 1</td>\n",
       "      <td>0</td>\n",
       "    </tr>\n",
       "    <tr>\n",
       "      <th>2</th>\n",
       "      <td>ppl_100</td>\n",
       "      <td>act2_3404049</td>\n",
       "      <td>2022-09-27</td>\n",
       "      <td>type 2</td>\n",
       "      <td>NaN</td>\n",
       "      <td>NaN</td>\n",
       "      <td>NaN</td>\n",
       "      <td>NaN</td>\n",
       "      <td>NaN</td>\n",
       "      <td>NaN</td>\n",
       "      <td>NaN</td>\n",
       "      <td>NaN</td>\n",
       "      <td>NaN</td>\n",
       "      <td>type 1</td>\n",
       "      <td>0</td>\n",
       "    </tr>\n",
       "    <tr>\n",
       "      <th>3</th>\n",
       "      <td>ppl_100</td>\n",
       "      <td>act2_3651215</td>\n",
       "      <td>2023-08-04</td>\n",
       "      <td>type 2</td>\n",
       "      <td>NaN</td>\n",
       "      <td>NaN</td>\n",
       "      <td>NaN</td>\n",
       "      <td>NaN</td>\n",
       "      <td>NaN</td>\n",
       "      <td>NaN</td>\n",
       "      <td>NaN</td>\n",
       "      <td>NaN</td>\n",
       "      <td>NaN</td>\n",
       "      <td>type 1</td>\n",
       "      <td>0</td>\n",
       "    </tr>\n",
       "    <tr>\n",
       "      <th>4</th>\n",
       "      <td>ppl_100</td>\n",
       "      <td>act2_4109017</td>\n",
       "      <td>2023-08-26</td>\n",
       "      <td>type 2</td>\n",
       "      <td>NaN</td>\n",
       "      <td>NaN</td>\n",
       "      <td>NaN</td>\n",
       "      <td>NaN</td>\n",
       "      <td>NaN</td>\n",
       "      <td>NaN</td>\n",
       "      <td>NaN</td>\n",
       "      <td>NaN</td>\n",
       "      <td>NaN</td>\n",
       "      <td>type 1</td>\n",
       "      <td>0</td>\n",
       "    </tr>\n",
       "  </tbody>\n",
       "</table>\n",
       "</div>"
      ],
      "text/plain": [
       "  people_id   activity_id       date activity_category char_1 char_2 char_3  \\\n",
       "0   ppl_100  act2_1734928 2023-08-26            type 4    NaN    NaN    NaN   \n",
       "1   ppl_100  act2_2434093 2022-09-27            type 2    NaN    NaN    NaN   \n",
       "2   ppl_100  act2_3404049 2022-09-27            type 2    NaN    NaN    NaN   \n",
       "3   ppl_100  act2_3651215 2023-08-04            type 2    NaN    NaN    NaN   \n",
       "4   ppl_100  act2_4109017 2023-08-26            type 2    NaN    NaN    NaN   \n",
       "\n",
       "  char_4 char_5 char_6 char_7 char_8 char_9  char_10  outcome  \n",
       "0    NaN    NaN    NaN    NaN    NaN    NaN  type 76        0  \n",
       "1    NaN    NaN    NaN    NaN    NaN    NaN   type 1        0  \n",
       "2    NaN    NaN    NaN    NaN    NaN    NaN   type 1        0  \n",
       "3    NaN    NaN    NaN    NaN    NaN    NaN   type 1        0  \n",
       "4    NaN    NaN    NaN    NaN    NaN    NaN   type 1        0  "
      ]
     },
     "execution_count": 3,
     "metadata": {},
     "output_type": "execute_result"
    }
   ],
   "source": [
    "train.head()"
   ]
  },
  {
   "cell_type": "code",
   "execution_count": 4,
   "metadata": {},
   "outputs": [
    {
     "data": {
      "text/plain": [
       "151295"
      ]
     },
     "execution_count": 4,
     "metadata": {},
     "output_type": "execute_result"
    }
   ],
   "source": [
    "len(train[\"people_id\"].unique())"
   ]
  },
  {
   "cell_type": "code",
   "execution_count": 5,
   "metadata": {},
   "outputs": [
    {
     "data": {
      "text/plain": [
       "(498687, 14)"
      ]
     },
     "execution_count": 5,
     "metadata": {},
     "output_type": "execute_result"
    }
   ],
   "source": [
    "test.shape"
   ]
  },
  {
   "cell_type": "code",
   "execution_count": 6,
   "metadata": {},
   "outputs": [
    {
     "data": {
      "text/html": [
       "<div>\n",
       "<style>\n",
       "    .dataframe thead tr:only-child th {\n",
       "        text-align: right;\n",
       "    }\n",
       "\n",
       "    .dataframe thead th {\n",
       "        text-align: left;\n",
       "    }\n",
       "\n",
       "    .dataframe tbody tr th {\n",
       "        vertical-align: top;\n",
       "    }\n",
       "</style>\n",
       "<table border=\"1\" class=\"dataframe\">\n",
       "  <thead>\n",
       "    <tr style=\"text-align: right;\">\n",
       "      <th></th>\n",
       "      <th>people_id</th>\n",
       "      <th>activity_id</th>\n",
       "      <th>date</th>\n",
       "      <th>activity_category</th>\n",
       "      <th>char_1</th>\n",
       "      <th>char_2</th>\n",
       "      <th>char_3</th>\n",
       "      <th>char_4</th>\n",
       "      <th>char_5</th>\n",
       "      <th>char_6</th>\n",
       "      <th>char_7</th>\n",
       "      <th>char_8</th>\n",
       "      <th>char_9</th>\n",
       "      <th>char_10</th>\n",
       "    </tr>\n",
       "  </thead>\n",
       "  <tbody>\n",
       "    <tr>\n",
       "      <th>0</th>\n",
       "      <td>ppl_100004</td>\n",
       "      <td>act1_249281</td>\n",
       "      <td>2022-07-20</td>\n",
       "      <td>type 1</td>\n",
       "      <td>type 5</td>\n",
       "      <td>type 10</td>\n",
       "      <td>type 5</td>\n",
       "      <td>type 1</td>\n",
       "      <td>type 6</td>\n",
       "      <td>type 1</td>\n",
       "      <td>type 1</td>\n",
       "      <td>type 7</td>\n",
       "      <td>type 4</td>\n",
       "      <td>NaN</td>\n",
       "    </tr>\n",
       "    <tr>\n",
       "      <th>1</th>\n",
       "      <td>ppl_100004</td>\n",
       "      <td>act2_230855</td>\n",
       "      <td>2022-07-20</td>\n",
       "      <td>type 5</td>\n",
       "      <td>NaN</td>\n",
       "      <td>NaN</td>\n",
       "      <td>NaN</td>\n",
       "      <td>NaN</td>\n",
       "      <td>NaN</td>\n",
       "      <td>NaN</td>\n",
       "      <td>NaN</td>\n",
       "      <td>NaN</td>\n",
       "      <td>NaN</td>\n",
       "      <td>type 682</td>\n",
       "    </tr>\n",
       "    <tr>\n",
       "      <th>2</th>\n",
       "      <td>ppl_10001</td>\n",
       "      <td>act1_240724</td>\n",
       "      <td>2022-10-14</td>\n",
       "      <td>type 1</td>\n",
       "      <td>type 12</td>\n",
       "      <td>type 1</td>\n",
       "      <td>type 5</td>\n",
       "      <td>type 4</td>\n",
       "      <td>type 6</td>\n",
       "      <td>type 1</td>\n",
       "      <td>type 1</td>\n",
       "      <td>type 13</td>\n",
       "      <td>type 10</td>\n",
       "      <td>NaN</td>\n",
       "    </tr>\n",
       "    <tr>\n",
       "      <th>3</th>\n",
       "      <td>ppl_10001</td>\n",
       "      <td>act1_83552</td>\n",
       "      <td>2022-11-27</td>\n",
       "      <td>type 1</td>\n",
       "      <td>type 20</td>\n",
       "      <td>type 10</td>\n",
       "      <td>type 5</td>\n",
       "      <td>type 4</td>\n",
       "      <td>type 6</td>\n",
       "      <td>type 1</td>\n",
       "      <td>type 1</td>\n",
       "      <td>type 5</td>\n",
       "      <td>type 5</td>\n",
       "      <td>NaN</td>\n",
       "    </tr>\n",
       "    <tr>\n",
       "      <th>4</th>\n",
       "      <td>ppl_10001</td>\n",
       "      <td>act2_1043301</td>\n",
       "      <td>2022-10-15</td>\n",
       "      <td>type 5</td>\n",
       "      <td>NaN</td>\n",
       "      <td>NaN</td>\n",
       "      <td>NaN</td>\n",
       "      <td>NaN</td>\n",
       "      <td>NaN</td>\n",
       "      <td>NaN</td>\n",
       "      <td>NaN</td>\n",
       "      <td>NaN</td>\n",
       "      <td>NaN</td>\n",
       "      <td>type 3015</td>\n",
       "    </tr>\n",
       "  </tbody>\n",
       "</table>\n",
       "</div>"
      ],
      "text/plain": [
       "    people_id   activity_id       date activity_category   char_1   char_2  \\\n",
       "0  ppl_100004   act1_249281 2022-07-20            type 1   type 5  type 10   \n",
       "1  ppl_100004   act2_230855 2022-07-20            type 5      NaN      NaN   \n",
       "2   ppl_10001   act1_240724 2022-10-14            type 1  type 12   type 1   \n",
       "3   ppl_10001    act1_83552 2022-11-27            type 1  type 20  type 10   \n",
       "4   ppl_10001  act2_1043301 2022-10-15            type 5      NaN      NaN   \n",
       "\n",
       "   char_3  char_4  char_5  char_6  char_7   char_8   char_9    char_10  \n",
       "0  type 5  type 1  type 6  type 1  type 1   type 7   type 4        NaN  \n",
       "1     NaN     NaN     NaN     NaN     NaN      NaN      NaN   type 682  \n",
       "2  type 5  type 4  type 6  type 1  type 1  type 13  type 10        NaN  \n",
       "3  type 5  type 4  type 6  type 1  type 1   type 5   type 5        NaN  \n",
       "4     NaN     NaN     NaN     NaN     NaN      NaN      NaN  type 3015  "
      ]
     },
     "execution_count": 6,
     "metadata": {},
     "output_type": "execute_result"
    }
   ],
   "source": [
    "test.head()"
   ]
  },
  {
   "cell_type": "code",
   "execution_count": 7,
   "metadata": {},
   "outputs": [
    {
     "data": {
      "text/plain": [
       "(189118, 41)"
      ]
     },
     "execution_count": 7,
     "metadata": {},
     "output_type": "execute_result"
    }
   ],
   "source": [
    "people.shape"
   ]
  },
  {
   "cell_type": "code",
   "execution_count": 8,
   "metadata": {},
   "outputs": [
    {
     "data": {
      "text/html": [
       "<div>\n",
       "<style>\n",
       "    .dataframe thead tr:only-child th {\n",
       "        text-align: right;\n",
       "    }\n",
       "\n",
       "    .dataframe thead th {\n",
       "        text-align: left;\n",
       "    }\n",
       "\n",
       "    .dataframe tbody tr th {\n",
       "        vertical-align: top;\n",
       "    }\n",
       "</style>\n",
       "<table border=\"1\" class=\"dataframe\">\n",
       "  <thead>\n",
       "    <tr style=\"text-align: right;\">\n",
       "      <th></th>\n",
       "      <th>people_id</th>\n",
       "      <th>char_1</th>\n",
       "      <th>group_1</th>\n",
       "      <th>char_2</th>\n",
       "      <th>date</th>\n",
       "      <th>char_3</th>\n",
       "      <th>char_4</th>\n",
       "      <th>char_5</th>\n",
       "      <th>char_6</th>\n",
       "      <th>char_7</th>\n",
       "      <th>...</th>\n",
       "      <th>char_29</th>\n",
       "      <th>char_30</th>\n",
       "      <th>char_31</th>\n",
       "      <th>char_32</th>\n",
       "      <th>char_33</th>\n",
       "      <th>char_34</th>\n",
       "      <th>char_35</th>\n",
       "      <th>char_36</th>\n",
       "      <th>char_37</th>\n",
       "      <th>char_38</th>\n",
       "    </tr>\n",
       "  </thead>\n",
       "  <tbody>\n",
       "    <tr>\n",
       "      <th>0</th>\n",
       "      <td>ppl_100</td>\n",
       "      <td>type 2</td>\n",
       "      <td>group 17304</td>\n",
       "      <td>type 2</td>\n",
       "      <td>2021-06-29</td>\n",
       "      <td>type 5</td>\n",
       "      <td>type 5</td>\n",
       "      <td>type 5</td>\n",
       "      <td>type 3</td>\n",
       "      <td>type 11</td>\n",
       "      <td>...</td>\n",
       "      <td>False</td>\n",
       "      <td>True</td>\n",
       "      <td>True</td>\n",
       "      <td>False</td>\n",
       "      <td>False</td>\n",
       "      <td>True</td>\n",
       "      <td>True</td>\n",
       "      <td>True</td>\n",
       "      <td>False</td>\n",
       "      <td>36</td>\n",
       "    </tr>\n",
       "    <tr>\n",
       "      <th>1</th>\n",
       "      <td>ppl_100002</td>\n",
       "      <td>type 2</td>\n",
       "      <td>group 8688</td>\n",
       "      <td>type 3</td>\n",
       "      <td>2021-01-06</td>\n",
       "      <td>type 28</td>\n",
       "      <td>type 9</td>\n",
       "      <td>type 5</td>\n",
       "      <td>type 3</td>\n",
       "      <td>type 11</td>\n",
       "      <td>...</td>\n",
       "      <td>False</td>\n",
       "      <td>True</td>\n",
       "      <td>True</td>\n",
       "      <td>True</td>\n",
       "      <td>True</td>\n",
       "      <td>True</td>\n",
       "      <td>True</td>\n",
       "      <td>True</td>\n",
       "      <td>False</td>\n",
       "      <td>76</td>\n",
       "    </tr>\n",
       "    <tr>\n",
       "      <th>2</th>\n",
       "      <td>ppl_100003</td>\n",
       "      <td>type 2</td>\n",
       "      <td>group 33592</td>\n",
       "      <td>type 3</td>\n",
       "      <td>2022-06-10</td>\n",
       "      <td>type 4</td>\n",
       "      <td>type 8</td>\n",
       "      <td>type 5</td>\n",
       "      <td>type 2</td>\n",
       "      <td>type 5</td>\n",
       "      <td>...</td>\n",
       "      <td>False</td>\n",
       "      <td>False</td>\n",
       "      <td>True</td>\n",
       "      <td>True</td>\n",
       "      <td>True</td>\n",
       "      <td>True</td>\n",
       "      <td>False</td>\n",
       "      <td>True</td>\n",
       "      <td>True</td>\n",
       "      <td>99</td>\n",
       "    </tr>\n",
       "    <tr>\n",
       "      <th>3</th>\n",
       "      <td>ppl_100004</td>\n",
       "      <td>type 2</td>\n",
       "      <td>group 22593</td>\n",
       "      <td>type 3</td>\n",
       "      <td>2022-07-20</td>\n",
       "      <td>type 40</td>\n",
       "      <td>type 25</td>\n",
       "      <td>type 9</td>\n",
       "      <td>type 4</td>\n",
       "      <td>type 16</td>\n",
       "      <td>...</td>\n",
       "      <td>True</td>\n",
       "      <td>True</td>\n",
       "      <td>True</td>\n",
       "      <td>True</td>\n",
       "      <td>True</td>\n",
       "      <td>True</td>\n",
       "      <td>True</td>\n",
       "      <td>True</td>\n",
       "      <td>True</td>\n",
       "      <td>76</td>\n",
       "    </tr>\n",
       "    <tr>\n",
       "      <th>4</th>\n",
       "      <td>ppl_100006</td>\n",
       "      <td>type 2</td>\n",
       "      <td>group 6534</td>\n",
       "      <td>type 3</td>\n",
       "      <td>2022-07-27</td>\n",
       "      <td>type 40</td>\n",
       "      <td>type 25</td>\n",
       "      <td>type 9</td>\n",
       "      <td>type 3</td>\n",
       "      <td>type 8</td>\n",
       "      <td>...</td>\n",
       "      <td>False</td>\n",
       "      <td>False</td>\n",
       "      <td>True</td>\n",
       "      <td>False</td>\n",
       "      <td>False</td>\n",
       "      <td>False</td>\n",
       "      <td>True</td>\n",
       "      <td>True</td>\n",
       "      <td>False</td>\n",
       "      <td>84</td>\n",
       "    </tr>\n",
       "  </tbody>\n",
       "</table>\n",
       "<p>5 rows × 41 columns</p>\n",
       "</div>"
      ],
      "text/plain": [
       "    people_id  char_1      group_1  char_2       date   char_3   char_4  \\\n",
       "0     ppl_100  type 2  group 17304  type 2 2021-06-29   type 5   type 5   \n",
       "1  ppl_100002  type 2   group 8688  type 3 2021-01-06  type 28   type 9   \n",
       "2  ppl_100003  type 2  group 33592  type 3 2022-06-10   type 4   type 8   \n",
       "3  ppl_100004  type 2  group 22593  type 3 2022-07-20  type 40  type 25   \n",
       "4  ppl_100006  type 2   group 6534  type 3 2022-07-27  type 40  type 25   \n",
       "\n",
       "   char_5  char_6   char_7   ...    char_29 char_30  char_31  char_32  \\\n",
       "0  type 5  type 3  type 11   ...      False    True     True    False   \n",
       "1  type 5  type 3  type 11   ...      False    True     True     True   \n",
       "2  type 5  type 2   type 5   ...      False   False     True     True   \n",
       "3  type 9  type 4  type 16   ...       True    True     True     True   \n",
       "4  type 9  type 3   type 8   ...      False   False     True    False   \n",
       "\n",
       "   char_33  char_34  char_35  char_36  char_37  char_38  \n",
       "0    False     True     True     True    False       36  \n",
       "1     True     True     True     True    False       76  \n",
       "2     True     True    False     True     True       99  \n",
       "3     True     True     True     True     True       76  \n",
       "4    False    False     True     True    False       84  \n",
       "\n",
       "[5 rows x 41 columns]"
      ]
     },
     "execution_count": 8,
     "metadata": {},
     "output_type": "execute_result"
    }
   ],
   "source": [
    "people.head()"
   ]
  },
  {
   "cell_type": "code",
   "execution_count": 9,
   "metadata": {},
   "outputs": [
    {
     "name": "stdout",
     "output_type": "stream",
     "text": [
      "people_id = 189118\n",
      "train_people_id = 151295\n",
      "test_people_id = 37823\n"
     ]
    }
   ],
   "source": [
    "print(\"people_id = {}\".format(len(people[\"people_id\"])))\n",
    "print(\"train_people_id = {}\".format(len(train[\"people_id\"].unique())))\n",
    "print(\"test_people_id = {}\".format(len(test[\"people_id\"].unique())))"
   ]
  },
  {
   "cell_type": "markdown",
   "metadata": {},
   "source": [
    "people_id of people has peopld_id of train and test"
   ]
  },
  {
   "cell_type": "markdown",
   "metadata": {},
   "source": [
    "# overview"
   ]
  },
  {
   "cell_type": "markdown",
   "metadata": {},
   "source": [
    "### unique data"
   ]
  },
  {
   "cell_type": "code",
   "execution_count": 10,
   "metadata": {
    "scrolled": true
   },
   "outputs": [
    {
     "name": "stdout",
     "output_type": "stream",
     "text": [
      "people_id has 151295 unique data\n",
      "activity_id has 2197291 unique data\n",
      "date has 411 unique data\n",
      "activity_category has 7 unique data\n",
      "char_1 has 52 unique data\n",
      "char_2 has 33 unique data\n",
      "char_3 has 12 unique data\n",
      "char_4 has 8 unique data\n",
      "char_5 has 8 unique data\n",
      "char_6 has 6 unique data\n",
      "char_7 has 9 unique data\n",
      "char_8 has 19 unique data\n",
      "char_9 has 20 unique data\n",
      "char_10 has 6516 unique data\n",
      "outcome has 2 unique data\n"
     ]
    }
   ],
   "source": [
    "# check unique data in train\n",
    "for i in train.columns:\n",
    "    print(\"{} has {} unique data\".format(i, len(train[i].unique())))"
   ]
  },
  {
   "cell_type": "code",
   "execution_count": 11,
   "metadata": {},
   "outputs": [
    {
     "name": "stdout",
     "output_type": "stream",
     "text": [
      "people_id has 37823 unique data\n",
      "activity_id has 498687 unique data\n",
      "date has 411 unique data\n",
      "activity_category has 7 unique data\n",
      "char_1 has 49 unique data\n",
      "char_2 has 32 unique data\n",
      "char_3 has 12 unique data\n",
      "char_4 has 8 unique data\n",
      "char_5 has 7 unique data\n",
      "char_6 has 6 unique data\n",
      "char_7 has 9 unique data\n",
      "char_8 has 19 unique data\n",
      "char_9 has 20 unique data\n",
      "char_10 has 3962 unique data\n"
     ]
    }
   ],
   "source": [
    "# check unique data in train\n",
    "for i in test.columns:\n",
    "    print(\"{} has {} unique data\".format(i, len(test[i].unique())))"
   ]
  },
  {
   "cell_type": "code",
   "execution_count": 12,
   "metadata": {},
   "outputs": [
    {
     "name": "stdout",
     "output_type": "stream",
     "text": [
      "people_id has 189118 unique data\n",
      "char_1 has 2 unique data\n",
      "group_1 has 34224 unique data\n",
      "char_2 has 3 unique data\n",
      "date has 1196 unique data\n",
      "char_3 has 43 unique data\n",
      "char_4 has 25 unique data\n",
      "char_5 has 9 unique data\n",
      "char_6 has 7 unique data\n",
      "char_7 has 25 unique data\n",
      "char_8 has 8 unique data\n",
      "char_9 has 9 unique data\n",
      "char_10 has 2 unique data\n",
      "char_11 has 2 unique data\n",
      "char_12 has 2 unique data\n",
      "char_13 has 2 unique data\n",
      "char_14 has 2 unique data\n",
      "char_15 has 2 unique data\n",
      "char_16 has 2 unique data\n",
      "char_17 has 2 unique data\n",
      "char_18 has 2 unique data\n",
      "char_19 has 2 unique data\n",
      "char_20 has 2 unique data\n",
      "char_21 has 2 unique data\n",
      "char_22 has 2 unique data\n",
      "char_23 has 2 unique data\n",
      "char_24 has 2 unique data\n",
      "char_25 has 2 unique data\n",
      "char_26 has 2 unique data\n",
      "char_27 has 2 unique data\n",
      "char_28 has 2 unique data\n",
      "char_29 has 2 unique data\n",
      "char_30 has 2 unique data\n",
      "char_31 has 2 unique data\n",
      "char_32 has 2 unique data\n",
      "char_33 has 2 unique data\n",
      "char_34 has 2 unique data\n",
      "char_35 has 2 unique data\n",
      "char_36 has 2 unique data\n",
      "char_37 has 2 unique data\n",
      "char_38 has 101 unique data\n"
     ]
    }
   ],
   "source": [
    "# check unique data in train\n",
    "for i in people.columns:\n",
    "    print(\"{} has {} unique data\".format(i, len(people[i].unique())))"
   ]
  },
  {
   "cell_type": "markdown",
   "metadata": {},
   "source": [
    "### missing data"
   ]
  },
  {
   "cell_type": "code",
   "execution_count": 13,
   "metadata": {},
   "outputs": [
    {
     "name": "stdout",
     "output_type": "stream",
     "text": [
      "people_id has 0.00% missing data\n",
      "activity_id has 0.00% missing data\n",
      "date has 0.00% missing data\n",
      "activity_category has 0.00% missing data\n",
      "char_1 has 92.83% missing data\n",
      "char_2 has 92.83% missing data\n",
      "char_3 has 92.83% missing data\n",
      "char_4 has 92.83% missing data\n",
      "char_5 has 92.83% missing data\n",
      "char_6 has 92.83% missing data\n",
      "char_7 has 92.83% missing data\n",
      "char_8 has 92.83% missing data\n",
      "char_9 has 92.83% missing data\n",
      "char_10 has 7.17% missing data\n",
      "outcome has 0.00% missing data\n"
     ]
    }
   ],
   "source": [
    "#check missing data in train\n",
    "for i in train.columns:\n",
    "    print(\"{0} has {1:.2f}% missing data\".format(i, (len(train[train[i].isnull()]) / train.shape[0]) *100))"
   ]
  },
  {
   "cell_type": "code",
   "execution_count": 14,
   "metadata": {},
   "outputs": [
    {
     "name": "stdout",
     "output_type": "stream",
     "text": [
      "people_id has 0.00% missing data\n",
      "activity_id has 0.00% missing data\n",
      "date has 0.00% missing data\n",
      "activity_category has 0.00% missing data\n",
      "char_1 has 91.96% missing data\n",
      "char_2 has 91.96% missing data\n",
      "char_3 has 91.96% missing data\n",
      "char_4 has 91.96% missing data\n",
      "char_5 has 91.96% missing data\n",
      "char_6 has 91.96% missing data\n",
      "char_7 has 91.96% missing data\n",
      "char_8 has 91.96% missing data\n",
      "char_9 has 91.96% missing data\n",
      "char_10 has 8.04% missing data\n"
     ]
    }
   ],
   "source": [
    "#check missing data in test\n",
    "for i in test.columns:\n",
    "    print(\"{0} has {1:.2f}% missing data\".format(i, (len(test[test[i].isnull()]) / test.shape[0]) *100)) "
   ]
  },
  {
   "cell_type": "code",
   "execution_count": 15,
   "metadata": {},
   "outputs": [
    {
     "name": "stdout",
     "output_type": "stream",
     "text": [
      "people_id has 0.00% missing data\n",
      "char_1 has 0.00% missing data\n",
      "group_1 has 0.00% missing data\n",
      "char_2 has 0.00% missing data\n",
      "date has 0.00% missing data\n",
      "char_3 has 0.00% missing data\n",
      "char_4 has 0.00% missing data\n",
      "char_5 has 0.00% missing data\n",
      "char_6 has 0.00% missing data\n",
      "char_7 has 0.00% missing data\n",
      "char_8 has 0.00% missing data\n",
      "char_9 has 0.00% missing data\n",
      "char_10 has 0.00% missing data\n",
      "char_11 has 0.00% missing data\n",
      "char_12 has 0.00% missing data\n",
      "char_13 has 0.00% missing data\n",
      "char_14 has 0.00% missing data\n",
      "char_15 has 0.00% missing data\n",
      "char_16 has 0.00% missing data\n",
      "char_17 has 0.00% missing data\n",
      "char_18 has 0.00% missing data\n",
      "char_19 has 0.00% missing data\n",
      "char_20 has 0.00% missing data\n",
      "char_21 has 0.00% missing data\n",
      "char_22 has 0.00% missing data\n",
      "char_23 has 0.00% missing data\n",
      "char_24 has 0.00% missing data\n",
      "char_25 has 0.00% missing data\n",
      "char_26 has 0.00% missing data\n",
      "char_27 has 0.00% missing data\n",
      "char_28 has 0.00% missing data\n",
      "char_29 has 0.00% missing data\n",
      "char_30 has 0.00% missing data\n",
      "char_31 has 0.00% missing data\n",
      "char_32 has 0.00% missing data\n",
      "char_33 has 0.00% missing data\n",
      "char_34 has 0.00% missing data\n",
      "char_35 has 0.00% missing data\n",
      "char_36 has 0.00% missing data\n",
      "char_37 has 0.00% missing data\n",
      "char_38 has 0.00% missing data\n"
     ]
    }
   ],
   "source": [
    "#check missing data in people\n",
    "for i in people.columns:\n",
    "    print(\"{0} has {1:.2f}% missing data\".format(i, (len(people[people[i].isnull()]) / test.shape[0]) *100)) "
   ]
  },
  {
   "cell_type": "markdown",
   "metadata": {},
   "source": [
    "# Preprocessing"
   ]
  },
  {
   "cell_type": "markdown",
   "metadata": {},
   "source": [
    "### Merge data"
   ]
  },
  {
   "cell_type": "code",
   "execution_count": 3,
   "metadata": {
    "collapsed": true
   },
   "outputs": [],
   "source": [
    "train_merge = train.merge(people, how=\"left\", on =\"people_id\")\n",
    "test_merge = test.merge(people, how =\"left\", on = \"people_id\")"
   ]
  },
  {
   "cell_type": "markdown",
   "metadata": {},
   "source": [
    "### Explore data"
   ]
  },
  {
   "cell_type": "code",
   "execution_count": 17,
   "metadata": {},
   "outputs": [
    {
     "name": "stdout",
     "output_type": "stream",
     "text": [
      "<class 'pandas.core.frame.DataFrame'>\n",
      "Int64Index: 2197291 entries, 0 to 2197290\n",
      "Data columns (total 55 columns):\n",
      "people_id            object\n",
      "activity_id          object\n",
      "date_x               datetime64[ns]\n",
      "activity_category    object\n",
      "char_1_x             object\n",
      "char_2_x             object\n",
      "char_3_x             object\n",
      "char_4_x             object\n",
      "char_5_x             object\n",
      "char_6_x             object\n",
      "char_7_x             object\n",
      "char_8_x             object\n",
      "char_9_x             object\n",
      "char_10_x            object\n",
      "outcome              int64\n",
      "char_1_y             object\n",
      "group_1              object\n",
      "char_2_y             object\n",
      "date_y               datetime64[ns]\n",
      "char_3_y             object\n",
      "char_4_y             object\n",
      "char_5_y             object\n",
      "char_6_y             object\n",
      "char_7_y             object\n",
      "char_8_y             object\n",
      "char_9_y             object\n",
      "char_10_y            bool\n",
      "char_11              bool\n",
      "char_12              bool\n",
      "char_13              bool\n",
      "char_14              bool\n",
      "char_15              bool\n",
      "char_16              bool\n",
      "char_17              bool\n",
      "char_18              bool\n",
      "char_19              bool\n",
      "char_20              bool\n",
      "char_21              bool\n",
      "char_22              bool\n",
      "char_23              bool\n",
      "char_24              bool\n",
      "char_25              bool\n",
      "char_26              bool\n",
      "char_27              bool\n",
      "char_28              bool\n",
      "char_29              bool\n",
      "char_30              bool\n",
      "char_31              bool\n",
      "char_32              bool\n",
      "char_33              bool\n",
      "char_34              bool\n",
      "char_35              bool\n",
      "char_36              bool\n",
      "char_37              bool\n",
      "char_38              int64\n",
      "dtypes: bool(28), datetime64[ns](2), int64(2), object(23)\n",
      "memory usage: 528.1+ MB\n"
     ]
    }
   ],
   "source": [
    "train_merge.info()"
   ]
  },
  {
   "cell_type": "code",
   "execution_count": 18,
   "metadata": {},
   "outputs": [
    {
     "name": "stdout",
     "output_type": "stream",
     "text": [
      "<class 'pandas.core.frame.DataFrame'>\n",
      "Int64Index: 498687 entries, 0 to 498686\n",
      "Data columns (total 54 columns):\n",
      "people_id            498687 non-null object\n",
      "activity_id          498687 non-null object\n",
      "date_x               498687 non-null datetime64[ns]\n",
      "activity_category    498687 non-null object\n",
      "char_1_x             40092 non-null object\n",
      "char_2_x             40092 non-null object\n",
      "char_3_x             40092 non-null object\n",
      "char_4_x             40092 non-null object\n",
      "char_5_x             40092 non-null object\n",
      "char_6_x             40092 non-null object\n",
      "char_7_x             40092 non-null object\n",
      "char_8_x             40092 non-null object\n",
      "char_9_x             40092 non-null object\n",
      "char_10_x            458595 non-null object\n",
      "char_1_y             498687 non-null object\n",
      "group_1              498687 non-null object\n",
      "char_2_y             498687 non-null object\n",
      "date_y               498687 non-null datetime64[ns]\n",
      "char_3_y             498687 non-null object\n",
      "char_4_y             498687 non-null object\n",
      "char_5_y             498687 non-null object\n",
      "char_6_y             498687 non-null object\n",
      "char_7_y             498687 non-null object\n",
      "char_8_y             498687 non-null object\n",
      "char_9_y             498687 non-null object\n",
      "char_10_y            498687 non-null bool\n",
      "char_11              498687 non-null bool\n",
      "char_12              498687 non-null bool\n",
      "char_13              498687 non-null bool\n",
      "char_14              498687 non-null bool\n",
      "char_15              498687 non-null bool\n",
      "char_16              498687 non-null bool\n",
      "char_17              498687 non-null bool\n",
      "char_18              498687 non-null bool\n",
      "char_19              498687 non-null bool\n",
      "char_20              498687 non-null bool\n",
      "char_21              498687 non-null bool\n",
      "char_22              498687 non-null bool\n",
      "char_23              498687 non-null bool\n",
      "char_24              498687 non-null bool\n",
      "char_25              498687 non-null bool\n",
      "char_26              498687 non-null bool\n",
      "char_27              498687 non-null bool\n",
      "char_28              498687 non-null bool\n",
      "char_29              498687 non-null bool\n",
      "char_30              498687 non-null bool\n",
      "char_31              498687 non-null bool\n",
      "char_32              498687 non-null bool\n",
      "char_33              498687 non-null bool\n",
      "char_34              498687 non-null bool\n",
      "char_35              498687 non-null bool\n",
      "char_36              498687 non-null bool\n",
      "char_37              498687 non-null bool\n",
      "char_38              498687 non-null int64\n",
      "dtypes: bool(28), datetime64[ns](2), int64(1), object(23)\n",
      "memory usage: 116.0+ MB\n"
     ]
    }
   ],
   "source": [
    "test_merge.info()"
   ]
  },
  {
   "cell_type": "markdown",
   "metadata": {},
   "source": [
    "## Address missing data"
   ]
  },
  {
   "cell_type": "code",
   "execution_count": 4,
   "metadata": {
    "collapsed": true
   },
   "outputs": [],
   "source": [
    "train_merge = train_merge.fillna(\"type 0\")"
   ]
  },
  {
   "cell_type": "code",
   "execution_count": 5,
   "metadata": {
    "collapsed": true
   },
   "outputs": [],
   "source": [
    "test_merge = test_merge.fillna(\"type 0\")"
   ]
  },
  {
   "cell_type": "code",
   "execution_count": 21,
   "metadata": {},
   "outputs": [
    {
     "data": {
      "text/html": [
       "<div>\n",
       "<style>\n",
       "    .dataframe thead tr:only-child th {\n",
       "        text-align: right;\n",
       "    }\n",
       "\n",
       "    .dataframe thead th {\n",
       "        text-align: left;\n",
       "    }\n",
       "\n",
       "    .dataframe tbody tr th {\n",
       "        vertical-align: top;\n",
       "    }\n",
       "</style>\n",
       "<table border=\"1\" class=\"dataframe\">\n",
       "  <thead>\n",
       "    <tr style=\"text-align: right;\">\n",
       "      <th></th>\n",
       "      <th>people_id</th>\n",
       "      <th>activity_id</th>\n",
       "      <th>date_x</th>\n",
       "      <th>activity_category</th>\n",
       "      <th>char_1_x</th>\n",
       "      <th>char_2_x</th>\n",
       "      <th>char_3_x</th>\n",
       "      <th>char_4_x</th>\n",
       "      <th>char_5_x</th>\n",
       "      <th>char_6_x</th>\n",
       "      <th>...</th>\n",
       "      <th>char_29</th>\n",
       "      <th>char_30</th>\n",
       "      <th>char_31</th>\n",
       "      <th>char_32</th>\n",
       "      <th>char_33</th>\n",
       "      <th>char_34</th>\n",
       "      <th>char_35</th>\n",
       "      <th>char_36</th>\n",
       "      <th>char_37</th>\n",
       "      <th>char_38</th>\n",
       "    </tr>\n",
       "  </thead>\n",
       "  <tbody>\n",
       "    <tr>\n",
       "      <th>0</th>\n",
       "      <td>ppl_100</td>\n",
       "      <td>act2_1734928</td>\n",
       "      <td>2023-08-26</td>\n",
       "      <td>type 4</td>\n",
       "      <td>type 0</td>\n",
       "      <td>type 0</td>\n",
       "      <td>type 0</td>\n",
       "      <td>type 0</td>\n",
       "      <td>type 0</td>\n",
       "      <td>type 0</td>\n",
       "      <td>...</td>\n",
       "      <td>False</td>\n",
       "      <td>True</td>\n",
       "      <td>True</td>\n",
       "      <td>False</td>\n",
       "      <td>False</td>\n",
       "      <td>True</td>\n",
       "      <td>True</td>\n",
       "      <td>True</td>\n",
       "      <td>False</td>\n",
       "      <td>36</td>\n",
       "    </tr>\n",
       "    <tr>\n",
       "      <th>1</th>\n",
       "      <td>ppl_100</td>\n",
       "      <td>act2_2434093</td>\n",
       "      <td>2022-09-27</td>\n",
       "      <td>type 2</td>\n",
       "      <td>type 0</td>\n",
       "      <td>type 0</td>\n",
       "      <td>type 0</td>\n",
       "      <td>type 0</td>\n",
       "      <td>type 0</td>\n",
       "      <td>type 0</td>\n",
       "      <td>...</td>\n",
       "      <td>False</td>\n",
       "      <td>True</td>\n",
       "      <td>True</td>\n",
       "      <td>False</td>\n",
       "      <td>False</td>\n",
       "      <td>True</td>\n",
       "      <td>True</td>\n",
       "      <td>True</td>\n",
       "      <td>False</td>\n",
       "      <td>36</td>\n",
       "    </tr>\n",
       "    <tr>\n",
       "      <th>2</th>\n",
       "      <td>ppl_100</td>\n",
       "      <td>act2_3404049</td>\n",
       "      <td>2022-09-27</td>\n",
       "      <td>type 2</td>\n",
       "      <td>type 0</td>\n",
       "      <td>type 0</td>\n",
       "      <td>type 0</td>\n",
       "      <td>type 0</td>\n",
       "      <td>type 0</td>\n",
       "      <td>type 0</td>\n",
       "      <td>...</td>\n",
       "      <td>False</td>\n",
       "      <td>True</td>\n",
       "      <td>True</td>\n",
       "      <td>False</td>\n",
       "      <td>False</td>\n",
       "      <td>True</td>\n",
       "      <td>True</td>\n",
       "      <td>True</td>\n",
       "      <td>False</td>\n",
       "      <td>36</td>\n",
       "    </tr>\n",
       "    <tr>\n",
       "      <th>3</th>\n",
       "      <td>ppl_100</td>\n",
       "      <td>act2_3651215</td>\n",
       "      <td>2023-08-04</td>\n",
       "      <td>type 2</td>\n",
       "      <td>type 0</td>\n",
       "      <td>type 0</td>\n",
       "      <td>type 0</td>\n",
       "      <td>type 0</td>\n",
       "      <td>type 0</td>\n",
       "      <td>type 0</td>\n",
       "      <td>...</td>\n",
       "      <td>False</td>\n",
       "      <td>True</td>\n",
       "      <td>True</td>\n",
       "      <td>False</td>\n",
       "      <td>False</td>\n",
       "      <td>True</td>\n",
       "      <td>True</td>\n",
       "      <td>True</td>\n",
       "      <td>False</td>\n",
       "      <td>36</td>\n",
       "    </tr>\n",
       "    <tr>\n",
       "      <th>4</th>\n",
       "      <td>ppl_100</td>\n",
       "      <td>act2_4109017</td>\n",
       "      <td>2023-08-26</td>\n",
       "      <td>type 2</td>\n",
       "      <td>type 0</td>\n",
       "      <td>type 0</td>\n",
       "      <td>type 0</td>\n",
       "      <td>type 0</td>\n",
       "      <td>type 0</td>\n",
       "      <td>type 0</td>\n",
       "      <td>...</td>\n",
       "      <td>False</td>\n",
       "      <td>True</td>\n",
       "      <td>True</td>\n",
       "      <td>False</td>\n",
       "      <td>False</td>\n",
       "      <td>True</td>\n",
       "      <td>True</td>\n",
       "      <td>True</td>\n",
       "      <td>False</td>\n",
       "      <td>36</td>\n",
       "    </tr>\n",
       "  </tbody>\n",
       "</table>\n",
       "<p>5 rows × 55 columns</p>\n",
       "</div>"
      ],
      "text/plain": [
       "  people_id   activity_id     date_x activity_category char_1_x char_2_x  \\\n",
       "0   ppl_100  act2_1734928 2023-08-26            type 4   type 0   type 0   \n",
       "1   ppl_100  act2_2434093 2022-09-27            type 2   type 0   type 0   \n",
       "2   ppl_100  act2_3404049 2022-09-27            type 2   type 0   type 0   \n",
       "3   ppl_100  act2_3651215 2023-08-04            type 2   type 0   type 0   \n",
       "4   ppl_100  act2_4109017 2023-08-26            type 2   type 0   type 0   \n",
       "\n",
       "  char_3_x char_4_x char_5_x char_6_x   ...   char_29 char_30 char_31 char_32  \\\n",
       "0   type 0   type 0   type 0   type 0   ...     False    True    True   False   \n",
       "1   type 0   type 0   type 0   type 0   ...     False    True    True   False   \n",
       "2   type 0   type 0   type 0   type 0   ...     False    True    True   False   \n",
       "3   type 0   type 0   type 0   type 0   ...     False    True    True   False   \n",
       "4   type 0   type 0   type 0   type 0   ...     False    True    True   False   \n",
       "\n",
       "   char_33 char_34 char_35 char_36 char_37 char_38  \n",
       "0    False    True    True    True   False      36  \n",
       "1    False    True    True    True   False      36  \n",
       "2    False    True    True    True   False      36  \n",
       "3    False    True    True    True   False      36  \n",
       "4    False    True    True    True   False      36  \n",
       "\n",
       "[5 rows x 55 columns]"
      ]
     },
     "execution_count": 21,
     "metadata": {},
     "output_type": "execute_result"
    }
   ],
   "source": [
    "train_merge.head()"
   ]
  },
  {
   "cell_type": "code",
   "execution_count": 8,
   "metadata": {
    "collapsed": true
   },
   "outputs": [],
   "source": [
    "#drop useless people_id\n",
    "train_merge.drop(\"people_id\",inplace=True,axis=1)\n",
    "test_merge.drop(\"people_id\", inplace=True, axis=1)"
   ]
  },
  {
   "cell_type": "code",
   "execution_count": 9,
   "metadata": {
    "collapsed": true
   },
   "outputs": [],
   "source": [
    "test_merge.sort_values(\"activity_id\",inplace =True)"
   ]
  },
  {
   "cell_type": "markdown",
   "metadata": {},
   "source": [
    "### Deal with datetime data"
   ]
  },
  {
   "cell_type": "markdown",
   "metadata": {},
   "source": [
    "There are two datetime data : date_x and date_y"
   ]
  },
  {
   "cell_type": "markdown",
   "metadata": {},
   "source": [
    "Make year, month,day and dayofweek"
   ]
  },
  {
   "cell_type": "code",
   "execution_count": 6,
   "metadata": {
    "collapsed": true
   },
   "outputs": [],
   "source": [
    "train_merge[\"x_year\"] = train_merge[\"date_x\"].dt.year\n",
    "train_merge[\"x_month\"] = train_merge[\"date_x\"].dt.month\n",
    "train_merge[\"x_day\"] = train_merge[\"date_x\"].dt.day\n",
    "train_merge[\"x_dayofweek\"] = train_merge[\"date_x\"].dt.dayofweek"
   ]
  },
  {
   "cell_type": "code",
   "execution_count": 7,
   "metadata": {
    "collapsed": true
   },
   "outputs": [],
   "source": [
    "del train_merge[\"date_x\"]"
   ]
  },
  {
   "cell_type": "code",
   "execution_count": 8,
   "metadata": {
    "collapsed": true
   },
   "outputs": [],
   "source": [
    "test_merge[\"x_year\"] = test_merge[\"date_x\"].dt.year\n",
    "test_merge[\"x_month\"] = test_merge[\"date_x\"].dt.month\n",
    "test_merge[\"x_day\"] = test_merge[\"date_x\"].dt.day\n",
    "test_merge[\"x_dayofweek\"] = test_merge[\"date_x\"].dt.dayofweek"
   ]
  },
  {
   "cell_type": "code",
   "execution_count": 9,
   "metadata": {
    "collapsed": true
   },
   "outputs": [],
   "source": [
    "del test_merge[\"date_x\"]"
   ]
  },
  {
   "cell_type": "code",
   "execution_count": 10,
   "metadata": {
    "collapsed": true
   },
   "outputs": [],
   "source": [
    "#date_y\n",
    "train_merge[\"y_year\"] = train_merge[\"date_y\"].dt.year\n",
    "train_merge[\"y_month\"] = train_merge[\"date_y\"].dt.month\n",
    "train_merge[\"y_day\"] = train_merge[\"date_y\"].dt.day\n",
    "train_merge[\"y_dayofweek\"] = train_merge[\"date_y\"].dt.dayofweek"
   ]
  },
  {
   "cell_type": "code",
   "execution_count": 11,
   "metadata": {
    "collapsed": true
   },
   "outputs": [],
   "source": [
    "test_merge[\"y_year\"] = test_merge[\"date_y\"].dt.year\n",
    "test_merge[\"y_month\"] = test_merge[\"date_y\"].dt.month\n",
    "test_merge[\"y_day\"] = test_merge[\"date_y\"].dt.day\n",
    "test_merge[\"y_dayofweek\"] = test_merge[\"date_y\"].dt.dayofweek"
   ]
  },
  {
   "cell_type": "markdown",
   "metadata": {},
   "source": [
    "## encoding categorical data"
   ]
  },
  {
   "cell_type": "code",
   "execution_count": 12,
   "metadata": {
    "collapsed": true
   },
   "outputs": [],
   "source": [
    "object_features = ['char_1_x', 'char_2_x', 'char_3_x','char_4_x', 'char_5_x', 'char_6_x', 'char_7_x', 'char_8_x', 'char_9_x']"
   ]
  },
  {
   "cell_type": "code",
   "execution_count": 13,
   "metadata": {
    "collapsed": true
   },
   "outputs": [],
   "source": [
    "one_hot = pd.get_dummies(train_merge[object_features]).astype('float32')"
   ]
  },
  {
   "cell_type": "code",
   "execution_count": 14,
   "metadata": {
    "collapsed": true
   },
   "outputs": [],
   "source": [
    "one_hot_test = pd.get_dummies(test_merge[object_features]).astype('float32')"
   ]
  },
  {
   "cell_type": "code",
   "execution_count": 15,
   "metadata": {
    "collapsed": true
   },
   "outputs": [],
   "source": [
    "cat= ['activity_category', 'char_1_y','char_2_y', 'char_3_y', 'char_4_y', 'char_5_y', 'char_6_y', 'char_7_y',\n",
    "       'char_8_y', 'char_9_y']"
   ]
  },
  {
   "cell_type": "code",
   "execution_count": 16,
   "metadata": {
    "collapsed": true
   },
   "outputs": [],
   "source": [
    "one_hot2 =pd.get_dummies(train_merge[cat]).astype(\"float32\")\n",
    "one_hot_test2 = pd.get_dummies(test_merge[cat]).astype(\"float32\")"
   ]
  },
  {
   "cell_type": "code",
   "execution_count": 18,
   "metadata": {
    "collapsed": true
   },
   "outputs": [],
   "source": [
    "x_train = train_merge.drop(object_features,1)\n",
    "x_test = test_merge.drop(object_features,1)"
   ]
  },
  {
   "cell_type": "code",
   "execution_count": 19,
   "metadata": {},
   "outputs": [],
   "source": [
    "x_train.drop([\"char_10_x\",\"group_1\"],axis=1,inplace=True)\n",
    "x_test.drop([\"char_10_x\",\"group_1\"],axis=1,inplace=True)"
   ]
  },
  {
   "cell_type": "code",
   "execution_count": 20,
   "metadata": {
    "collapsed": true
   },
   "outputs": [],
   "source": [
    "x_train.drop(cat,1,inplace=True)\n",
    "x_test.drop(cat,1,inplace=True)"
   ]
  },
  {
   "cell_type": "markdown",
   "metadata": {},
   "source": [
    "Due to memory error, remove char_10_x"
   ]
  },
  {
   "cell_type": "code",
   "execution_count": 21,
   "metadata": {
    "collapsed": true
   },
   "outputs": [],
   "source": [
    "del x_train[\"outcome\"]\n",
    "del x_train[\"date_y\"]\n",
    "del x_test[\"date_y\"]"
   ]
  },
  {
   "cell_type": "markdown",
   "metadata": {},
   "source": [
    "Change bool type to int type"
   ]
  },
  {
   "cell_type": "code",
   "execution_count": 22,
   "metadata": {
    "collapsed": true
   },
   "outputs": [],
   "source": [
    "change_int = ['char_10_y', 'char_11', 'char_12', 'char_13',\n",
    "       'char_14', 'char_15', 'char_16', 'char_17', 'char_18', 'char_19',\n",
    "       'char_20', 'char_21', 'char_22', 'char_23', 'char_24', 'char_25',\n",
    "       'char_26', 'char_27', 'char_28', 'char_29', 'char_30', 'char_31',\n",
    "       'char_32', 'char_33', 'char_34', 'char_35', 'char_36', 'char_37']"
   ]
  },
  {
   "cell_type": "code",
   "execution_count": 23,
   "metadata": {
    "collapsed": true
   },
   "outputs": [],
   "source": [
    "x_train[change_int] = x_train[change_int].astype(int)"
   ]
  },
  {
   "cell_type": "code",
   "execution_count": 24,
   "metadata": {
    "collapsed": true
   },
   "outputs": [],
   "source": [
    "x_test[change_int] = x_test[change_int].astype(int)"
   ]
  },
  {
   "cell_type": "code",
   "execution_count": null,
   "metadata": {
    "collapsed": true
   },
   "outputs": [],
   "source": []
  },
  {
   "cell_type": "code",
   "execution_count": null,
   "metadata": {
    "collapsed": true
   },
   "outputs": [],
   "source": []
  },
  {
   "cell_type": "markdown",
   "metadata": {},
   "source": [
    "Remove char_10_x and group_1 due to memory error"
   ]
  },
  {
   "cell_type": "markdown",
   "metadata": {},
   "source": [
    "Concat x_train, one_hot, one_ho2"
   ]
  },
  {
   "cell_type": "code",
   "execution_count": 25,
   "metadata": {
    "collapsed": true
   },
   "outputs": [],
   "source": [
    "x_train=pd.concat([x_train,one_hot],axis=1)\n",
    "x_train =pd.concat([x_train,one_hot2],axis=1)"
   ]
  },
  {
   "cell_type": "code",
   "execution_count": 35,
   "metadata": {
    "collapsed": true
   },
   "outputs": [],
   "source": [
    "y_train = train[\"outcome\"]"
   ]
  },
  {
   "cell_type": "code",
   "execution_count": 26,
   "metadata": {
    "collapsed": true
   },
   "outputs": [],
   "source": [
    "del x_train[\"activity_id\"]"
   ]
  },
  {
   "cell_type": "code",
   "execution_count": 41,
   "metadata": {
    "collapsed": true
   },
   "outputs": [],
   "source": [
    "del x_train[\"people_id\"]"
   ]
  },
  {
   "cell_type": "code",
   "execution_count": 42,
   "metadata": {
    "collapsed": true
   },
   "outputs": [],
   "source": [
    "del x_test[\"people_id\"]"
   ]
  },
  {
   "cell_type": "code",
   "execution_count": 27,
   "metadata": {
    "collapsed": true
   },
   "outputs": [],
   "source": [
    "x_test =pd.concat([x_test,one_hot_test],axis=1)\n",
    "x_test =pd.concat([x_test,one_hot_test2],axis=1)"
   ]
  },
  {
   "cell_type": "code",
   "execution_count": 28,
   "metadata": {
    "collapsed": true
   },
   "outputs": [],
   "source": [
    "del x_test[\"activity_id\"]"
   ]
  },
  {
   "cell_type": "code",
   "execution_count": null,
   "metadata": {
    "collapsed": true
   },
   "outputs": [],
   "source": []
  },
  {
   "cell_type": "markdown",
   "metadata": {},
   "source": [
    "# Feature_selection with RandomForest"
   ]
  },
  {
   "cell_type": "code",
   "execution_count": 44,
   "metadata": {},
   "outputs": [],
   "source": [
    "from sklearn.ensemble import RandomForestClassifier"
   ]
  },
  {
   "cell_type": "code",
   "execution_count": 56,
   "metadata": {},
   "outputs": [
    {
     "data": {
      "text/plain": [
       "RandomForestClassifier(bootstrap=True, class_weight=None, criterion='gini',\n",
       "            max_depth=8, max_features='auto', max_leaf_nodes=None,\n",
       "            min_impurity_decrease=0.0, min_impurity_split=None,\n",
       "            min_samples_leaf=1, min_samples_split=2,\n",
       "            min_weight_fraction_leaf=0.0, n_estimators=10, n_jobs=1,\n",
       "            oob_score=False, random_state=None, verbose=0,\n",
       "            warm_start=False)"
      ]
     },
     "execution_count": 56,
     "metadata": {},
     "output_type": "execute_result"
    }
   ],
   "source": [
    "model = RandomForestClassifier(max_depth=8)\n",
    "model"
   ]
  },
  {
   "cell_type": "code",
   "execution_count": 57,
   "metadata": {},
   "outputs": [
    {
     "ename": "MemoryError",
     "evalue": "",
     "output_type": "error",
     "traceback": [
      "\u001b[1;31m---------------------------------------------------------------------------\u001b[0m",
      "\u001b[1;31mMemoryError\u001b[0m                               Traceback (most recent call last)",
      "\u001b[1;32m<ipython-input-57-63c29948e590>\u001b[0m in \u001b[0;36m<module>\u001b[1;34m()\u001b[0m\n\u001b[1;32m----> 1\u001b[1;33m \u001b[0mmodel\u001b[0m\u001b[1;33m.\u001b[0m\u001b[0mfit\u001b[0m\u001b[1;33m(\u001b[0m\u001b[0mx_train\u001b[0m\u001b[1;33m,\u001b[0m\u001b[0my_train\u001b[0m\u001b[1;33m)\u001b[0m\u001b[1;33m\u001b[0m\u001b[0m\n\u001b[0m",
      "\u001b[1;32mC:\\Anaconda3\\lib\\site-packages\\sklearn\\ensemble\\forest.py\u001b[0m in \u001b[0;36mfit\u001b[1;34m(self, X, y, sample_weight)\u001b[0m\n\u001b[0;32m    245\u001b[0m         \"\"\"\n\u001b[0;32m    246\u001b[0m         \u001b[1;31m# Validate or convert input data\u001b[0m\u001b[1;33m\u001b[0m\u001b[1;33m\u001b[0m\u001b[0m\n\u001b[1;32m--> 247\u001b[1;33m         \u001b[0mX\u001b[0m \u001b[1;33m=\u001b[0m \u001b[0mcheck_array\u001b[0m\u001b[1;33m(\u001b[0m\u001b[0mX\u001b[0m\u001b[1;33m,\u001b[0m \u001b[0maccept_sparse\u001b[0m\u001b[1;33m=\u001b[0m\u001b[1;34m\"csc\"\u001b[0m\u001b[1;33m,\u001b[0m \u001b[0mdtype\u001b[0m\u001b[1;33m=\u001b[0m\u001b[0mDTYPE\u001b[0m\u001b[1;33m)\u001b[0m\u001b[1;33m\u001b[0m\u001b[0m\n\u001b[0m\u001b[0;32m    248\u001b[0m         \u001b[0my\u001b[0m \u001b[1;33m=\u001b[0m \u001b[0mcheck_array\u001b[0m\u001b[1;33m(\u001b[0m\u001b[0my\u001b[0m\u001b[1;33m,\u001b[0m \u001b[0maccept_sparse\u001b[0m\u001b[1;33m=\u001b[0m\u001b[1;34m'csc'\u001b[0m\u001b[1;33m,\u001b[0m \u001b[0mensure_2d\u001b[0m\u001b[1;33m=\u001b[0m\u001b[1;32mFalse\u001b[0m\u001b[1;33m,\u001b[0m \u001b[0mdtype\u001b[0m\u001b[1;33m=\u001b[0m\u001b[1;32mNone\u001b[0m\u001b[1;33m)\u001b[0m\u001b[1;33m\u001b[0m\u001b[0m\n\u001b[0;32m    249\u001b[0m         \u001b[1;32mif\u001b[0m \u001b[0msample_weight\u001b[0m \u001b[1;32mis\u001b[0m \u001b[1;32mnot\u001b[0m \u001b[1;32mNone\u001b[0m\u001b[1;33m:\u001b[0m\u001b[1;33m\u001b[0m\u001b[0m\n",
      "\u001b[1;32mC:\\Anaconda3\\lib\\site-packages\\sklearn\\utils\\validation.py\u001b[0m in \u001b[0;36mcheck_array\u001b[1;34m(array, accept_sparse, dtype, order, copy, force_all_finite, ensure_2d, allow_nd, ensure_min_samples, ensure_min_features, warn_on_dtype, estimator)\u001b[0m\n\u001b[0;32m    431\u001b[0m                                       force_all_finite)\n\u001b[0;32m    432\u001b[0m     \u001b[1;32melse\u001b[0m\u001b[1;33m:\u001b[0m\u001b[1;33m\u001b[0m\u001b[0m\n\u001b[1;32m--> 433\u001b[1;33m         \u001b[0marray\u001b[0m \u001b[1;33m=\u001b[0m \u001b[0mnp\u001b[0m\u001b[1;33m.\u001b[0m\u001b[0marray\u001b[0m\u001b[1;33m(\u001b[0m\u001b[0marray\u001b[0m\u001b[1;33m,\u001b[0m \u001b[0mdtype\u001b[0m\u001b[1;33m=\u001b[0m\u001b[0mdtype\u001b[0m\u001b[1;33m,\u001b[0m \u001b[0morder\u001b[0m\u001b[1;33m=\u001b[0m\u001b[0morder\u001b[0m\u001b[1;33m,\u001b[0m \u001b[0mcopy\u001b[0m\u001b[1;33m=\u001b[0m\u001b[0mcopy\u001b[0m\u001b[1;33m)\u001b[0m\u001b[1;33m\u001b[0m\u001b[0m\n\u001b[0m\u001b[0;32m    434\u001b[0m \u001b[1;33m\u001b[0m\u001b[0m\n\u001b[0;32m    435\u001b[0m         \u001b[1;32mif\u001b[0m \u001b[0mensure_2d\u001b[0m\u001b[1;33m:\u001b[0m\u001b[1;33m\u001b[0m\u001b[0m\n",
      "\u001b[1;31mMemoryError\u001b[0m: "
     ]
    }
   ],
   "source": [
    "model.fit(x_train,y_train)"
   ]
  },
  {
   "cell_type": "code",
   "execution_count": 61,
   "metadata": {
    "collapsed": true
   },
   "outputs": [],
   "source": [
    "imp_feat_rft = pd.Series(model.feature_importances_, index=x_train.columns).sort_values(ascending=False)"
   ]
  },
  {
   "cell_type": "code",
   "execution_count": 102,
   "metadata": {},
   "outputs": [
    {
     "data": {
      "text/plain": [
       "char_38            0.172053\n",
       "char_2_y_type 2    0.158835\n",
       "char_37            0.086234\n",
       "char_2_y_type 3    0.082146\n",
       "char_8_y_type 2    0.080370\n",
       "dtype: float64"
      ]
     },
     "execution_count": 102,
     "metadata": {},
     "output_type": "execute_result"
    }
   ],
   "source": [
    "imp_feat_rft.head()"
   ]
  },
  {
   "cell_type": "code",
   "execution_count": 63,
   "metadata": {
    "collapsed": true
   },
   "outputs": [],
   "source": [
    "indices = np.argsort(model.feature_importances_)[::-1]"
   ]
  },
  {
   "cell_type": "markdown",
   "metadata": {},
   "source": [
    "Take Top60 features"
   ]
  },
  {
   "cell_type": "code",
   "execution_count": 64,
   "metadata": {
    "collapsed": true
   },
   "outputs": [],
   "source": [
    "select_feat =[str(s) for s in x_train.columns[indices][:60]]"
   ]
  },
  {
   "cell_type": "code",
   "execution_count": 65,
   "metadata": {},
   "outputs": [
    {
     "data": {
      "text/plain": [
       "['char_38',\n",
       " 'char_2_y_type 2',\n",
       " 'char_37',\n",
       " 'char_2_y_type 3',\n",
       " 'char_8_y_type 2',\n",
       " 'char_13',\n",
       " 'char_8_y_type 3',\n",
       " 'char_19',\n",
       " 'char_6_y_type 1',\n",
       " 'char_20',\n",
       " 'char_36',\n",
       " 'char_1_y_type 1',\n",
       " 'char_25',\n",
       " 'char_9_y_type 3',\n",
       " 'activity_category_type 3',\n",
       " 'char_2_y_type 1',\n",
       " 'char_23',\n",
       " 'char_6_y_type 5',\n",
       " 'char_9_y_type 2',\n",
       " 'y_day',\n",
       " 'char_28',\n",
       " 'char_6_y_type 2',\n",
       " 'x_day',\n",
       " 'char_31',\n",
       " 'x_month',\n",
       " 'activity_category_type 2',\n",
       " 'char_3_y_type 11',\n",
       " 'char_1_y_type 2',\n",
       " 'char_5_y_type 9',\n",
       " 'char_7_y_type 6',\n",
       " 'char_7_y_type 21',\n",
       " 'char_22',\n",
       " 'char_9_y_type 4',\n",
       " 'char_34',\n",
       " 'char_27',\n",
       " 'char_9_y_type 9',\n",
       " 'char_21',\n",
       " 'char_8_y_type 4',\n",
       " 'char_10_y',\n",
       " 'char_5_y_type 2',\n",
       " 'char_16',\n",
       " 'y_dayofweek',\n",
       " 'char_7_y_type 14',\n",
       " 'char_7_y_type 5',\n",
       " 'char_32',\n",
       " 'char_18',\n",
       " 'activity_category_type 4',\n",
       " 'char_6_y_type 6',\n",
       " 'char_7_y_type 12',\n",
       " 'char_7_y_type 23',\n",
       " 'char_8_y_type 1',\n",
       " 'char_7_y_type 10',\n",
       " 'char_7_y_type 1',\n",
       " 'char_24',\n",
       " 'char_3_y_type 5',\n",
       " 'char_4_y_type 25',\n",
       " 'char_6_y_type 4',\n",
       " 'char_9_y_type 8',\n",
       " 'char_7_y_type 16',\n",
       " 'char_7_y_type 24']"
      ]
     },
     "execution_count": 65,
     "metadata": {},
     "output_type": "execute_result"
    }
   ],
   "source": [
    "select_feat"
   ]
  },
  {
   "cell_type": "markdown",
   "metadata": {},
   "source": [
    "# Train"
   ]
  },
  {
   "cell_type": "code",
   "execution_count": 93,
   "metadata": {
    "collapsed": true
   },
   "outputs": [],
   "source": [
    "x_train = x_train[select_feat]\n",
    "x_test = x_test[select_feat]\n",
    "y_train = train[\"outcome\"]"
   ]
  },
  {
   "cell_type": "code",
   "execution_count": 69,
   "metadata": {
    "collapsed": true
   },
   "outputs": [],
   "source": [
    "import xgboost as xgb"
   ]
  },
  {
   "cell_type": "code",
   "execution_count": 71,
   "metadata": {},
   "outputs": [
    {
     "data": {
      "text/plain": [
       "XGBClassifier(base_score=0.5, colsample_bylevel=1, colsample_bytree=1,\n",
       "       gamma=0, learning_rate=0.1, max_delta_step=0, max_depth=7,\n",
       "       min_child_weight=1, missing=None, n_estimators=30, nthread=4,\n",
       "       objective='binary:logistic', reg_alpha=0, reg_lambda=1,\n",
       "       scale_pos_weight=1, seed=0, silent=True, subsample=1)"
      ]
     },
     "execution_count": 71,
     "metadata": {},
     "output_type": "execute_result"
    }
   ],
   "source": [
    "model = xgb.XGBClassifier(nthread=4,n_estimators=30,max_depth=7)\n",
    "model"
   ]
  },
  {
   "cell_type": "code",
   "execution_count": 95,
   "metadata": {},
   "outputs": [
    {
     "data": {
      "text/plain": [
       "XGBClassifier(base_score=0.5, colsample_bylevel=1, colsample_bytree=1,\n",
       "       gamma=0, learning_rate=0.1, max_delta_step=0, max_depth=7,\n",
       "       min_child_weight=1, missing=None, n_estimators=30, nthread=4,\n",
       "       objective='binary:logistic', reg_alpha=0, reg_lambda=1,\n",
       "       scale_pos_weight=1, seed=0, silent=True, subsample=1)"
      ]
     },
     "execution_count": 95,
     "metadata": {},
     "output_type": "execute_result"
    }
   ],
   "source": [
    "model.fit(x_train,y_train)"
   ]
  },
  {
   "cell_type": "markdown",
   "metadata": {},
   "source": [
    "# Predict"
   ]
  },
  {
   "cell_type": "code",
   "execution_count": 96,
   "metadata": {
    "collapsed": true
   },
   "outputs": [],
   "source": [
    "predict = model.predict(x_test)"
   ]
  },
  {
   "cell_type": "code",
   "execution_count": 97,
   "metadata": {},
   "outputs": [
    {
     "data": {
      "text/plain": [
       "498687"
      ]
     },
     "execution_count": 97,
     "metadata": {},
     "output_type": "execute_result"
    }
   ],
   "source": [
    "len(predict)"
   ]
  },
  {
   "cell_type": "markdown",
   "metadata": {},
   "source": [
    "# Submission"
   ]
  },
  {
   "cell_type": "code",
   "execution_count": 98,
   "metadata": {
    "collapsed": true
   },
   "outputs": [],
   "source": [
    "submit = pd.read_csv(\"sample_submission.csv\", index_col=\"activity_id\")"
   ]
  },
  {
   "cell_type": "code",
   "execution_count": 99,
   "metadata": {
    "collapsed": true
   },
   "outputs": [],
   "source": [
    "submit[\"outcome\"]=predict"
   ]
  },
  {
   "cell_type": "code",
   "execution_count": 100,
   "metadata": {
    "collapsed": true
   },
   "outputs": [],
   "source": [
    "submit.to_csv(\"submit_without_hyper2.csv\")"
   ]
  },
  {
   "cell_type": "markdown",
   "metadata": {},
   "source": [
    "Kggle score: 0.862506"
   ]
  },
  {
   "cell_type": "code",
   "execution_count": null,
   "metadata": {
    "collapsed": true
   },
   "outputs": [],
   "source": []
  }
 ],
 "metadata": {
  "kernelspec": {
   "display_name": "Python 3",
   "language": "python",
   "name": "python3"
  },
  "language_info": {
   "codemirror_mode": {
    "name": "ipython",
    "version": 3
   },
   "file_extension": ".py",
   "mimetype": "text/x-python",
   "name": "python",
   "nbconvert_exporter": "python",
   "pygments_lexer": "ipython3",
   "version": "3.6.3"
  }
 },
 "nbformat": 4,
 "nbformat_minor": 2
}
